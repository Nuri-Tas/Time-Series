{
 "cells": [
  {
   "cell_type": "code",
   "execution_count": 199,
   "id": "72eaade4",
   "metadata": {},
   "outputs": [],
   "source": [
    "import pandas as pd\n",
    "import numpy as np \n",
    "import plotly.express as px\n",
    "import plotly.graph_objects as go\n",
    "import matplotlib.pyplot as plt"
    "%matplotlib inline"
   ]
  },
  {
   "cell_type": "markdown",
   "id": "7fb0bc2e",
   "metadata": {},
   "source": [
    "Import the dataset of the daily average temperatures for cities around the world. The dataset is from https://www.kaggle.com/datasets/sudalairajkumar/daily-temperature-of-major-cities"
   ]
  },
  {
   "cell_type": "code",
   "execution_count": 200,
   "id": "d51a666f",
   "metadata": {},
   "outputs": [],
   "source": [
    "df = pd.read_csv(r'C:\\Users\\Lenovo\\Desktop\\gui prj\\city_temperature.csv', low_memory=False)"
   ]
  },
  {
   "cell_type": "code",
   "execution_count": 201,
   "id": "4afd2b41",
   "metadata": {},
   "outputs": [
    {
     "data": {
      "text/html": [
       "<div>\n",
       "<style scoped>\n",
       "    .dataframe tbody tr th:only-of-type {\n",
       "        vertical-align: middle;\n",
       "    }\n",
       "\n",
       "    .dataframe tbody tr th {\n",
       "        vertical-align: top;\n",
       "    }\n",
       "\n",
       "    .dataframe thead th {\n",
       "        text-align: right;\n",
       "    }\n",
       "</style>\n",
       "<table border=\"1\" class=\"dataframe\">\n",
       "  <thead>\n",
       "    <tr style=\"text-align: right;\">\n",
       "      <th></th>\n",
       "      <th>Region</th>\n",
       "      <th>Country</th>\n",
       "      <th>State</th>\n",
       "      <th>City</th>\n",
       "      <th>Month</th>\n",
       "      <th>Day</th>\n",
       "      <th>Year</th>\n",
       "      <th>AvgTemperature</th>\n",
       "    </tr>\n",
       "  </thead>\n",
       "  <tbody>\n",
       "    <tr>\n",
       "      <th>0</th>\n",
       "      <td>Africa</td>\n",
       "      <td>Algeria</td>\n",
       "      <td>NaN</td>\n",
       "      <td>Algiers</td>\n",
       "      <td>1</td>\n",
       "      <td>1</td>\n",
       "      <td>1995</td>\n",
       "      <td>64.2</td>\n",
       "    </tr>\n",
       "    <tr>\n",
       "      <th>1</th>\n",
       "      <td>Africa</td>\n",
       "      <td>Algeria</td>\n",
       "      <td>NaN</td>\n",
       "      <td>Algiers</td>\n",
       "      <td>1</td>\n",
       "      <td>2</td>\n",
       "      <td>1995</td>\n",
       "      <td>49.4</td>\n",
       "    </tr>\n",
       "    <tr>\n",
       "      <th>2</th>\n",
       "      <td>Africa</td>\n",
       "      <td>Algeria</td>\n",
       "      <td>NaN</td>\n",
       "      <td>Algiers</td>\n",
       "      <td>1</td>\n",
       "      <td>3</td>\n",
       "      <td>1995</td>\n",
       "      <td>48.8</td>\n",
       "    </tr>\n",
       "    <tr>\n",
       "      <th>3</th>\n",
       "      <td>Africa</td>\n",
       "      <td>Algeria</td>\n",
       "      <td>NaN</td>\n",
       "      <td>Algiers</td>\n",
       "      <td>1</td>\n",
       "      <td>4</td>\n",
       "      <td>1995</td>\n",
       "      <td>46.4</td>\n",
       "    </tr>\n",
       "    <tr>\n",
       "      <th>4</th>\n",
       "      <td>Africa</td>\n",
       "      <td>Algeria</td>\n",
       "      <td>NaN</td>\n",
       "      <td>Algiers</td>\n",
       "      <td>1</td>\n",
       "      <td>5</td>\n",
       "      <td>1995</td>\n",
       "      <td>47.9</td>\n",
       "    </tr>\n",
       "  </tbody>\n",
       "</table>\n",
       "</div>"
      ],
      "text/plain": [
       "   Region  Country State     City  Month  Day  Year  AvgTemperature\n",
       "0  Africa  Algeria   NaN  Algiers      1    1  1995            64.2\n",
       "1  Africa  Algeria   NaN  Algiers      1    2  1995            49.4\n",
       "2  Africa  Algeria   NaN  Algiers      1    3  1995            48.8\n",
       "3  Africa  Algeria   NaN  Algiers      1    4  1995            46.4\n",
       "4  Africa  Algeria   NaN  Algiers      1    5  1995            47.9"
      ]
     },
     "execution_count": 201,
     "metadata": {},
     "output_type": "execute_result"
    }
   ],
   "source": [
    "df.head(5)"
   ]
  },
  {
   "cell_type": "markdown",
   "id": "3049e5d1",
   "metadata": {},
   "source": [
    "Check that what percentage of the entries in State column are null"
   ]
  },
  {
   "cell_type": "code",
   "execution_count": 202,
   "id": "22320a27",
   "metadata": {},
   "outputs": [
    {
     "name": "stdout",
     "output_type": "stream",
     "text": [
      "About 50% of State column contains no values\n"
     ]
    }
   ],
   "source": [
    "null_perc_state = sum(pd.isnull(df.State)) / df.shape[0] *100\n",
    "print(f\"About {round(null_perc_state)}% of State column contains no values\")"
   ]
  },
  {
   "cell_type": "markdown",
   "id": "f533e617",
   "metadata": {},
   "source": [
    "Is there any row where the state is not null and region name does not contain the word 'America'?"
   ]
  },
  {
   "cell_type": "code",
   "execution_count": 203,
   "id": "911567c2",
   "metadata": {},
   "outputs": [
    {
     "data": {
      "text/html": [
       "<div>\n",
       "<style scoped>\n",
       "    .dataframe tbody tr th:only-of-type {\n",
       "        vertical-align: middle;\n",
       "    }\n",
       "\n",
       "    .dataframe tbody tr th {\n",
       "        vertical-align: top;\n",
       "    }\n",
       "\n",
       "    .dataframe thead th {\n",
       "        text-align: right;\n",
       "    }\n",
       "</style>\n",
       "<table border=\"1\" class=\"dataframe\">\n",
       "  <thead>\n",
       "    <tr style=\"text-align: right;\">\n",
       "      <th></th>\n",
       "      <th>Region</th>\n",
       "      <th>Country</th>\n",
       "      <th>State</th>\n",
       "      <th>City</th>\n",
       "      <th>Month</th>\n",
       "      <th>Day</th>\n",
       "      <th>Year</th>\n",
       "      <th>AvgTemperature</th>\n",
       "    </tr>\n",
       "  </thead>\n",
       "  <tbody>\n",
       "  </tbody>\n",
       "</table>\n",
       "</div>"
      ],
      "text/plain": [
       "Empty DataFrame\n",
       "Columns: [Region, Country, State, City, Month, Day, Year, AvgTemperature]\n",
       "Index: []"
      ]
     },
     "execution_count": 203,
     "metadata": {},
     "output_type": "execute_result"
    }
   ],
   "source": [
    "df[df.State.notnull() & ~df.Region.str.contains('America')]"
   ]
  },
  {
   "cell_type": "markdown",
   "id": "86809519",
   "metadata": {},
   "source": [
    "Apparently, the state column is only for the US cities and now we can drop the state column as it does not have any valuable insight."
   ]
  },
  {
   "cell_type": "code",
   "execution_count": 204,
   "id": "4857e5ad",
   "metadata": {},
   "outputs": [
    {
     "data": {
      "text/html": [
       "<div>\n",
       "<style scoped>\n",
       "    .dataframe tbody tr th:only-of-type {\n",
       "        vertical-align: middle;\n",
       "    }\n",
       "\n",
       "    .dataframe tbody tr th {\n",
       "        vertical-align: top;\n",
       "    }\n",
       "\n",
       "    .dataframe thead th {\n",
       "        text-align: right;\n",
       "    }\n",
       "</style>\n",
       "<table border=\"1\" class=\"dataframe\">\n",
       "  <thead>\n",
       "    <tr style=\"text-align: right;\">\n",
       "      <th></th>\n",
       "      <th>Region</th>\n",
       "      <th>Country</th>\n",
       "      <th>City</th>\n",
       "      <th>Month</th>\n",
       "      <th>Day</th>\n",
       "      <th>Year</th>\n",
       "      <th>AvgTemperature</th>\n",
       "    </tr>\n",
       "  </thead>\n",
       "  <tbody>\n",
       "    <tr>\n",
       "      <th>0</th>\n",
       "      <td>Africa</td>\n",
       "      <td>Algeria</td>\n",
       "      <td>Algiers</td>\n",
       "      <td>1</td>\n",
       "      <td>1</td>\n",
       "      <td>1995</td>\n",
       "      <td>64.2</td>\n",
       "    </tr>\n",
       "    <tr>\n",
       "      <th>1</th>\n",
       "      <td>Africa</td>\n",
       "      <td>Algeria</td>\n",
       "      <td>Algiers</td>\n",
       "      <td>1</td>\n",
       "      <td>2</td>\n",
       "      <td>1995</td>\n",
       "      <td>49.4</td>\n",
       "    </tr>\n",
       "    <tr>\n",
       "      <th>2</th>\n",
       "      <td>Africa</td>\n",
       "      <td>Algeria</td>\n",
       "      <td>Algiers</td>\n",
       "      <td>1</td>\n",
       "      <td>3</td>\n",
       "      <td>1995</td>\n",
       "      <td>48.8</td>\n",
       "    </tr>\n",
       "    <tr>\n",
       "      <th>3</th>\n",
       "      <td>Africa</td>\n",
       "      <td>Algeria</td>\n",
       "      <td>Algiers</td>\n",
       "      <td>1</td>\n",
       "      <td>4</td>\n",
       "      <td>1995</td>\n",
       "      <td>46.4</td>\n",
       "    </tr>\n",
       "    <tr>\n",
       "      <th>4</th>\n",
       "      <td>Africa</td>\n",
       "      <td>Algeria</td>\n",
       "      <td>Algiers</td>\n",
       "      <td>1</td>\n",
       "      <td>5</td>\n",
       "      <td>1995</td>\n",
       "      <td>47.9</td>\n",
       "    </tr>\n",
       "  </tbody>\n",
       "</table>\n",
       "</div>"
      ],
      "text/plain": [
       "   Region  Country     City  Month  Day  Year  AvgTemperature\n",
       "0  Africa  Algeria  Algiers      1    1  1995            64.2\n",
       "1  Africa  Algeria  Algiers      1    2  1995            49.4\n",
       "2  Africa  Algeria  Algiers      1    3  1995            48.8\n",
       "3  Africa  Algeria  Algiers      1    4  1995            46.4\n",
       "4  Africa  Algeria  Algiers      1    5  1995            47.9"
      ]
     },
     "execution_count": 204,
     "metadata": {},
     "output_type": "execute_result"
    }
   ],
   "source": [
    "df.drop(columns=['State'], inplace = True)\n",
    "df.head()"
   ]
  },
  {
   "cell_type": "markdown",
   "id": "1d3d7278",
   "metadata": {},
   "source": [
    "Remove the rows where average temperature column has no entry"
   ]
  },
  {
   "cell_type": "code",
   "execution_count": 205,
   "id": "f73f7141",
   "metadata": {},
   "outputs": [
    {
     "data": {
      "text/plain": [
       "False"
      ]
     },
     "execution_count": 205,
     "metadata": {},
     "output_type": "execute_result"
    }
   ],
   "source": [
    "df = df[df['AvgTemperature'].notnull()]\n",
    "df['AvgTemperature'].isnull().any()"
   ]
  },
  {
   "cell_type": "code",
   "execution_count": 206,
   "id": "903e783b",
   "metadata": {},
   "outputs": [
    {
     "data": {
      "text/plain": [
       "0"
      ]
     },
     "execution_count": 206,
     "metadata": {},
     "output_type": "execute_result"
    }
   ],
   "source": [
    "sum(df['AvgTemperature'].isnull())"
   ]
  },
  {
   "cell_type": "markdown",
   "id": "4a2d3edc",
   "metadata": {},
   "source": [
    "How many rows and columns does the dataframe have?"
   ]
  },
  {
   "cell_type": "code",
   "execution_count": 207,
   "id": "6d2641f5",
   "metadata": {},
   "outputs": [
    {
     "data": {
      "text/plain": [
       "(2906327, 7)"
      ]
     },
     "execution_count": 207,
     "metadata": {},
     "output_type": "execute_result"
    }
   ],
   "source": [
    "df.shape"
   ]
  },
  {
   "cell_type": "markdown",
   "id": "48347e1a",
   "metadata": {},
   "source": [
    "Convert the average temperature from fahrenheit to celsius"
   ]
  },
  {
   "cell_type": "code",
   "execution_count": 208,
   "id": "12e58be0",
   "metadata": {},
   "outputs": [],
   "source": [
    "def celsius(f):\n",
    "    return (f - 32) * 5 / 9\n",
    "\n",
    "df['AvgTemperature'] = df['AvgTemperature'].apply(lambda x: celsius(x))"
   ]
  },
  {
   "cell_type": "markdown",
   "id": "9a9bd1df",
   "metadata": {},
   "source": [
    "Basic stats about the dataframe:"
   ]
  },
  {
   "cell_type": "code",
   "execution_count": 209,
   "id": "c795b753",
   "metadata": {},
   "outputs": [
    {
     "data": {
      "text/html": [
       "<div>\n",
       "<style scoped>\n",
       "    .dataframe tbody tr th:only-of-type {\n",
       "        vertical-align: middle;\n",
       "    }\n",
       "\n",
       "    .dataframe tbody tr th {\n",
       "        vertical-align: top;\n",
       "    }\n",
       "\n",
       "    .dataframe thead th {\n",
       "        text-align: right;\n",
       "    }\n",
       "</style>\n",
       "<table border=\"1\" class=\"dataframe\">\n",
       "  <thead>\n",
       "    <tr style=\"text-align: right;\">\n",
       "      <th></th>\n",
       "      <th>Month</th>\n",
       "      <th>Day</th>\n",
       "      <th>Year</th>\n",
       "      <th>AvgTemperature</th>\n",
       "    </tr>\n",
       "  </thead>\n",
       "  <tbody>\n",
       "    <tr>\n",
       "      <th>count</th>\n",
       "      <td>2.906327e+06</td>\n",
       "      <td>2.906327e+06</td>\n",
       "      <td>2.906327e+06</td>\n",
       "      <td>2.906327e+06</td>\n",
       "    </tr>\n",
       "    <tr>\n",
       "      <th>mean</th>\n",
       "      <td>6.469163e+00</td>\n",
       "      <td>1.571682e+01</td>\n",
       "      <td>2.006624e+03</td>\n",
       "      <td>1.333607e+01</td>\n",
       "    </tr>\n",
       "    <tr>\n",
       "      <th>std</th>\n",
       "      <td>3.456489e+00</td>\n",
       "      <td>8.800534e+00</td>\n",
       "      <td>2.338226e+01</td>\n",
       "      <td>1.784644e+01</td>\n",
       "    </tr>\n",
       "    <tr>\n",
       "      <th>min</th>\n",
       "      <td>1.000000e+00</td>\n",
       "      <td>0.000000e+00</td>\n",
       "      <td>2.000000e+02</td>\n",
       "      <td>-7.277778e+01</td>\n",
       "    </tr>\n",
       "    <tr>\n",
       "      <th>25%</th>\n",
       "      <td>3.000000e+00</td>\n",
       "      <td>8.000000e+00</td>\n",
       "      <td>2.001000e+03</td>\n",
       "      <td>7.666667e+00</td>\n",
       "    </tr>\n",
       "    <tr>\n",
       "      <th>50%</th>\n",
       "      <td>6.000000e+00</td>\n",
       "      <td>1.600000e+01</td>\n",
       "      <td>2.007000e+03</td>\n",
       "      <td>1.694444e+01</td>\n",
       "    </tr>\n",
       "    <tr>\n",
       "      <th>75%</th>\n",
       "      <td>9.000000e+00</td>\n",
       "      <td>2.300000e+01</td>\n",
       "      <td>2.013000e+03</td>\n",
       "      <td>2.416667e+01</td>\n",
       "    </tr>\n",
       "    <tr>\n",
       "      <th>max</th>\n",
       "      <td>1.200000e+01</td>\n",
       "      <td>3.100000e+01</td>\n",
       "      <td>2.020000e+03</td>\n",
       "      <td>4.333333e+01</td>\n",
       "    </tr>\n",
       "  </tbody>\n",
       "</table>\n",
       "</div>"
      ],
      "text/plain": [
       "              Month           Day          Year  AvgTemperature\n",
       "count  2.906327e+06  2.906327e+06  2.906327e+06    2.906327e+06\n",
       "mean   6.469163e+00  1.571682e+01  2.006624e+03    1.333607e+01\n",
       "std    3.456489e+00  8.800534e+00  2.338226e+01    1.784644e+01\n",
       "min    1.000000e+00  0.000000e+00  2.000000e+02   -7.277778e+01\n",
       "25%    3.000000e+00  8.000000e+00  2.001000e+03    7.666667e+00\n",
       "50%    6.000000e+00  1.600000e+01  2.007000e+03    1.694444e+01\n",
       "75%    9.000000e+00  2.300000e+01  2.013000e+03    2.416667e+01\n",
       "max    1.200000e+01  3.100000e+01  2.020000e+03    4.333333e+01"
      ]
     },
     "execution_count": 209,
     "metadata": {},
     "output_type": "execute_result"
    }
   ],
   "source": [
    "df.describe()"
   ]
  },
  {
   "cell_type": "markdown",
   "id": "d2d33033",
   "metadata": {},
   "source": [
    "Note that since max and min average temperatures do not sound as realistic values, the previous unit for temperature is evidently not in fahrenheit or the column may have mixed temperature. Let's convert the average temperature column to its previous form to play safe. "
   ]
  },
  {
   "cell_type": "code",
   "execution_count": 210,
   "id": "95aaa291",
   "metadata": {},
   "outputs": [],
   "source": [
    "def retvrn(c):\n",
    "    return c* 9 / 5 + 32 \n",
    "\n",
    "df['AvgTemperature'] = df['AvgTemperature'].apply(lambda x: retvrn(x))"
   ]
  },
  {
   "cell_type": "markdown",
   "id": "b0647f81",
   "metadata": {},
   "source": [
    "Find the outliers. <br>\n",
    "Plot the average temperature histogram to see if there is any anomalies among the temperatures"
   ]
  },
  {
   "cell_type": "code",
   "execution_count": 211,
   "id": "70be7c1e",
   "metadata": {},
   "outputs": [
    {
     "data": {
      "text/plain": [
       "<AxesSubplot:>"
      ]
     },
     "execution_count": 211,
     "metadata": {},
     "output_type": "execute_result"
    },
    {
     "data": {
      "image/png": "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\n",
      "text/plain": [
       "<Figure size 432x288 with 1 Axes>"
      ]
     },
     "metadata": {},
     "output_type": "display_data"
    }
   ],
   "source": [
    "df['AvgTemperature'].hist()"
   ]
  },
  {
   "cell_type": "markdown",
   "id": "47d2b255",
   "metadata": {},
   "source": [
    "There are around a ten thousand days where the recorded temperature is between -80 and -100. Let's remove those outliers. "
   ]
  },
  {
   "cell_type": "code",
   "execution_count": 212,
   "id": "fb2a50c7",
   "metadata": {},
   "outputs": [],
   "source": [
    "df = df[df['AvgTemperature'] > -50]"
   ]
  },
  {
   "cell_type": "markdown",
   "id": "5fa54780",
   "metadata": {},
   "source": [
    "Plot the histogram again"
   ]
  },
  {
   "cell_type": "code",
   "execution_count": 213,
   "id": "9e08e5cd",
   "metadata": {},
   "outputs": [
    {
     "data": {
      "text/plain": [
       "<AxesSubplot:>"
      ]
     },
     "execution_count": 213,
     "metadata": {},
     "output_type": "execute_result"
    },
    {
     "data": {
      "image/png": "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\n",
      "text/plain": [
       "<Figure size 432x288 with 1 Axes>"
      ]
     },
     "metadata": {},
     "output_type": "display_data"
    }
   ],
   "source": [
    "df['AvgTemperature'].hist()"
   ]
  },
  {
   "cell_type": "code",
   "execution_count": 214,
   "id": "e7b4df78",
   "metadata": {},
   "outputs": [
    {
     "data": {
      "text/plain": [
       "1498811    -49.1\n",
       "1503552    -47.7\n",
       "1499141    -46.9\n",
       "1498050    -46.2\n",
       "1498810    -45.9\n",
       "           ...  \n",
       "1036042    109.9\n",
       "1034963    109.9\n",
       "1036756    109.9\n",
       "1032390    109.9\n",
       "1034962    110.0\n",
       "Name: AvgTemperature, Length: 2826654, dtype: float64"
      ]
     },
     "execution_count": 214,
     "metadata": {},
     "output_type": "execute_result"
    }
   ],
   "source": [
    "df['AvgTemperature'].sort_values()"
   ]
  },
  {
   "cell_type": "markdown",
   "id": "a7abdef1",
   "metadata": {},
   "source": [
    "Reorder the dataframe with respect to year, month, day in descending order"
   ]
  },
  {
   "cell_type": "code",
   "execution_count": 215,
   "id": "79a7992c",
   "metadata": {},
   "outputs": [
    {
     "data": {
      "text/html": [
       "<div>\n",
       "<style scoped>\n",
       "    .dataframe tbody tr th:only-of-type {\n",
       "        vertical-align: middle;\n",
       "    }\n",
       "\n",
       "    .dataframe tbody tr th {\n",
       "        vertical-align: top;\n",
       "    }\n",
       "\n",
       "    .dataframe thead th {\n",
       "        text-align: right;\n",
       "    }\n",
       "</style>\n",
       "<table border=\"1\" class=\"dataframe\">\n",
       "  <thead>\n",
       "    <tr style=\"text-align: right;\">\n",
       "      <th></th>\n",
       "      <th>Region</th>\n",
       "      <th>Country</th>\n",
       "      <th>City</th>\n",
       "      <th>Month</th>\n",
       "      <th>Day</th>\n",
       "      <th>Year</th>\n",
       "      <th>AvgTemperature</th>\n",
       "    </tr>\n",
       "  </thead>\n",
       "  <tbody>\n",
       "    <tr>\n",
       "      <th>9265</th>\n",
       "      <td>Africa</td>\n",
       "      <td>Algeria</td>\n",
       "      <td>Algiers</td>\n",
       "      <td>5</td>\n",
       "      <td>13</td>\n",
       "      <td>2020</td>\n",
       "      <td>60.8</td>\n",
       "    </tr>\n",
       "    <tr>\n",
       "      <th>23074</th>\n",
       "      <td>Africa</td>\n",
       "      <td>Benin</td>\n",
       "      <td>Cotonou</td>\n",
       "      <td>5</td>\n",
       "      <td>13</td>\n",
       "      <td>2020</td>\n",
       "      <td>83.5</td>\n",
       "    </tr>\n",
       "    <tr>\n",
       "      <th>32340</th>\n",
       "      <td>Africa</td>\n",
       "      <td>Central African Republic</td>\n",
       "      <td>Bangui</td>\n",
       "      <td>5</td>\n",
       "      <td>13</td>\n",
       "      <td>2020</td>\n",
       "      <td>79.2</td>\n",
       "    </tr>\n",
       "    <tr>\n",
       "      <th>50871</th>\n",
       "      <td>Africa</td>\n",
       "      <td>Egypt</td>\n",
       "      <td>Cairo</td>\n",
       "      <td>5</td>\n",
       "      <td>13</td>\n",
       "      <td>2020</td>\n",
       "      <td>69.0</td>\n",
       "    </tr>\n",
       "    <tr>\n",
       "      <th>69430</th>\n",
       "      <td>Africa</td>\n",
       "      <td>Gabon</td>\n",
       "      <td>Libreville</td>\n",
       "      <td>5</td>\n",
       "      <td>13</td>\n",
       "      <td>2020</td>\n",
       "      <td>80.2</td>\n",
       "    </tr>\n",
       "  </tbody>\n",
       "</table>\n",
       "</div>"
      ],
      "text/plain": [
       "       Region                   Country        City  Month  Day  Year  \\\n",
       "9265   Africa                   Algeria     Algiers      5   13  2020   \n",
       "23074  Africa                     Benin     Cotonou      5   13  2020   \n",
       "32340  Africa  Central African Republic      Bangui      5   13  2020   \n",
       "50871  Africa                     Egypt       Cairo      5   13  2020   \n",
       "69430  Africa                     Gabon  Libreville      5   13  2020   \n",
       "\n",
       "       AvgTemperature  \n",
       "9265             60.8  \n",
       "23074            83.5  \n",
       "32340            79.2  \n",
       "50871            69.0  \n",
       "69430            80.2  "
      ]
     },
     "execution_count": 215,
     "metadata": {},
     "output_type": "execute_result"
    }
   ],
   "source": [
    "df.sort_values(by=['Year', 'Month', 'Day'], ascending=False, inplace = True)\n",
    "df.head()"
   ]
  },
  {
   "cell_type": "code",
   "execution_count": 216,
   "id": "4f92ce3e",
   "metadata": {},
   "outputs": [
    {
     "data": {
      "text/html": [
       "<div>\n",
       "<style scoped>\n",
       "    .dataframe tbody tr th:only-of-type {\n",
       "        vertical-align: middle;\n",
       "    }\n",
       "\n",
       "    .dataframe tbody tr th {\n",
       "        vertical-align: top;\n",
       "    }\n",
       "\n",
       "    .dataframe thead th {\n",
       "        text-align: right;\n",
       "    }\n",
       "</style>\n",
       "<table border=\"1\" class=\"dataframe\">\n",
       "  <thead>\n",
       "    <tr style=\"text-align: right;\">\n",
       "      <th></th>\n",
       "      <th>Region</th>\n",
       "      <th>Country</th>\n",
       "      <th>City</th>\n",
       "      <th>Month</th>\n",
       "      <th>Day</th>\n",
       "      <th>Year</th>\n",
       "      <th>AvgTemperature</th>\n",
       "    </tr>\n",
       "  </thead>\n",
       "  <tbody>\n",
       "    <tr>\n",
       "      <th>2862480</th>\n",
       "      <td>North America</td>\n",
       "      <td>US</td>\n",
       "      <td>Madison</td>\n",
       "      <td>1</td>\n",
       "      <td>1</td>\n",
       "      <td>1995</td>\n",
       "      <td>19.6</td>\n",
       "    </tr>\n",
       "    <tr>\n",
       "      <th>2871745</th>\n",
       "      <td>North America</td>\n",
       "      <td>US</td>\n",
       "      <td>Milwaukee</td>\n",
       "      <td>1</td>\n",
       "      <td>1</td>\n",
       "      <td>1995</td>\n",
       "      <td>23.8</td>\n",
       "    </tr>\n",
       "    <tr>\n",
       "      <th>2881010</th>\n",
       "      <td>North America</td>\n",
       "      <td>US</td>\n",
       "      <td>Casper</td>\n",
       "      <td>1</td>\n",
       "      <td>1</td>\n",
       "      <td>1995</td>\n",
       "      <td>10.1</td>\n",
       "    </tr>\n",
       "    <tr>\n",
       "      <th>2890275</th>\n",
       "      <td>North America</td>\n",
       "      <td>US</td>\n",
       "      <td>Cheyenne</td>\n",
       "      <td>1</td>\n",
       "      <td>1</td>\n",
       "      <td>1995</td>\n",
       "      <td>8.8</td>\n",
       "    </tr>\n",
       "    <tr>\n",
       "      <th>2899540</th>\n",
       "      <td>North America</td>\n",
       "      <td>US</td>\n",
       "      <td>San Juan Puerto Rico</td>\n",
       "      <td>1</td>\n",
       "      <td>1</td>\n",
       "      <td>1995</td>\n",
       "      <td>77.4</td>\n",
       "    </tr>\n",
       "  </tbody>\n",
       "</table>\n",
       "</div>"
      ],
      "text/plain": [
       "                Region Country                  City  Month  Day  Year  \\\n",
       "2862480  North America      US               Madison      1    1  1995   \n",
       "2871745  North America      US             Milwaukee      1    1  1995   \n",
       "2881010  North America      US                Casper      1    1  1995   \n",
       "2890275  North America      US              Cheyenne      1    1  1995   \n",
       "2899540  North America      US  San Juan Puerto Rico      1    1  1995   \n",
       "\n",
       "         AvgTemperature  \n",
       "2862480            19.6  \n",
       "2871745            23.8  \n",
       "2881010            10.1  \n",
       "2890275             8.8  \n",
       "2899540            77.4  "
      ]
     },
     "execution_count": 216,
     "metadata": {},
     "output_type": "execute_result"
    }
   ],
   "source": [
    "df.tail()"
   ]
  },
  {
   "cell_type": "markdown",
   "id": "a352981f",
   "metadata": {},
   "source": [
    "It has been shown that we do not have all the data for year 2020. Let's remove the rows for the days in 2020."
   ]
  },
  {
   "cell_type": "code",
   "execution_count": 217,
   "id": "0f7f0a85",
   "metadata": {},
   "outputs": [],
   "source": [
    "df = df[df.Year < 2020]"
   ]
  },
  {
   "cell_type": "markdown",
   "id": "7a9b94e7",
   "metadata": {},
   "source": [
    "Calculate the mean temperature for each year"
   ]
  },
  {
   "cell_type": "code",
   "execution_count": 218,
   "id": "6ceef420",
   "metadata": {},
   "outputs": [
    {
     "data": {
      "text/html": [
       "<div>\n",
       "<style scoped>\n",
       "    .dataframe tbody tr th:only-of-type {\n",
       "        vertical-align: middle;\n",
       "    }\n",
       "\n",
       "    .dataframe tbody tr th {\n",
       "        vertical-align: top;\n",
       "    }\n",
       "\n",
       "    .dataframe thead th {\n",
       "        text-align: right;\n",
       "    }\n",
       "</style>\n",
       "<table border=\"1\" class=\"dataframe\">\n",
       "  <thead>\n",
       "    <tr style=\"text-align: right;\">\n",
       "      <th></th>\n",
       "      <th>Year</th>\n",
       "      <th>AvgTemperature</th>\n",
       "    </tr>\n",
       "  </thead>\n",
       "  <tbody>\n",
       "    <tr>\n",
       "      <th>0</th>\n",
       "      <td>1995</td>\n",
       "      <td>59.421659</td>\n",
       "    </tr>\n",
       "    <tr>\n",
       "      <th>1</th>\n",
       "      <td>1996</td>\n",
       "      <td>58.674830</td>\n",
       "    </tr>\n",
       "    <tr>\n",
       "      <th>2</th>\n",
       "      <td>1997</td>\n",
       "      <td>59.133617</td>\n",
       "    </tr>\n",
       "    <tr>\n",
       "      <th>3</th>\n",
       "      <td>1998</td>\n",
       "      <td>60.870440</td>\n",
       "    </tr>\n",
       "    <tr>\n",
       "      <th>4</th>\n",
       "      <td>1999</td>\n",
       "      <td>60.328660</td>\n",
       "    </tr>\n",
       "  </tbody>\n",
       "</table>\n",
       "</div>"
      ],
      "text/plain": [
       "   Year  AvgTemperature\n",
       "0  1995       59.421659\n",
       "1  1996       58.674830\n",
       "2  1997       59.133617\n",
       "3  1998       60.870440\n",
       "4  1999       60.328660"
      ]
     },
     "execution_count": 218,
     "metadata": {},
     "output_type": "execute_result"
    }
   ],
   "source": [
    "year_avg = df[['Year', 'AvgTemperature']].groupby('Year').agg('mean').reset_index()\n",
    "year_avg.head()"
   ]
  },
  {
   "cell_type": "code",
   "execution_count": 219,
   "id": "b26f22f1",
   "metadata": {},
   "outputs": [
    {
     "data": {
      "image/png": "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\n",
      "text/plain": [
       "<Figure size 1152x864 with 1 Axes>"
      ]
     },
     "metadata": {},
     "output_type": "display_data"
    }
   ],
   "source": [
    "mean_average_temp = year_avg.AvgTemperature.rolling(window=6).mean()\n",
    "mean_average_temp.index = np.arange(1995, 2020)\n",
    "\n",
    "plt.figure(figsize=(16,12))\n",
    "plt.style.use('ggplot')\n",
    "plt.title('The Average Temperature over Years with Rolling Average')\n",
    "\n",
    "ax = plt.gca()\n",
    "\n",
    "ax.scatter(year_avg.Year, year_avg.AvgTemperature, c='dodgerblue')\n",
    "plt.plot(mean_average_temp.index, mean_average_temp.values, c='crimson')\n",
    "plt.xticks(year_avg.Year)\n",
    "\n",
    "plt.show()"
   ]
  },
  {
   "cell_type": "markdown",
   "id": "1ab59c62",
   "metadata": {},
   "source": [
    "Add an overall trend line to the graph"
   ]
  },
  {
   "cell_type": "code",
   "execution_count": 220,
   "id": "e78da632",
   "metadata": {},
   "outputs": [],
   "source": [
    "coefs = np.polyfit(year_avg.Year, year_avg.AvgTemperature, deg = 1)\n",
    "# y = mx + x0\n",
    "line = coefs[0]*year_avg.Year + coefs[1]"
   ]
  },
  {
   "cell_type": "code",
   "execution_count": 221,
   "id": "d6483809",
   "metadata": {},
   "outputs": [
    {
     "data": {
      "application/vnd.plotly.v1+json": {
       "config": {
        "plotlyServerURL": "https://plot.ly"
       },
       "data": [
        {
         "hovertemplate": "Year=%{x}<br>AvgTemperature=%{y}<extra></extra>",
         "legendgroup": "",
         "line": {
          "color": "#636efa",
          "dash": "solid"
         },
         "mode": "lines",
         "name": "",
         "orientation": "v",
         "showlegend": false,
         "type": "scatter",
         "x": [
          1995,
          1996,
          1997,
          1998,
          1999,
          2000,
          2001,
          2002,
          2003,
          2004,
          2005,
          2006,
          2007,
          2008,
          2009,
          2010,
          2011,
          2012,
          2013,
          2014,
          2015,
          2016,
          2017,
          2018,
          2019
         ],
         "xaxis": "x",
         "y": [
          59.42165899850204,
          58.674830131105075,
          59.1336169346271,
          60.87043977606163,
          60.32866011198801,
          59.699026005307914,
          60.326280177312036,
          60.256345937191945,
          59.99836021105501,
          60.09293437000969,
          60.523740361577,
          61.02458822602254,
          60.75195264180951,
          59.87335882332068,
          60.102735955105906,
          60.64285651431689,
          60.72023450496855,
          61.40452930328791,
          60.078363029357334,
          60.17884201743001,
          61.669437968710504,
          62.03345770326025,
          61.741110307176214,
          61.231365132201084,
          61.09613836418138
         ],
         "yaxis": "y"
        },
        {
         "type": "scatter",
         "x": [
          1995,
          1996,
          1997,
          1998,
          1999,
          2000,
          2001,
          2002,
          2003,
          2004,
          2005,
          2006,
          2007,
          2008,
          2009,
          2010,
          2011,
          2012,
          2013,
          2014,
          2015,
          2016,
          2017,
          2018,
          2019
         ],
         "y": [
          59.49985509336044,
          59.581116713933355,
          59.66237833450627,
          59.74363995507919,
          59.824901575652135,
          59.90616319622505,
          59.98742481679797,
          60.068686437370886,
          60.14994805794383,
          60.23120967851675,
          60.312471299089665,
          60.39373291966261,
          60.47499454023553,
          60.556256160808445,
          60.63751778138136,
          60.71877940195431,
          60.800041022527225,
          60.88130264310014,
          60.96256426367306,
          61.043825884246004,
          61.12508750481892,
          61.20634912539184,
          61.287610745964784,
          61.3688723665377,
          61.45013398711062
         ]
        }
       ],
       "layout": {
        "legend": {
         "tracegroupgap": 0
        },
        "margin": {
         "t": 60
        },
        "template": {
         "data": {
          "bar": [
           {
            "error_x": {
             "color": "#2a3f5f"
            },
            "error_y": {
             "color": "#2a3f5f"
            },
            "marker": {
             "line": {
              "color": "#E5ECF6",
              "width": 0.5
             },
             "pattern": {
              "fillmode": "overlay",
              "size": 10,
              "solidity": 0.2
             }
            },
            "type": "bar"
           }
          ],
          "barpolar": [
           {
            "marker": {
             "line": {
              "color": "#E5ECF6",
              "width": 0.5
             },
             "pattern": {
              "fillmode": "overlay",
              "size": 10,
              "solidity": 0.2
             }
            },
            "type": "barpolar"
           }
          ],
          "carpet": [
           {
            "aaxis": {
             "endlinecolor": "#2a3f5f",
             "gridcolor": "white",
             "linecolor": "white",
             "minorgridcolor": "white",
             "startlinecolor": "#2a3f5f"
            },
            "baxis": {
             "endlinecolor": "#2a3f5f",
             "gridcolor": "white",
             "linecolor": "white",
             "minorgridcolor": "white",
             "startlinecolor": "#2a3f5f"
            },
            "type": "carpet"
           }
          ],
          "choropleth": [
           {
            "colorbar": {
             "outlinewidth": 0,
             "ticks": ""
            },
            "type": "choropleth"
           }
          ],
          "contour": [
           {
            "colorbar": {
             "outlinewidth": 0,
             "ticks": ""
            },
            "colorscale": [
             [
              0,
              "#0d0887"
             ],
             [
              0.1111111111111111,
              "#46039f"
             ],
             [
              0.2222222222222222,
              "#7201a8"
             ],
             [
              0.3333333333333333,
              "#9c179e"
             ],
             [
              0.4444444444444444,
              "#bd3786"
             ],
             [
              0.5555555555555556,
              "#d8576b"
             ],
             [
              0.6666666666666666,
              "#ed7953"
             ],
             [
              0.7777777777777778,
              "#fb9f3a"
             ],
             [
              0.8888888888888888,
              "#fdca26"
             ],
             [
              1,
              "#f0f921"
             ]
            ],
            "type": "contour"
           }
          ],
          "contourcarpet": [
           {
            "colorbar": {
             "outlinewidth": 0,
             "ticks": ""
            },
            "type": "contourcarpet"
           }
          ],
          "heatmap": [
           {
            "colorbar": {
             "outlinewidth": 0,
             "ticks": ""
            },
            "colorscale": [
             [
              0,
              "#0d0887"
             ],
             [
              0.1111111111111111,
              "#46039f"
             ],
             [
              0.2222222222222222,
              "#7201a8"
             ],
             [
              0.3333333333333333,
              "#9c179e"
             ],
             [
              0.4444444444444444,
              "#bd3786"
             ],
             [
              0.5555555555555556,
              "#d8576b"
             ],
             [
              0.6666666666666666,
              "#ed7953"
             ],
             [
              0.7777777777777778,
              "#fb9f3a"
             ],
             [
              0.8888888888888888,
              "#fdca26"
             ],
             [
              1,
              "#f0f921"
             ]
            ],
            "type": "heatmap"
           }
          ],
          "heatmapgl": [
           {
            "colorbar": {
             "outlinewidth": 0,
             "ticks": ""
            },
            "colorscale": [
             [
              0,
              "#0d0887"
             ],
             [
              0.1111111111111111,
              "#46039f"
             ],
             [
              0.2222222222222222,
              "#7201a8"
             ],
             [
              0.3333333333333333,
              "#9c179e"
             ],
             [
              0.4444444444444444,
              "#bd3786"
             ],
             [
              0.5555555555555556,
              "#d8576b"
             ],
             [
              0.6666666666666666,
              "#ed7953"
             ],
             [
              0.7777777777777778,
              "#fb9f3a"
             ],
             [
              0.8888888888888888,
              "#fdca26"
             ],
             [
              1,
              "#f0f921"
             ]
            ],
            "type": "heatmapgl"
           }
          ],
          "histogram": [
           {
            "marker": {
             "pattern": {
              "fillmode": "overlay",
              "size": 10,
              "solidity": 0.2
             }
            },
            "type": "histogram"
           }
          ],
          "histogram2d": [
           {
            "colorbar": {
             "outlinewidth": 0,
             "ticks": ""
            },
            "colorscale": [
             [
              0,
              "#0d0887"
             ],
             [
              0.1111111111111111,
              "#46039f"
             ],
             [
              0.2222222222222222,
              "#7201a8"
             ],
             [
              0.3333333333333333,
              "#9c179e"
             ],
             [
              0.4444444444444444,
              "#bd3786"
             ],
             [
              0.5555555555555556,
              "#d8576b"
             ],
             [
              0.6666666666666666,
              "#ed7953"
             ],
             [
              0.7777777777777778,
              "#fb9f3a"
             ],
             [
              0.8888888888888888,
              "#fdca26"
             ],
             [
              1,
              "#f0f921"
             ]
            ],
            "type": "histogram2d"
           }
          ],
          "histogram2dcontour": [
           {
            "colorbar": {
             "outlinewidth": 0,
             "ticks": ""
            },
            "colorscale": [
             [
              0,
              "#0d0887"
             ],
             [
              0.1111111111111111,
              "#46039f"
             ],
             [
              0.2222222222222222,
              "#7201a8"
             ],
             [
              0.3333333333333333,
              "#9c179e"
             ],
             [
              0.4444444444444444,
              "#bd3786"
             ],
             [
              0.5555555555555556,
              "#d8576b"
             ],
             [
              0.6666666666666666,
              "#ed7953"
             ],
             [
              0.7777777777777778,
              "#fb9f3a"
             ],
             [
              0.8888888888888888,
              "#fdca26"
             ],
             [
              1,
              "#f0f921"
             ]
            ],
            "type": "histogram2dcontour"
           }
          ],
          "mesh3d": [
           {
            "colorbar": {
             "outlinewidth": 0,
             "ticks": ""
            },
            "type": "mesh3d"
           }
          ],
          "parcoords": [
           {
            "line": {
             "colorbar": {
              "outlinewidth": 0,
              "ticks": ""
             }
            },
            "type": "parcoords"
           }
          ],
          "pie": [
           {
            "automargin": true,
            "type": "pie"
           }
          ],
          "scatter": [
           {
            "marker": {
             "colorbar": {
              "outlinewidth": 0,
              "ticks": ""
             }
            },
            "type": "scatter"
           }
          ],
          "scatter3d": [
           {
            "line": {
             "colorbar": {
              "outlinewidth": 0,
              "ticks": ""
             }
            },
            "marker": {
             "colorbar": {
              "outlinewidth": 0,
              "ticks": ""
             }
            },
            "type": "scatter3d"
           }
          ],
          "scattercarpet": [
           {
            "marker": {
             "colorbar": {
              "outlinewidth": 0,
              "ticks": ""
             }
            },
            "type": "scattercarpet"
           }
          ],
          "scattergeo": [
           {
            "marker": {
             "colorbar": {
              "outlinewidth": 0,
              "ticks": ""
             }
            },
            "type": "scattergeo"
           }
          ],
          "scattergl": [
           {
            "marker": {
             "colorbar": {
              "outlinewidth": 0,
              "ticks": ""
             }
            },
            "type": "scattergl"
           }
          ],
          "scattermapbox": [
           {
            "marker": {
             "colorbar": {
              "outlinewidth": 0,
              "ticks": ""
             }
            },
            "type": "scattermapbox"
           }
          ],
          "scatterpolar": [
           {
            "marker": {
             "colorbar": {
              "outlinewidth": 0,
              "ticks": ""
             }
            },
            "type": "scatterpolar"
           }
          ],
          "scatterpolargl": [
           {
            "marker": {
             "colorbar": {
              "outlinewidth": 0,
              "ticks": ""
             }
            },
            "type": "scatterpolargl"
           }
          ],
          "scatterternary": [
           {
            "marker": {
             "colorbar": {
              "outlinewidth": 0,
              "ticks": ""
             }
            },
            "type": "scatterternary"
           }
          ],
          "surface": [
           {
            "colorbar": {
             "outlinewidth": 0,
             "ticks": ""
            },
            "colorscale": [
             [
              0,
              "#0d0887"
             ],
             [
              0.1111111111111111,
              "#46039f"
             ],
             [
              0.2222222222222222,
              "#7201a8"
             ],
             [
              0.3333333333333333,
              "#9c179e"
             ],
             [
              0.4444444444444444,
              "#bd3786"
             ],
             [
              0.5555555555555556,
              "#d8576b"
             ],
             [
              0.6666666666666666,
              "#ed7953"
             ],
             [
              0.7777777777777778,
              "#fb9f3a"
             ],
             [
              0.8888888888888888,
              "#fdca26"
             ],
             [
              1,
              "#f0f921"
             ]
            ],
            "type": "surface"
           }
          ],
          "table": [
           {
            "cells": {
             "fill": {
              "color": "#EBF0F8"
             },
             "line": {
              "color": "white"
             }
            },
            "header": {
             "fill": {
              "color": "#C8D4E3"
             },
             "line": {
              "color": "white"
             }
            },
            "type": "table"
           }
          ]
         },
         "layout": {
          "annotationdefaults": {
           "arrowcolor": "#2a3f5f",
           "arrowhead": 0,
           "arrowwidth": 1
          },
          "autotypenumbers": "strict",
          "coloraxis": {
           "colorbar": {
            "outlinewidth": 0,
            "ticks": ""
           }
          },
          "colorscale": {
           "diverging": [
            [
             0,
             "#8e0152"
            ],
            [
             0.1,
             "#c51b7d"
            ],
            [
             0.2,
             "#de77ae"
            ],
            [
             0.3,
             "#f1b6da"
            ],
            [
             0.4,
             "#fde0ef"
            ],
            [
             0.5,
             "#f7f7f7"
            ],
            [
             0.6,
             "#e6f5d0"
            ],
            [
             0.7,
             "#b8e186"
            ],
            [
             0.8,
             "#7fbc41"
            ],
            [
             0.9,
             "#4d9221"
            ],
            [
             1,
             "#276419"
            ]
           ],
           "sequential": [
            [
             0,
             "#0d0887"
            ],
            [
             0.1111111111111111,
             "#46039f"
            ],
            [
             0.2222222222222222,
             "#7201a8"
            ],
            [
             0.3333333333333333,
             "#9c179e"
            ],
            [
             0.4444444444444444,
             "#bd3786"
            ],
            [
             0.5555555555555556,
             "#d8576b"
            ],
            [
             0.6666666666666666,
             "#ed7953"
            ],
            [
             0.7777777777777778,
             "#fb9f3a"
            ],
            [
             0.8888888888888888,
             "#fdca26"
            ],
            [
             1,
             "#f0f921"
            ]
           ],
           "sequentialminus": [
            [
             0,
             "#0d0887"
            ],
            [
             0.1111111111111111,
             "#46039f"
            ],
            [
             0.2222222222222222,
             "#7201a8"
            ],
            [
             0.3333333333333333,
             "#9c179e"
            ],
            [
             0.4444444444444444,
             "#bd3786"
            ],
            [
             0.5555555555555556,
             "#d8576b"
            ],
            [
             0.6666666666666666,
             "#ed7953"
            ],
            [
             0.7777777777777778,
             "#fb9f3a"
            ],
            [
             0.8888888888888888,
             "#fdca26"
            ],
            [
             1,
             "#f0f921"
            ]
           ]
          },
          "colorway": [
           "#636efa",
           "#EF553B",
           "#00cc96",
           "#ab63fa",
           "#FFA15A",
           "#19d3f3",
           "#FF6692",
           "#B6E880",
           "#FF97FF",
           "#FECB52"
          ],
          "font": {
           "color": "#2a3f5f"
          },
          "geo": {
           "bgcolor": "white",
           "lakecolor": "white",
           "landcolor": "#E5ECF6",
           "showlakes": true,
           "showland": true,
           "subunitcolor": "white"
          },
          "hoverlabel": {
           "align": "left"
          },
          "hovermode": "closest",
          "mapbox": {
           "style": "light"
          },
          "paper_bgcolor": "white",
          "plot_bgcolor": "#E5ECF6",
          "polar": {
           "angularaxis": {
            "gridcolor": "white",
            "linecolor": "white",
            "ticks": ""
           },
           "bgcolor": "#E5ECF6",
           "radialaxis": {
            "gridcolor": "white",
            "linecolor": "white",
            "ticks": ""
           }
          },
          "scene": {
           "xaxis": {
            "backgroundcolor": "#E5ECF6",
            "gridcolor": "white",
            "gridwidth": 2,
            "linecolor": "white",
            "showbackground": true,
            "ticks": "",
            "zerolinecolor": "white"
           },
           "yaxis": {
            "backgroundcolor": "#E5ECF6",
            "gridcolor": "white",
            "gridwidth": 2,
            "linecolor": "white",
            "showbackground": true,
            "ticks": "",
            "zerolinecolor": "white"
           },
           "zaxis": {
            "backgroundcolor": "#E5ECF6",
            "gridcolor": "white",
            "gridwidth": 2,
            "linecolor": "white",
            "showbackground": true,
            "ticks": "",
            "zerolinecolor": "white"
           }
          },
          "shapedefaults": {
           "line": {
            "color": "#2a3f5f"
           }
          },
          "ternary": {
           "aaxis": {
            "gridcolor": "white",
            "linecolor": "white",
            "ticks": ""
           },
           "baxis": {
            "gridcolor": "white",
            "linecolor": "white",
            "ticks": ""
           },
           "bgcolor": "#E5ECF6",
           "caxis": {
            "gridcolor": "white",
            "linecolor": "white",
            "ticks": ""
           }
          },
          "title": {
           "x": 0.05
          },
          "xaxis": {
           "automargin": true,
           "gridcolor": "white",
           "linecolor": "white",
           "ticks": "",
           "title": {
            "standoff": 15
           },
           "zerolinecolor": "white",
           "zerolinewidth": 2
          },
          "yaxis": {
           "automargin": true,
           "gridcolor": "white",
           "linecolor": "white",
           "ticks": "",
           "title": {
            "standoff": 15
           },
           "zerolinecolor": "white",
           "zerolinewidth": 2
          }
         }
        },
        "xaxis": {
         "anchor": "y",
         "domain": [
          0,
          1
         ],
         "dtick": "Year",
         "title": {
          "text": "Year"
         }
        },
        "yaxis": {
         "anchor": "x",
         "domain": [
          0,
          1
         ],
         "title": {
          "text": "AvgTemperature"
         }
        }
       }
      },
      "text/html": [
       "<div>                            <div id=\"c646d07f-6320-4c08-bd2d-dd03ce922b5d\" class=\"plotly-graph-div\" style=\"height:525px; width:100%;\"></div>            <script type=\"text/javascript\">                require([\"plotly\"], function(Plotly) {                    window.PLOTLYENV=window.PLOTLYENV || {};                                    if (document.getElementById(\"c646d07f-6320-4c08-bd2d-dd03ce922b5d\")) {                    Plotly.newPlot(                        \"c646d07f-6320-4c08-bd2d-dd03ce922b5d\",                        [{\"hovertemplate\":\"Year=%{x}<br>AvgTemperature=%{y}<extra></extra>\",\"legendgroup\":\"\",\"line\":{\"color\":\"#636efa\",\"dash\":\"solid\"},\"mode\":\"lines\",\"name\":\"\",\"orientation\":\"v\",\"showlegend\":false,\"type\":\"scatter\",\"x\":[1995,1996,1997,1998,1999,2000,2001,2002,2003,2004,2005,2006,2007,2008,2009,2010,2011,2012,2013,2014,2015,2016,2017,2018,2019],\"xaxis\":\"x\",\"y\":[59.42165899850204,58.674830131105075,59.1336169346271,60.87043977606163,60.32866011198801,59.699026005307914,60.326280177312036,60.256345937191945,59.99836021105501,60.09293437000969,60.523740361577,61.02458822602254,60.75195264180951,59.87335882332068,60.102735955105906,60.64285651431689,60.72023450496855,61.40452930328791,60.078363029357334,60.17884201743001,61.669437968710504,62.03345770326025,61.741110307176214,61.231365132201084,61.09613836418138],\"yaxis\":\"y\"},{\"type\":\"scatter\",\"x\":[1995,1996,1997,1998,1999,2000,2001,2002,2003,2004,2005,2006,2007,2008,2009,2010,2011,2012,2013,2014,2015,2016,2017,2018,2019],\"y\":[59.49985509336044,59.581116713933355,59.66237833450627,59.74363995507919,59.824901575652135,59.90616319622505,59.98742481679797,60.068686437370886,60.14994805794383,60.23120967851675,60.312471299089665,60.39373291966261,60.47499454023553,60.556256160808445,60.63751778138136,60.71877940195431,60.800041022527225,60.88130264310014,60.96256426367306,61.043825884246004,61.12508750481892,61.20634912539184,61.287610745964784,61.3688723665377,61.45013398711062]}],                        {\"legend\":{\"tracegroupgap\":0},\"margin\":{\"t\":60},\"template\":{\"data\":{\"bar\":[{\"error_x\":{\"color\":\"#2a3f5f\"},\"error_y\":{\"color\":\"#2a3f5f\"},\"marker\":{\"line\":{\"color\":\"#E5ECF6\",\"width\":0.5},\"pattern\":{\"fillmode\":\"overlay\",\"size\":10,\"solidity\":0.2}},\"type\":\"bar\"}],\"barpolar\":[{\"marker\":{\"line\":{\"color\":\"#E5ECF6\",\"width\":0.5},\"pattern\":{\"fillmode\":\"overlay\",\"size\":10,\"solidity\":0.2}},\"type\":\"barpolar\"}],\"carpet\":[{\"aaxis\":{\"endlinecolor\":\"#2a3f5f\",\"gridcolor\":\"white\",\"linecolor\":\"white\",\"minorgridcolor\":\"white\",\"startlinecolor\":\"#2a3f5f\"},\"baxis\":{\"endlinecolor\":\"#2a3f5f\",\"gridcolor\":\"white\",\"linecolor\":\"white\",\"minorgridcolor\":\"white\",\"startlinecolor\":\"#2a3f5f\"},\"type\":\"carpet\"}],\"choropleth\":[{\"colorbar\":{\"outlinewidth\":0,\"ticks\":\"\"},\"type\":\"choropleth\"}],\"contour\":[{\"colorbar\":{\"outlinewidth\":0,\"ticks\":\"\"},\"colorscale\":[[0.0,\"#0d0887\"],[0.1111111111111111,\"#46039f\"],[0.2222222222222222,\"#7201a8\"],[0.3333333333333333,\"#9c179e\"],[0.4444444444444444,\"#bd3786\"],[0.5555555555555556,\"#d8576b\"],[0.6666666666666666,\"#ed7953\"],[0.7777777777777778,\"#fb9f3a\"],[0.8888888888888888,\"#fdca26\"],[1.0,\"#f0f921\"]],\"type\":\"contour\"}],\"contourcarpet\":[{\"colorbar\":{\"outlinewidth\":0,\"ticks\":\"\"},\"type\":\"contourcarpet\"}],\"heatmap\":[{\"colorbar\":{\"outlinewidth\":0,\"ticks\":\"\"},\"colorscale\":[[0.0,\"#0d0887\"],[0.1111111111111111,\"#46039f\"],[0.2222222222222222,\"#7201a8\"],[0.3333333333333333,\"#9c179e\"],[0.4444444444444444,\"#bd3786\"],[0.5555555555555556,\"#d8576b\"],[0.6666666666666666,\"#ed7953\"],[0.7777777777777778,\"#fb9f3a\"],[0.8888888888888888,\"#fdca26\"],[1.0,\"#f0f921\"]],\"type\":\"heatmap\"}],\"heatmapgl\":[{\"colorbar\":{\"outlinewidth\":0,\"ticks\":\"\"},\"colorscale\":[[0.0,\"#0d0887\"],[0.1111111111111111,\"#46039f\"],[0.2222222222222222,\"#7201a8\"],[0.3333333333333333,\"#9c179e\"],[0.4444444444444444,\"#bd3786\"],[0.5555555555555556,\"#d8576b\"],[0.6666666666666666,\"#ed7953\"],[0.7777777777777778,\"#fb9f3a\"],[0.8888888888888888,\"#fdca26\"],[1.0,\"#f0f921\"]],\"type\":\"heatmapgl\"}],\"histogram\":[{\"marker\":{\"pattern\":{\"fillmode\":\"overlay\",\"size\":10,\"solidity\":0.2}},\"type\":\"histogram\"}],\"histogram2d\":[{\"colorbar\":{\"outlinewidth\":0,\"ticks\":\"\"},\"colorscale\":[[0.0,\"#0d0887\"],[0.1111111111111111,\"#46039f\"],[0.2222222222222222,\"#7201a8\"],[0.3333333333333333,\"#9c179e\"],[0.4444444444444444,\"#bd3786\"],[0.5555555555555556,\"#d8576b\"],[0.6666666666666666,\"#ed7953\"],[0.7777777777777778,\"#fb9f3a\"],[0.8888888888888888,\"#fdca26\"],[1.0,\"#f0f921\"]],\"type\":\"histogram2d\"}],\"histogram2dcontour\":[{\"colorbar\":{\"outlinewidth\":0,\"ticks\":\"\"},\"colorscale\":[[0.0,\"#0d0887\"],[0.1111111111111111,\"#46039f\"],[0.2222222222222222,\"#7201a8\"],[0.3333333333333333,\"#9c179e\"],[0.4444444444444444,\"#bd3786\"],[0.5555555555555556,\"#d8576b\"],[0.6666666666666666,\"#ed7953\"],[0.7777777777777778,\"#fb9f3a\"],[0.8888888888888888,\"#fdca26\"],[1.0,\"#f0f921\"]],\"type\":\"histogram2dcontour\"}],\"mesh3d\":[{\"colorbar\":{\"outlinewidth\":0,\"ticks\":\"\"},\"type\":\"mesh3d\"}],\"parcoords\":[{\"line\":{\"colorbar\":{\"outlinewidth\":0,\"ticks\":\"\"}},\"type\":\"parcoords\"}],\"pie\":[{\"automargin\":true,\"type\":\"pie\"}],\"scatter\":[{\"marker\":{\"colorbar\":{\"outlinewidth\":0,\"ticks\":\"\"}},\"type\":\"scatter\"}],\"scatter3d\":[{\"line\":{\"colorbar\":{\"outlinewidth\":0,\"ticks\":\"\"}},\"marker\":{\"colorbar\":{\"outlinewidth\":0,\"ticks\":\"\"}},\"type\":\"scatter3d\"}],\"scattercarpet\":[{\"marker\":{\"colorbar\":{\"outlinewidth\":0,\"ticks\":\"\"}},\"type\":\"scattercarpet\"}],\"scattergeo\":[{\"marker\":{\"colorbar\":{\"outlinewidth\":0,\"ticks\":\"\"}},\"type\":\"scattergeo\"}],\"scattergl\":[{\"marker\":{\"colorbar\":{\"outlinewidth\":0,\"ticks\":\"\"}},\"type\":\"scattergl\"}],\"scattermapbox\":[{\"marker\":{\"colorbar\":{\"outlinewidth\":0,\"ticks\":\"\"}},\"type\":\"scattermapbox\"}],\"scatterpolar\":[{\"marker\":{\"colorbar\":{\"outlinewidth\":0,\"ticks\":\"\"}},\"type\":\"scatterpolar\"}],\"scatterpolargl\":[{\"marker\":{\"colorbar\":{\"outlinewidth\":0,\"ticks\":\"\"}},\"type\":\"scatterpolargl\"}],\"scatterternary\":[{\"marker\":{\"colorbar\":{\"outlinewidth\":0,\"ticks\":\"\"}},\"type\":\"scatterternary\"}],\"surface\":[{\"colorbar\":{\"outlinewidth\":0,\"ticks\":\"\"},\"colorscale\":[[0.0,\"#0d0887\"],[0.1111111111111111,\"#46039f\"],[0.2222222222222222,\"#7201a8\"],[0.3333333333333333,\"#9c179e\"],[0.4444444444444444,\"#bd3786\"],[0.5555555555555556,\"#d8576b\"],[0.6666666666666666,\"#ed7953\"],[0.7777777777777778,\"#fb9f3a\"],[0.8888888888888888,\"#fdca26\"],[1.0,\"#f0f921\"]],\"type\":\"surface\"}],\"table\":[{\"cells\":{\"fill\":{\"color\":\"#EBF0F8\"},\"line\":{\"color\":\"white\"}},\"header\":{\"fill\":{\"color\":\"#C8D4E3\"},\"line\":{\"color\":\"white\"}},\"type\":\"table\"}]},\"layout\":{\"annotationdefaults\":{\"arrowcolor\":\"#2a3f5f\",\"arrowhead\":0,\"arrowwidth\":1},\"autotypenumbers\":\"strict\",\"coloraxis\":{\"colorbar\":{\"outlinewidth\":0,\"ticks\":\"\"}},\"colorscale\":{\"diverging\":[[0,\"#8e0152\"],[0.1,\"#c51b7d\"],[0.2,\"#de77ae\"],[0.3,\"#f1b6da\"],[0.4,\"#fde0ef\"],[0.5,\"#f7f7f7\"],[0.6,\"#e6f5d0\"],[0.7,\"#b8e186\"],[0.8,\"#7fbc41\"],[0.9,\"#4d9221\"],[1,\"#276419\"]],\"sequential\":[[0.0,\"#0d0887\"],[0.1111111111111111,\"#46039f\"],[0.2222222222222222,\"#7201a8\"],[0.3333333333333333,\"#9c179e\"],[0.4444444444444444,\"#bd3786\"],[0.5555555555555556,\"#d8576b\"],[0.6666666666666666,\"#ed7953\"],[0.7777777777777778,\"#fb9f3a\"],[0.8888888888888888,\"#fdca26\"],[1.0,\"#f0f921\"]],\"sequentialminus\":[[0.0,\"#0d0887\"],[0.1111111111111111,\"#46039f\"],[0.2222222222222222,\"#7201a8\"],[0.3333333333333333,\"#9c179e\"],[0.4444444444444444,\"#bd3786\"],[0.5555555555555556,\"#d8576b\"],[0.6666666666666666,\"#ed7953\"],[0.7777777777777778,\"#fb9f3a\"],[0.8888888888888888,\"#fdca26\"],[1.0,\"#f0f921\"]]},\"colorway\":[\"#636efa\",\"#EF553B\",\"#00cc96\",\"#ab63fa\",\"#FFA15A\",\"#19d3f3\",\"#FF6692\",\"#B6E880\",\"#FF97FF\",\"#FECB52\"],\"font\":{\"color\":\"#2a3f5f\"},\"geo\":{\"bgcolor\":\"white\",\"lakecolor\":\"white\",\"landcolor\":\"#E5ECF6\",\"showlakes\":true,\"showland\":true,\"subunitcolor\":\"white\"},\"hoverlabel\":{\"align\":\"left\"},\"hovermode\":\"closest\",\"mapbox\":{\"style\":\"light\"},\"paper_bgcolor\":\"white\",\"plot_bgcolor\":\"#E5ECF6\",\"polar\":{\"angularaxis\":{\"gridcolor\":\"white\",\"linecolor\":\"white\",\"ticks\":\"\"},\"bgcolor\":\"#E5ECF6\",\"radialaxis\":{\"gridcolor\":\"white\",\"linecolor\":\"white\",\"ticks\":\"\"}},\"scene\":{\"xaxis\":{\"backgroundcolor\":\"#E5ECF6\",\"gridcolor\":\"white\",\"gridwidth\":2,\"linecolor\":\"white\",\"showbackground\":true,\"ticks\":\"\",\"zerolinecolor\":\"white\"},\"yaxis\":{\"backgroundcolor\":\"#E5ECF6\",\"gridcolor\":\"white\",\"gridwidth\":2,\"linecolor\":\"white\",\"showbackground\":true,\"ticks\":\"\",\"zerolinecolor\":\"white\"},\"zaxis\":{\"backgroundcolor\":\"#E5ECF6\",\"gridcolor\":\"white\",\"gridwidth\":2,\"linecolor\":\"white\",\"showbackground\":true,\"ticks\":\"\",\"zerolinecolor\":\"white\"}},\"shapedefaults\":{\"line\":{\"color\":\"#2a3f5f\"}},\"ternary\":{\"aaxis\":{\"gridcolor\":\"white\",\"linecolor\":\"white\",\"ticks\":\"\"},\"baxis\":{\"gridcolor\":\"white\",\"linecolor\":\"white\",\"ticks\":\"\"},\"bgcolor\":\"#E5ECF6\",\"caxis\":{\"gridcolor\":\"white\",\"linecolor\":\"white\",\"ticks\":\"\"}},\"title\":{\"x\":0.05},\"xaxis\":{\"automargin\":true,\"gridcolor\":\"white\",\"linecolor\":\"white\",\"ticks\":\"\",\"title\":{\"standoff\":15},\"zerolinecolor\":\"white\",\"zerolinewidth\":2},\"yaxis\":{\"automargin\":true,\"gridcolor\":\"white\",\"linecolor\":\"white\",\"ticks\":\"\",\"title\":{\"standoff\":15},\"zerolinecolor\":\"white\",\"zerolinewidth\":2}}},\"xaxis\":{\"anchor\":\"y\",\"domain\":[0.0,1.0],\"dtick\":\"Year\",\"title\":{\"text\":\"Year\"}},\"yaxis\":{\"anchor\":\"x\",\"domain\":[0.0,1.0],\"title\":{\"text\":\"AvgTemperature\"}}},                        {\"responsive\": true}                    ).then(function(){\n",
       "                            \n",
       "var gd = document.getElementById('c646d07f-6320-4c08-bd2d-dd03ce922b5d');\n",
       "var x = new MutationObserver(function (mutations, observer) {{\n",
       "        var display = window.getComputedStyle(gd).display;\n",
       "        if (!display || display === 'none') {{\n",
       "            console.log([gd, 'removed!']);\n",
       "            Plotly.purge(gd);\n",
       "            observer.disconnect();\n",
       "        }}\n",
       "}});\n",
       "\n",
       "// Listen for the removal of the full notebook cells\n",
       "var notebookContainer = gd.closest('#notebook-container');\n",
       "if (notebookContainer) {{\n",
       "    x.observe(notebookContainer, {childList: true});\n",
       "}}\n",
       "\n",
       "// Listen for the clearing of the current output cell\n",
       "var outputEl = gd.closest('.output');\n",
       "if (outputEl) {{\n",
       "    x.observe(outputEl, {childList: true});\n",
       "}}\n",
       "\n",
       "                        })                };                });            </script>        </div>"
      ]
     },
     "metadata": {},
     "output_type": "display_data"
    }
   ],
   "source": [
    "fig = px.line(year_avg, x='Year', y='AvgTemperature')\n",
    "fig.update_xaxes(dtick = 'Year')\n",
    "fig.add_trace(go.Scatter(x = year_avg.Year, y = line))"
   ]
  },
  {
   "cell_type": "markdown",
   "id": "263e13cc",
   "metadata": {},
   "source": [
    "Bar Chart vs Line Chart "
   ]
  },
  {
   "cell_type": "code",
   "execution_count": 222,
   "id": "011e7ec0",
   "metadata": {},
   "outputs": [
    {
     "data": {
      "application/vnd.plotly.v1+json": {
       "config": {
        "plotlyServerURL": "https://plot.ly"
       },
       "data": [
        {
         "alignmentgroup": "True",
         "hovertemplate": "Year=%{x}<br>AvgTemperature=%{marker.color}<extra></extra>",
         "legendgroup": "",
         "marker": {
          "color": [
           59.42165899850204,
           58.674830131105075,
           59.1336169346271,
           60.87043977606163,
           60.32866011198801,
           59.699026005307914,
           60.326280177312036,
           60.256345937191945,
           59.99836021105501,
           60.09293437000969,
           60.523740361577,
           61.02458822602254,
           60.75195264180951,
           59.87335882332068,
           60.102735955105906,
           60.64285651431689,
           60.72023450496855,
           61.40452930328791,
           60.078363029357334,
           60.17884201743001,
           61.669437968710504,
           62.03345770326025,
           61.741110307176214,
           61.231365132201084,
           61.09613836418138
          ],
          "coloraxis": "coloraxis",
          "pattern": {
           "shape": ""
          }
         },
         "name": "",
         "offsetgroup": "",
         "orientation": "v",
         "showlegend": false,
         "textposition": "auto",
         "type": "bar",
         "x": [
          1995,
          1996,
          1997,
          1998,
          1999,
          2000,
          2001,
          2002,
          2003,
          2004,
          2005,
          2006,
          2007,
          2008,
          2009,
          2010,
          2011,
          2012,
          2013,
          2014,
          2015,
          2016,
          2017,
          2018,
          2019
         ],
         "xaxis": "x",
         "y": [
          59.42165899850204,
          58.674830131105075,
          59.1336169346271,
          60.87043977606163,
          60.32866011198801,
          59.699026005307914,
          60.326280177312036,
          60.256345937191945,
          59.99836021105501,
          60.09293437000969,
          60.523740361577,
          61.02458822602254,
          60.75195264180951,
          59.87335882332068,
          60.102735955105906,
          60.64285651431689,
          60.72023450496855,
          61.40452930328791,
          60.078363029357334,
          60.17884201743001,
          61.669437968710504,
          62.03345770326025,
          61.741110307176214,
          61.231365132201084,
          61.09613836418138
         ],
         "yaxis": "y"
        }
       ],
       "layout": {
        "barmode": "relative",
        "coloraxis": {
         "colorbar": {
          "title": {
           "text": "AvgTemperature"
          }
         },
         "colorscale": [
          [
           0,
           "#0d0887"
          ],
          [
           0.1111111111111111,
           "#46039f"
          ],
          [
           0.2222222222222222,
           "#7201a8"
          ],
          [
           0.3333333333333333,
           "#9c179e"
          ],
          [
           0.4444444444444444,
           "#bd3786"
          ],
          [
           0.5555555555555556,
           "#d8576b"
          ],
          [
           0.6666666666666666,
           "#ed7953"
          ],
          [
           0.7777777777777778,
           "#fb9f3a"
          ],
          [
           0.8888888888888888,
           "#fdca26"
          ],
          [
           1,
           "#f0f921"
          ]
         ]
        },
        "legend": {
         "tracegroupgap": 0
        },
        "margin": {
         "t": 60
        },
        "template": {
         "data": {
          "bar": [
           {
            "error_x": {
             "color": "#2a3f5f"
            },
            "error_y": {
             "color": "#2a3f5f"
            },
            "marker": {
             "line": {
              "color": "#E5ECF6",
              "width": 0.5
             },
             "pattern": {
              "fillmode": "overlay",
              "size": 10,
              "solidity": 0.2
             }
            },
            "type": "bar"
           }
          ],
          "barpolar": [
           {
            "marker": {
             "line": {
              "color": "#E5ECF6",
              "width": 0.5
             },
             "pattern": {
              "fillmode": "overlay",
              "size": 10,
              "solidity": 0.2
             }
            },
            "type": "barpolar"
           }
          ],
          "carpet": [
           {
            "aaxis": {
             "endlinecolor": "#2a3f5f",
             "gridcolor": "white",
             "linecolor": "white",
             "minorgridcolor": "white",
             "startlinecolor": "#2a3f5f"
            },
            "baxis": {
             "endlinecolor": "#2a3f5f",
             "gridcolor": "white",
             "linecolor": "white",
             "minorgridcolor": "white",
             "startlinecolor": "#2a3f5f"
            },
            "type": "carpet"
           }
          ],
          "choropleth": [
           {
            "colorbar": {
             "outlinewidth": 0,
             "ticks": ""
            },
            "type": "choropleth"
           }
          ],
          "contour": [
           {
            "colorbar": {
             "outlinewidth": 0,
             "ticks": ""
            },
            "colorscale": [
             [
              0,
              "#0d0887"
             ],
             [
              0.1111111111111111,
              "#46039f"
             ],
             [
              0.2222222222222222,
              "#7201a8"
             ],
             [
              0.3333333333333333,
              "#9c179e"
             ],
             [
              0.4444444444444444,
              "#bd3786"
             ],
             [
              0.5555555555555556,
              "#d8576b"
             ],
             [
              0.6666666666666666,
              "#ed7953"
             ],
             [
              0.7777777777777778,
              "#fb9f3a"
             ],
             [
              0.8888888888888888,
              "#fdca26"
             ],
             [
              1,
              "#f0f921"
             ]
            ],
            "type": "contour"
           }
          ],
          "contourcarpet": [
           {
            "colorbar": {
             "outlinewidth": 0,
             "ticks": ""
            },
            "type": "contourcarpet"
           }
          ],
          "heatmap": [
           {
            "colorbar": {
             "outlinewidth": 0,
             "ticks": ""
            },
            "colorscale": [
             [
              0,
              "#0d0887"
             ],
             [
              0.1111111111111111,
              "#46039f"
             ],
             [
              0.2222222222222222,
              "#7201a8"
             ],
             [
              0.3333333333333333,
              "#9c179e"
             ],
             [
              0.4444444444444444,
              "#bd3786"
             ],
             [
              0.5555555555555556,
              "#d8576b"
             ],
             [
              0.6666666666666666,
              "#ed7953"
             ],
             [
              0.7777777777777778,
              "#fb9f3a"
             ],
             [
              0.8888888888888888,
              "#fdca26"
             ],
             [
              1,
              "#f0f921"
             ]
            ],
            "type": "heatmap"
           }
          ],
          "heatmapgl": [
           {
            "colorbar": {
             "outlinewidth": 0,
             "ticks": ""
            },
            "colorscale": [
             [
              0,
              "#0d0887"
             ],
             [
              0.1111111111111111,
              "#46039f"
             ],
             [
              0.2222222222222222,
              "#7201a8"
             ],
             [
              0.3333333333333333,
              "#9c179e"
             ],
             [
              0.4444444444444444,
              "#bd3786"
             ],
             [
              0.5555555555555556,
              "#d8576b"
             ],
             [
              0.6666666666666666,
              "#ed7953"
             ],
             [
              0.7777777777777778,
              "#fb9f3a"
             ],
             [
              0.8888888888888888,
              "#fdca26"
             ],
             [
              1,
              "#f0f921"
             ]
            ],
            "type": "heatmapgl"
           }
          ],
          "histogram": [
           {
            "marker": {
             "pattern": {
              "fillmode": "overlay",
              "size": 10,
              "solidity": 0.2
             }
            },
            "type": "histogram"
           }
          ],
          "histogram2d": [
           {
            "colorbar": {
             "outlinewidth": 0,
             "ticks": ""
            },
            "colorscale": [
             [
              0,
              "#0d0887"
             ],
             [
              0.1111111111111111,
              "#46039f"
             ],
             [
              0.2222222222222222,
              "#7201a8"
             ],
             [
              0.3333333333333333,
              "#9c179e"
             ],
             [
              0.4444444444444444,
              "#bd3786"
             ],
             [
              0.5555555555555556,
              "#d8576b"
             ],
             [
              0.6666666666666666,
              "#ed7953"
             ],
             [
              0.7777777777777778,
              "#fb9f3a"
             ],
             [
              0.8888888888888888,
              "#fdca26"
             ],
             [
              1,
              "#f0f921"
             ]
            ],
            "type": "histogram2d"
           }
          ],
          "histogram2dcontour": [
           {
            "colorbar": {
             "outlinewidth": 0,
             "ticks": ""
            },
            "colorscale": [
             [
              0,
              "#0d0887"
             ],
             [
              0.1111111111111111,
              "#46039f"
             ],
             [
              0.2222222222222222,
              "#7201a8"
             ],
             [
              0.3333333333333333,
              "#9c179e"
             ],
             [
              0.4444444444444444,
              "#bd3786"
             ],
             [
              0.5555555555555556,
              "#d8576b"
             ],
             [
              0.6666666666666666,
              "#ed7953"
             ],
             [
              0.7777777777777778,
              "#fb9f3a"
             ],
             [
              0.8888888888888888,
              "#fdca26"
             ],
             [
              1,
              "#f0f921"
             ]
            ],
            "type": "histogram2dcontour"
           }
          ],
          "mesh3d": [
           {
            "colorbar": {
             "outlinewidth": 0,
             "ticks": ""
            },
            "type": "mesh3d"
           }
          ],
          "parcoords": [
           {
            "line": {
             "colorbar": {
              "outlinewidth": 0,
              "ticks": ""
             }
            },
            "type": "parcoords"
           }
          ],
          "pie": [
           {
            "automargin": true,
            "type": "pie"
           }
          ],
          "scatter": [
           {
            "marker": {
             "colorbar": {
              "outlinewidth": 0,
              "ticks": ""
             }
            },
            "type": "scatter"
           }
          ],
          "scatter3d": [
           {
            "line": {
             "colorbar": {
              "outlinewidth": 0,
              "ticks": ""
             }
            },
            "marker": {
             "colorbar": {
              "outlinewidth": 0,
              "ticks": ""
             }
            },
            "type": "scatter3d"
           }
          ],
          "scattercarpet": [
           {
            "marker": {
             "colorbar": {
              "outlinewidth": 0,
              "ticks": ""
             }
            },
            "type": "scattercarpet"
           }
          ],
          "scattergeo": [
           {
            "marker": {
             "colorbar": {
              "outlinewidth": 0,
              "ticks": ""
             }
            },
            "type": "scattergeo"
           }
          ],
          "scattergl": [
           {
            "marker": {
             "colorbar": {
              "outlinewidth": 0,
              "ticks": ""
             }
            },
            "type": "scattergl"
           }
          ],
          "scattermapbox": [
           {
            "marker": {
             "colorbar": {
              "outlinewidth": 0,
              "ticks": ""
             }
            },
            "type": "scattermapbox"
           }
          ],
          "scatterpolar": [
           {
            "marker": {
             "colorbar": {
              "outlinewidth": 0,
              "ticks": ""
             }
            },
            "type": "scatterpolar"
           }
          ],
          "scatterpolargl": [
           {
            "marker": {
             "colorbar": {
              "outlinewidth": 0,
              "ticks": ""
             }
            },
            "type": "scatterpolargl"
           }
          ],
          "scatterternary": [
           {
            "marker": {
             "colorbar": {
              "outlinewidth": 0,
              "ticks": ""
             }
            },
            "type": "scatterternary"
           }
          ],
          "surface": [
           {
            "colorbar": {
             "outlinewidth": 0,
             "ticks": ""
            },
            "colorscale": [
             [
              0,
              "#0d0887"
             ],
             [
              0.1111111111111111,
              "#46039f"
             ],
             [
              0.2222222222222222,
              "#7201a8"
             ],
             [
              0.3333333333333333,
              "#9c179e"
             ],
             [
              0.4444444444444444,
              "#bd3786"
             ],
             [
              0.5555555555555556,
              "#d8576b"
             ],
             [
              0.6666666666666666,
              "#ed7953"
             ],
             [
              0.7777777777777778,
              "#fb9f3a"
             ],
             [
              0.8888888888888888,
              "#fdca26"
             ],
             [
              1,
              "#f0f921"
             ]
            ],
            "type": "surface"
           }
          ],
          "table": [
           {
            "cells": {
             "fill": {
              "color": "#EBF0F8"
             },
             "line": {
              "color": "white"
             }
            },
            "header": {
             "fill": {
              "color": "#C8D4E3"
             },
             "line": {
              "color": "white"
             }
            },
            "type": "table"
           }
          ]
         },
         "layout": {
          "annotationdefaults": {
           "arrowcolor": "#2a3f5f",
           "arrowhead": 0,
           "arrowwidth": 1
          },
          "autotypenumbers": "strict",
          "coloraxis": {
           "colorbar": {
            "outlinewidth": 0,
            "ticks": ""
           }
          },
          "colorscale": {
           "diverging": [
            [
             0,
             "#8e0152"
            ],
            [
             0.1,
             "#c51b7d"
            ],
            [
             0.2,
             "#de77ae"
            ],
            [
             0.3,
             "#f1b6da"
            ],
            [
             0.4,
             "#fde0ef"
            ],
            [
             0.5,
             "#f7f7f7"
            ],
            [
             0.6,
             "#e6f5d0"
            ],
            [
             0.7,
             "#b8e186"
            ],
            [
             0.8,
             "#7fbc41"
            ],
            [
             0.9,
             "#4d9221"
            ],
            [
             1,
             "#276419"
            ]
           ],
           "sequential": [
            [
             0,
             "#0d0887"
            ],
            [
             0.1111111111111111,
             "#46039f"
            ],
            [
             0.2222222222222222,
             "#7201a8"
            ],
            [
             0.3333333333333333,
             "#9c179e"
            ],
            [
             0.4444444444444444,
             "#bd3786"
            ],
            [
             0.5555555555555556,
             "#d8576b"
            ],
            [
             0.6666666666666666,
             "#ed7953"
            ],
            [
             0.7777777777777778,
             "#fb9f3a"
            ],
            [
             0.8888888888888888,
             "#fdca26"
            ],
            [
             1,
             "#f0f921"
            ]
           ],
           "sequentialminus": [
            [
             0,
             "#0d0887"
            ],
            [
             0.1111111111111111,
             "#46039f"
            ],
            [
             0.2222222222222222,
             "#7201a8"
            ],
            [
             0.3333333333333333,
             "#9c179e"
            ],
            [
             0.4444444444444444,
             "#bd3786"
            ],
            [
             0.5555555555555556,
             "#d8576b"
            ],
            [
             0.6666666666666666,
             "#ed7953"
            ],
            [
             0.7777777777777778,
             "#fb9f3a"
            ],
            [
             0.8888888888888888,
             "#fdca26"
            ],
            [
             1,
             "#f0f921"
            ]
           ]
          },
          "colorway": [
           "#636efa",
           "#EF553B",
           "#00cc96",
           "#ab63fa",
           "#FFA15A",
           "#19d3f3",
           "#FF6692",
           "#B6E880",
           "#FF97FF",
           "#FECB52"
          ],
          "font": {
           "color": "#2a3f5f"
          },
          "geo": {
           "bgcolor": "white",
           "lakecolor": "white",
           "landcolor": "#E5ECF6",
           "showlakes": true,
           "showland": true,
           "subunitcolor": "white"
          },
          "hoverlabel": {
           "align": "left"
          },
          "hovermode": "closest",
          "mapbox": {
           "style": "light"
          },
          "paper_bgcolor": "white",
          "plot_bgcolor": "#E5ECF6",
          "polar": {
           "angularaxis": {
            "gridcolor": "white",
            "linecolor": "white",
            "ticks": ""
           },
           "bgcolor": "#E5ECF6",
           "radialaxis": {
            "gridcolor": "white",
            "linecolor": "white",
            "ticks": ""
           }
          },
          "scene": {
           "xaxis": {
            "backgroundcolor": "#E5ECF6",
            "gridcolor": "white",
            "gridwidth": 2,
            "linecolor": "white",
            "showbackground": true,
            "ticks": "",
            "zerolinecolor": "white"
           },
           "yaxis": {
            "backgroundcolor": "#E5ECF6",
            "gridcolor": "white",
            "gridwidth": 2,
            "linecolor": "white",
            "showbackground": true,
            "ticks": "",
            "zerolinecolor": "white"
           },
           "zaxis": {
            "backgroundcolor": "#E5ECF6",
            "gridcolor": "white",
            "gridwidth": 2,
            "linecolor": "white",
            "showbackground": true,
            "ticks": "",
            "zerolinecolor": "white"
           }
          },
          "shapedefaults": {
           "line": {
            "color": "#2a3f5f"
           }
          },
          "ternary": {
           "aaxis": {
            "gridcolor": "white",
            "linecolor": "white",
            "ticks": ""
           },
           "baxis": {
            "gridcolor": "white",
            "linecolor": "white",
            "ticks": ""
           },
           "bgcolor": "#E5ECF6",
           "caxis": {
            "gridcolor": "white",
            "linecolor": "white",
            "ticks": ""
           }
          },
          "title": {
           "x": 0.05
          },
          "xaxis": {
           "automargin": true,
           "gridcolor": "white",
           "linecolor": "white",
           "ticks": "",
           "title": {
            "standoff": 15
           },
           "zerolinecolor": "white",
           "zerolinewidth": 2
          },
          "yaxis": {
           "automargin": true,
           "gridcolor": "white",
           "linecolor": "white",
           "ticks": "",
           "title": {
            "standoff": 15
           },
           "zerolinecolor": "white",
           "zerolinewidth": 2
          }
         }
        },
        "xaxis": {
         "anchor": "y",
         "domain": [
          0,
          1
         ],
         "title": {
          "text": "Year"
         }
        },
        "yaxis": {
         "anchor": "x",
         "domain": [
          0,
          1
         ],
         "title": {
          "text": "AvgTemperature"
         }
        }
       }
      },
      "text/html": [
       "<div>                            <div id=\"08d8534b-71ab-4cbf-a8a9-2225c6e6c64a\" class=\"plotly-graph-div\" style=\"height:525px; width:100%;\"></div>            <script type=\"text/javascript\">                require([\"plotly\"], function(Plotly) {                    window.PLOTLYENV=window.PLOTLYENV || {};                                    if (document.getElementById(\"08d8534b-71ab-4cbf-a8a9-2225c6e6c64a\")) {                    Plotly.newPlot(                        \"08d8534b-71ab-4cbf-a8a9-2225c6e6c64a\",                        [{\"alignmentgroup\":\"True\",\"hovertemplate\":\"Year=%{x}<br>AvgTemperature=%{marker.color}<extra></extra>\",\"legendgroup\":\"\",\"marker\":{\"color\":[59.42165899850204,58.674830131105075,59.1336169346271,60.87043977606163,60.32866011198801,59.699026005307914,60.326280177312036,60.256345937191945,59.99836021105501,60.09293437000969,60.523740361577,61.02458822602254,60.75195264180951,59.87335882332068,60.102735955105906,60.64285651431689,60.72023450496855,61.40452930328791,60.078363029357334,60.17884201743001,61.669437968710504,62.03345770326025,61.741110307176214,61.231365132201084,61.09613836418138],\"coloraxis\":\"coloraxis\",\"pattern\":{\"shape\":\"\"}},\"name\":\"\",\"offsetgroup\":\"\",\"orientation\":\"v\",\"showlegend\":false,\"textposition\":\"auto\",\"type\":\"bar\",\"x\":[1995,1996,1997,1998,1999,2000,2001,2002,2003,2004,2005,2006,2007,2008,2009,2010,2011,2012,2013,2014,2015,2016,2017,2018,2019],\"xaxis\":\"x\",\"y\":[59.42165899850204,58.674830131105075,59.1336169346271,60.87043977606163,60.32866011198801,59.699026005307914,60.326280177312036,60.256345937191945,59.99836021105501,60.09293437000969,60.523740361577,61.02458822602254,60.75195264180951,59.87335882332068,60.102735955105906,60.64285651431689,60.72023450496855,61.40452930328791,60.078363029357334,60.17884201743001,61.669437968710504,62.03345770326025,61.741110307176214,61.231365132201084,61.09613836418138],\"yaxis\":\"y\"}],                        {\"barmode\":\"relative\",\"coloraxis\":{\"colorbar\":{\"title\":{\"text\":\"AvgTemperature\"}},\"colorscale\":[[0.0,\"#0d0887\"],[0.1111111111111111,\"#46039f\"],[0.2222222222222222,\"#7201a8\"],[0.3333333333333333,\"#9c179e\"],[0.4444444444444444,\"#bd3786\"],[0.5555555555555556,\"#d8576b\"],[0.6666666666666666,\"#ed7953\"],[0.7777777777777778,\"#fb9f3a\"],[0.8888888888888888,\"#fdca26\"],[1.0,\"#f0f921\"]]},\"legend\":{\"tracegroupgap\":0},\"margin\":{\"t\":60},\"template\":{\"data\":{\"bar\":[{\"error_x\":{\"color\":\"#2a3f5f\"},\"error_y\":{\"color\":\"#2a3f5f\"},\"marker\":{\"line\":{\"color\":\"#E5ECF6\",\"width\":0.5},\"pattern\":{\"fillmode\":\"overlay\",\"size\":10,\"solidity\":0.2}},\"type\":\"bar\"}],\"barpolar\":[{\"marker\":{\"line\":{\"color\":\"#E5ECF6\",\"width\":0.5},\"pattern\":{\"fillmode\":\"overlay\",\"size\":10,\"solidity\":0.2}},\"type\":\"barpolar\"}],\"carpet\":[{\"aaxis\":{\"endlinecolor\":\"#2a3f5f\",\"gridcolor\":\"white\",\"linecolor\":\"white\",\"minorgridcolor\":\"white\",\"startlinecolor\":\"#2a3f5f\"},\"baxis\":{\"endlinecolor\":\"#2a3f5f\",\"gridcolor\":\"white\",\"linecolor\":\"white\",\"minorgridcolor\":\"white\",\"startlinecolor\":\"#2a3f5f\"},\"type\":\"carpet\"}],\"choropleth\":[{\"colorbar\":{\"outlinewidth\":0,\"ticks\":\"\"},\"type\":\"choropleth\"}],\"contour\":[{\"colorbar\":{\"outlinewidth\":0,\"ticks\":\"\"},\"colorscale\":[[0.0,\"#0d0887\"],[0.1111111111111111,\"#46039f\"],[0.2222222222222222,\"#7201a8\"],[0.3333333333333333,\"#9c179e\"],[0.4444444444444444,\"#bd3786\"],[0.5555555555555556,\"#d8576b\"],[0.6666666666666666,\"#ed7953\"],[0.7777777777777778,\"#fb9f3a\"],[0.8888888888888888,\"#fdca26\"],[1.0,\"#f0f921\"]],\"type\":\"contour\"}],\"contourcarpet\":[{\"colorbar\":{\"outlinewidth\":0,\"ticks\":\"\"},\"type\":\"contourcarpet\"}],\"heatmap\":[{\"colorbar\":{\"outlinewidth\":0,\"ticks\":\"\"},\"colorscale\":[[0.0,\"#0d0887\"],[0.1111111111111111,\"#46039f\"],[0.2222222222222222,\"#7201a8\"],[0.3333333333333333,\"#9c179e\"],[0.4444444444444444,\"#bd3786\"],[0.5555555555555556,\"#d8576b\"],[0.6666666666666666,\"#ed7953\"],[0.7777777777777778,\"#fb9f3a\"],[0.8888888888888888,\"#fdca26\"],[1.0,\"#f0f921\"]],\"type\":\"heatmap\"}],\"heatmapgl\":[{\"colorbar\":{\"outlinewidth\":0,\"ticks\":\"\"},\"colorscale\":[[0.0,\"#0d0887\"],[0.1111111111111111,\"#46039f\"],[0.2222222222222222,\"#7201a8\"],[0.3333333333333333,\"#9c179e\"],[0.4444444444444444,\"#bd3786\"],[0.5555555555555556,\"#d8576b\"],[0.6666666666666666,\"#ed7953\"],[0.7777777777777778,\"#fb9f3a\"],[0.8888888888888888,\"#fdca26\"],[1.0,\"#f0f921\"]],\"type\":\"heatmapgl\"}],\"histogram\":[{\"marker\":{\"pattern\":{\"fillmode\":\"overlay\",\"size\":10,\"solidity\":0.2}},\"type\":\"histogram\"}],\"histogram2d\":[{\"colorbar\":{\"outlinewidth\":0,\"ticks\":\"\"},\"colorscale\":[[0.0,\"#0d0887\"],[0.1111111111111111,\"#46039f\"],[0.2222222222222222,\"#7201a8\"],[0.3333333333333333,\"#9c179e\"],[0.4444444444444444,\"#bd3786\"],[0.5555555555555556,\"#d8576b\"],[0.6666666666666666,\"#ed7953\"],[0.7777777777777778,\"#fb9f3a\"],[0.8888888888888888,\"#fdca26\"],[1.0,\"#f0f921\"]],\"type\":\"histogram2d\"}],\"histogram2dcontour\":[{\"colorbar\":{\"outlinewidth\":0,\"ticks\":\"\"},\"colorscale\":[[0.0,\"#0d0887\"],[0.1111111111111111,\"#46039f\"],[0.2222222222222222,\"#7201a8\"],[0.3333333333333333,\"#9c179e\"],[0.4444444444444444,\"#bd3786\"],[0.5555555555555556,\"#d8576b\"],[0.6666666666666666,\"#ed7953\"],[0.7777777777777778,\"#fb9f3a\"],[0.8888888888888888,\"#fdca26\"],[1.0,\"#f0f921\"]],\"type\":\"histogram2dcontour\"}],\"mesh3d\":[{\"colorbar\":{\"outlinewidth\":0,\"ticks\":\"\"},\"type\":\"mesh3d\"}],\"parcoords\":[{\"line\":{\"colorbar\":{\"outlinewidth\":0,\"ticks\":\"\"}},\"type\":\"parcoords\"}],\"pie\":[{\"automargin\":true,\"type\":\"pie\"}],\"scatter\":[{\"marker\":{\"colorbar\":{\"outlinewidth\":0,\"ticks\":\"\"}},\"type\":\"scatter\"}],\"scatter3d\":[{\"line\":{\"colorbar\":{\"outlinewidth\":0,\"ticks\":\"\"}},\"marker\":{\"colorbar\":{\"outlinewidth\":0,\"ticks\":\"\"}},\"type\":\"scatter3d\"}],\"scattercarpet\":[{\"marker\":{\"colorbar\":{\"outlinewidth\":0,\"ticks\":\"\"}},\"type\":\"scattercarpet\"}],\"scattergeo\":[{\"marker\":{\"colorbar\":{\"outlinewidth\":0,\"ticks\":\"\"}},\"type\":\"scattergeo\"}],\"scattergl\":[{\"marker\":{\"colorbar\":{\"outlinewidth\":0,\"ticks\":\"\"}},\"type\":\"scattergl\"}],\"scattermapbox\":[{\"marker\":{\"colorbar\":{\"outlinewidth\":0,\"ticks\":\"\"}},\"type\":\"scattermapbox\"}],\"scatterpolar\":[{\"marker\":{\"colorbar\":{\"outlinewidth\":0,\"ticks\":\"\"}},\"type\":\"scatterpolar\"}],\"scatterpolargl\":[{\"marker\":{\"colorbar\":{\"outlinewidth\":0,\"ticks\":\"\"}},\"type\":\"scatterpolargl\"}],\"scatterternary\":[{\"marker\":{\"colorbar\":{\"outlinewidth\":0,\"ticks\":\"\"}},\"type\":\"scatterternary\"}],\"surface\":[{\"colorbar\":{\"outlinewidth\":0,\"ticks\":\"\"},\"colorscale\":[[0.0,\"#0d0887\"],[0.1111111111111111,\"#46039f\"],[0.2222222222222222,\"#7201a8\"],[0.3333333333333333,\"#9c179e\"],[0.4444444444444444,\"#bd3786\"],[0.5555555555555556,\"#d8576b\"],[0.6666666666666666,\"#ed7953\"],[0.7777777777777778,\"#fb9f3a\"],[0.8888888888888888,\"#fdca26\"],[1.0,\"#f0f921\"]],\"type\":\"surface\"}],\"table\":[{\"cells\":{\"fill\":{\"color\":\"#EBF0F8\"},\"line\":{\"color\":\"white\"}},\"header\":{\"fill\":{\"color\":\"#C8D4E3\"},\"line\":{\"color\":\"white\"}},\"type\":\"table\"}]},\"layout\":{\"annotationdefaults\":{\"arrowcolor\":\"#2a3f5f\",\"arrowhead\":0,\"arrowwidth\":1},\"autotypenumbers\":\"strict\",\"coloraxis\":{\"colorbar\":{\"outlinewidth\":0,\"ticks\":\"\"}},\"colorscale\":{\"diverging\":[[0,\"#8e0152\"],[0.1,\"#c51b7d\"],[0.2,\"#de77ae\"],[0.3,\"#f1b6da\"],[0.4,\"#fde0ef\"],[0.5,\"#f7f7f7\"],[0.6,\"#e6f5d0\"],[0.7,\"#b8e186\"],[0.8,\"#7fbc41\"],[0.9,\"#4d9221\"],[1,\"#276419\"]],\"sequential\":[[0.0,\"#0d0887\"],[0.1111111111111111,\"#46039f\"],[0.2222222222222222,\"#7201a8\"],[0.3333333333333333,\"#9c179e\"],[0.4444444444444444,\"#bd3786\"],[0.5555555555555556,\"#d8576b\"],[0.6666666666666666,\"#ed7953\"],[0.7777777777777778,\"#fb9f3a\"],[0.8888888888888888,\"#fdca26\"],[1.0,\"#f0f921\"]],\"sequentialminus\":[[0.0,\"#0d0887\"],[0.1111111111111111,\"#46039f\"],[0.2222222222222222,\"#7201a8\"],[0.3333333333333333,\"#9c179e\"],[0.4444444444444444,\"#bd3786\"],[0.5555555555555556,\"#d8576b\"],[0.6666666666666666,\"#ed7953\"],[0.7777777777777778,\"#fb9f3a\"],[0.8888888888888888,\"#fdca26\"],[1.0,\"#f0f921\"]]},\"colorway\":[\"#636efa\",\"#EF553B\",\"#00cc96\",\"#ab63fa\",\"#FFA15A\",\"#19d3f3\",\"#FF6692\",\"#B6E880\",\"#FF97FF\",\"#FECB52\"],\"font\":{\"color\":\"#2a3f5f\"},\"geo\":{\"bgcolor\":\"white\",\"lakecolor\":\"white\",\"landcolor\":\"#E5ECF6\",\"showlakes\":true,\"showland\":true,\"subunitcolor\":\"white\"},\"hoverlabel\":{\"align\":\"left\"},\"hovermode\":\"closest\",\"mapbox\":{\"style\":\"light\"},\"paper_bgcolor\":\"white\",\"plot_bgcolor\":\"#E5ECF6\",\"polar\":{\"angularaxis\":{\"gridcolor\":\"white\",\"linecolor\":\"white\",\"ticks\":\"\"},\"bgcolor\":\"#E5ECF6\",\"radialaxis\":{\"gridcolor\":\"white\",\"linecolor\":\"white\",\"ticks\":\"\"}},\"scene\":{\"xaxis\":{\"backgroundcolor\":\"#E5ECF6\",\"gridcolor\":\"white\",\"gridwidth\":2,\"linecolor\":\"white\",\"showbackground\":true,\"ticks\":\"\",\"zerolinecolor\":\"white\"},\"yaxis\":{\"backgroundcolor\":\"#E5ECF6\",\"gridcolor\":\"white\",\"gridwidth\":2,\"linecolor\":\"white\",\"showbackground\":true,\"ticks\":\"\",\"zerolinecolor\":\"white\"},\"zaxis\":{\"backgroundcolor\":\"#E5ECF6\",\"gridcolor\":\"white\",\"gridwidth\":2,\"linecolor\":\"white\",\"showbackground\":true,\"ticks\":\"\",\"zerolinecolor\":\"white\"}},\"shapedefaults\":{\"line\":{\"color\":\"#2a3f5f\"}},\"ternary\":{\"aaxis\":{\"gridcolor\":\"white\",\"linecolor\":\"white\",\"ticks\":\"\"},\"baxis\":{\"gridcolor\":\"white\",\"linecolor\":\"white\",\"ticks\":\"\"},\"bgcolor\":\"#E5ECF6\",\"caxis\":{\"gridcolor\":\"white\",\"linecolor\":\"white\",\"ticks\":\"\"}},\"title\":{\"x\":0.05},\"xaxis\":{\"automargin\":true,\"gridcolor\":\"white\",\"linecolor\":\"white\",\"ticks\":\"\",\"title\":{\"standoff\":15},\"zerolinecolor\":\"white\",\"zerolinewidth\":2},\"yaxis\":{\"automargin\":true,\"gridcolor\":\"white\",\"linecolor\":\"white\",\"ticks\":\"\",\"title\":{\"standoff\":15},\"zerolinecolor\":\"white\",\"zerolinewidth\":2}}},\"xaxis\":{\"anchor\":\"y\",\"domain\":[0.0,1.0],\"title\":{\"text\":\"Year\"}},\"yaxis\":{\"anchor\":\"x\",\"domain\":[0.0,1.0],\"title\":{\"text\":\"AvgTemperature\"}}},                        {\"responsive\": true}                    ).then(function(){\n",
       "                            \n",
       "var gd = document.getElementById('08d8534b-71ab-4cbf-a8a9-2225c6e6c64a');\n",
       "var x = new MutationObserver(function (mutations, observer) {{\n",
       "        var display = window.getComputedStyle(gd).display;\n",
       "        if (!display || display === 'none') {{\n",
       "            console.log([gd, 'removed!']);\n",
       "            Plotly.purge(gd);\n",
       "            observer.disconnect();\n",
       "        }}\n",
       "}});\n",
       "\n",
       "// Listen for the removal of the full notebook cells\n",
       "var notebookContainer = gd.closest('#notebook-container');\n",
       "if (notebookContainer) {{\n",
       "    x.observe(notebookContainer, {childList: true});\n",
       "}}\n",
       "\n",
       "// Listen for the clearing of the current output cell\n",
       "var outputEl = gd.closest('.output');\n",
       "if (outputEl) {{\n",
       "    x.observe(outputEl, {childList: true});\n",
       "}}\n",
       "\n",
       "                        })                };                });            </script>        </div>"
      ]
     },
     "metadata": {},
     "output_type": "display_data"
    }
   ],
   "source": [
    "px.bar(year_avg, 'Year', 'AvgTemperature', color='AvgTemperature')"
   ]
  },
  {
   "cell_type": "markdown",
   "id": "62f339dd",
   "metadata": {},
   "source": [
    "Now, compare yearly average temperature of different regions. First look at what regions are included in the dataset."
   ]
  },
  {
   "cell_type": "code",
   "execution_count": 223,
   "id": "d42e7b7b",
   "metadata": {},
   "outputs": [
    {
     "data": {
      "text/plain": [
       "array(['Africa', 'Asia', 'Australia/South Pacific', 'Europe',\n",
       "       'Middle East', 'North America',\n",
       "       'South/Central America & Carribean'], dtype=object)"
      ]
     },
     "execution_count": 223,
     "metadata": {},
     "output_type": "execute_result"
    }
   ],
   "source": [
    "df.Region.unique()"
   ]
  },
  {
   "cell_type": "code",
   "execution_count": 224,
   "id": "150eaf17",
   "metadata": {},
   "outputs": [
    {
     "data": {
      "text/html": [
       "<div>\n",
       "<style scoped>\n",
       "    .dataframe tbody tr th:only-of-type {\n",
       "        vertical-align: middle;\n",
       "    }\n",
       "\n",
       "    .dataframe tbody tr th {\n",
       "        vertical-align: top;\n",
       "    }\n",
       "\n",
       "    .dataframe thead th {\n",
       "        text-align: right;\n",
       "    }\n",
       "</style>\n",
       "<table border=\"1\" class=\"dataframe\">\n",
       "  <thead>\n",
       "    <tr style=\"text-align: right;\">\n",
       "      <th></th>\n",
       "      <th>Region</th>\n",
       "      <th>Year</th>\n",
       "      <th>AvgTemperature</th>\n",
       "    </tr>\n",
       "  </thead>\n",
       "  <tbody>\n",
       "    <tr>\n",
       "      <th>0</th>\n",
       "      <td>Africa</td>\n",
       "      <td>1995</td>\n",
       "      <td>73.890036</td>\n",
       "    </tr>\n",
       "    <tr>\n",
       "      <th>1</th>\n",
       "      <td>Africa</td>\n",
       "      <td>1996</td>\n",
       "      <td>73.554702</td>\n",
       "    </tr>\n",
       "    <tr>\n",
       "      <th>2</th>\n",
       "      <td>Africa</td>\n",
       "      <td>1997</td>\n",
       "      <td>73.441142</td>\n",
       "    </tr>\n",
       "    <tr>\n",
       "      <th>3</th>\n",
       "      <td>Africa</td>\n",
       "      <td>1998</td>\n",
       "      <td>73.748808</td>\n",
       "    </tr>\n",
       "    <tr>\n",
       "      <th>4</th>\n",
       "      <td>Africa</td>\n",
       "      <td>1999</td>\n",
       "      <td>73.894222</td>\n",
       "    </tr>\n",
       "    <tr>\n",
       "      <th>...</th>\n",
       "      <td>...</td>\n",
       "      <td>...</td>\n",
       "      <td>...</td>\n",
       "    </tr>\n",
       "    <tr>\n",
       "      <th>170</th>\n",
       "      <td>South/Central America &amp; Carribean</td>\n",
       "      <td>2015</td>\n",
       "      <td>73.893853</td>\n",
       "    </tr>\n",
       "    <tr>\n",
       "      <th>171</th>\n",
       "      <td>South/Central America &amp; Carribean</td>\n",
       "      <td>2016</td>\n",
       "      <td>73.618998</td>\n",
       "    </tr>\n",
       "    <tr>\n",
       "      <th>172</th>\n",
       "      <td>South/Central America &amp; Carribean</td>\n",
       "      <td>2017</td>\n",
       "      <td>73.417055</td>\n",
       "    </tr>\n",
       "    <tr>\n",
       "      <th>173</th>\n",
       "      <td>South/Central America &amp; Carribean</td>\n",
       "      <td>2018</td>\n",
       "      <td>72.677205</td>\n",
       "    </tr>\n",
       "    <tr>\n",
       "      <th>174</th>\n",
       "      <td>South/Central America &amp; Carribean</td>\n",
       "      <td>2019</td>\n",
       "      <td>73.197650</td>\n",
       "    </tr>\n",
       "  </tbody>\n",
       "</table>\n",
       "<p>175 rows × 3 columns</p>\n",
       "</div>"
      ],
      "text/plain": [
       "                                Region  Year  AvgTemperature\n",
       "0                               Africa  1995       73.890036\n",
       "1                               Africa  1996       73.554702\n",
       "2                               Africa  1997       73.441142\n",
       "3                               Africa  1998       73.748808\n",
       "4                               Africa  1999       73.894222\n",
       "..                                 ...   ...             ...\n",
       "170  South/Central America & Carribean  2015       73.893853\n",
       "171  South/Central America & Carribean  2016       73.618998\n",
       "172  South/Central America & Carribean  2017       73.417055\n",
       "173  South/Central America & Carribean  2018       72.677205\n",
       "174  South/Central America & Carribean  2019       73.197650\n",
       "\n",
       "[175 rows x 3 columns]"
      ]
     },
     "execution_count": 224,
     "metadata": {},
     "output_type": "execute_result"
    }
   ],
   "source": [
    "region_agg = df[['Region', 'Year', 'AvgTemperature']].groupby(['Region', 'Year']).agg('mean').reset_index()\n",
    "region_agg"
   ]
  },
  {
   "cell_type": "code",
   "execution_count": 225,
   "id": "ee113618",
   "metadata": {},
   "outputs": [
    {
     "data": {
      "application/vnd.plotly.v1+json": {
       "config": {
        "plotlyServerURL": "https://plot.ly"
       },
       "data": [
        {
         "hovertemplate": "Region=Africa<br>Year=%{x}<br>AvgTemperature=%{y}<extra></extra>",
         "legendgroup": "Africa",
         "line": {
          "color": "#636efa",
          "dash": "solid"
         },
         "mode": "lines",
         "name": "Africa",
         "orientation": "v",
         "showlegend": true,
         "type": "scatter",
         "x": [
          1995,
          1996,
          1997,
          1998,
          1999,
          2000,
          2001,
          2002,
          2003,
          2004,
          2005,
          2006,
          2007,
          2008,
          2009,
          2010,
          2011,
          2012,
          2013,
          2014,
          2015,
          2016,
          2017,
          2018,
          2019
         ],
         "xaxis": "x",
         "y": [
          73.89003562680918,
          73.55470231973489,
          73.44114151293797,
          73.74880829015545,
          73.8942222767419,
          73.41774538142516,
          74.29669352927235,
          74.2887890721142,
          74.78350578960335,
          74.63945800724214,
          74.49402568397544,
          74.22643294379522,
          74.43166739894552,
          74.44145334434351,
          74.75408325750682,
          75.33058596265293,
          74.37706635622817,
          73.63346493506494,
          74.330175066313,
          74.69651595444807,
          74.8688202247191,
          75.28325705993971,
          74.94500502288203,
          74.68020244821092,
          75.09262824275149
         ],
         "yaxis": "y"
        },
        {
         "hovertemplate": "Region=Asia<br>Year=%{x}<br>AvgTemperature=%{y}<extra></extra>",
         "legendgroup": "Asia",
         "line": {
          "color": "#EF553B",
          "dash": "solid"
         },
         "mode": "lines",
         "name": "Asia",
         "orientation": "v",
         "showlegend": true,
         "type": "scatter",
         "x": [
          1995,
          1996,
          1997,
          1998,
          1999,
          2000,
          2001,
          2002,
          2003,
          2004,
          2005,
          2006,
          2007,
          2008,
          2009,
          2010,
          2011,
          2012,
          2013,
          2014,
          2015,
          2016,
          2017,
          2018,
          2019
         ],
         "xaxis": "x",
         "y": [
          67.26298510125793,
          67.86967758228808,
          68.34836746936327,
          69.06291989664082,
          68.02917794316645,
          67.7188610284743,
          67.73726484541142,
          68.05932217366208,
          67.91222320637733,
          68.31447879572677,
          67.7816818774446,
          68.70920807327552,
          68.87105562784646,
          68.08950858969237,
          68.72838223632039,
          68.82422924901186,
          67.65085130533484,
          67.23867893253771,
          67.83878858474083,
          67.80627186406797,
          68.66707195203198,
          68.85475313807532,
          68.45766962876837,
          68.45521095982518,
          68.6672094617758
         ],
         "yaxis": "y"
        },
        {
         "hovertemplate": "Region=Australia/South Pacific<br>Year=%{x}<br>AvgTemperature=%{y}<extra></extra>",
         "legendgroup": "Australia/South Pacific",
         "line": {
          "color": "#00cc96",
          "dash": "solid"
         },
         "mode": "lines",
         "name": "Australia/South Pacific",
         "orientation": "v",
         "showlegend": true,
         "type": "scatter",
         "x": [
          1995,
          1996,
          1997,
          1998,
          1999,
          2000,
          2001,
          2002,
          2003,
          2004,
          2005,
          2006,
          2007,
          2008,
          2009,
          2010,
          2011,
          2012,
          2013,
          2014,
          2015,
          2016,
          2017,
          2018,
          2019
         ],
         "xaxis": "x",
         "y": [
          61.19949748743719,
          60.956973564266185,
          61.577031963470326,
          62.031349206349205,
          62.09505494505495,
          61.85794988610479,
          61.82354557947778,
          62.17224546722455,
          61.87516129032258,
          61.85651183970856,
          62.3427397260274,
          62.06666666666667,
          62.675137362637365,
          61.76084364970197,
          62.646794871794874,
          62.304568296025586,
          62.133881278538816,
          61.739041095890414,
          62.89172382258803,
          62.84880952380952,
          62.51272893772893,
          62.98785648574057,
          62.96651439013249,
          62.81666666666666,
          63.32385150812065
         ],
         "yaxis": "y"
        },
        {
         "hovertemplate": "Region=Europe<br>Year=%{x}<br>AvgTemperature=%{y}<extra></extra>",
         "legendgroup": "Europe",
         "line": {
          "color": "#ab63fa",
          "dash": "solid"
         },
         "mode": "lines",
         "name": "Europe",
         "orientation": "v",
         "showlegend": true,
         "type": "scatter",
         "x": [
          1995,
          1996,
          1997,
          1998,
          1999,
          2000,
          2001,
          2002,
          2003,
          2004,
          2005,
          2006,
          2007,
          2008,
          2009,
          2010,
          2011,
          2012,
          2013,
          2014,
          2015,
          2016,
          2017,
          2018,
          2019
         ],
         "xaxis": "x",
         "y": [
          51.53999733617474,
          50.13843532870123,
          51.44022328132141,
          51.866760748276995,
          52.250955081817594,
          53.02125674389083,
          51.981835600689784,
          52.51161844484629,
          52.207324736532044,
          51.79084399655241,
          51.77056006385526,
          52.1197451795326,
          52.90528906141688,
          52.48594328820637,
          52.36746484755673,
          50.53998198697519,
          52.315738284703805,
          51.44140801869568,
          51.21466558032738,
          52.76514442711814,
          52.61556512698648,
          52.00933791147271,
          52.051640439429924,
          52.85107337156301,
          52.86375046142488
         ],
         "yaxis": "y"
        },
        {
         "hovertemplate": "Region=Middle East<br>Year=%{x}<br>AvgTemperature=%{y}<extra></extra>",
         "legendgroup": "Middle East",
         "line": {
          "color": "#FFA15A",
          "dash": "solid"
         },
         "mode": "lines",
         "name": "Middle East",
         "orientation": "v",
         "showlegend": true,
         "type": "scatter",
         "x": [
          1995,
          1996,
          1997,
          1998,
          1999,
          2000,
          2001,
          2002,
          2003,
          2004,
          2005,
          2006,
          2007,
          2008,
          2009,
          2010,
          2011,
          2012,
          2013,
          2014,
          2015,
          2016,
          2017,
          2018,
          2019
         ],
         "xaxis": "x",
         "y": [
          71.61265138408305,
          72.49777206512425,
          71.08145723336854,
          73.70637339055794,
          73.70773162939297,
          72.4944713054446,
          74.15565423327413,
          73.63579093799682,
          73.67422012948794,
          73.46997245179064,
          73.485307494562,
          73.61339693897834,
          73.86138837543643,
          74.01398941798941,
          74.55567843470864,
          76.05828559304052,
          73.65586854460095,
          74.30197022767076,
          74.31550960118169,
          74.87344923803391,
          75.46606683804627,
          75.11718951439623,
          75.02204639063517,
          76.23092077087794,
          74.93275512502817
         ],
         "yaxis": "y"
        },
        {
         "hovertemplate": "Region=North America<br>Year=%{x}<br>AvgTemperature=%{y}<extra></extra>",
         "legendgroup": "North America",
         "line": {
          "color": "#19d3f3",
          "dash": "solid"
         },
         "mode": "lines",
         "name": "North America",
         "orientation": "v",
         "showlegend": true,
         "type": "scatter",
         "x": [
          1995,
          1996,
          1997,
          1998,
          1999,
          2000,
          2001,
          2002,
          2003,
          2004,
          2005,
          2006,
          2007,
          2008,
          2009,
          2010,
          2011,
          2012,
          2013,
          2014,
          2015,
          2016,
          2017,
          2018,
          2019
         ],
         "xaxis": "x",
         "y": [
          55.58200922685332,
          54.1230179192987,
          54.762591636386816,
          57.49934939136612,
          56.57110994280616,
          55.51917801710484,
          56.31184427791185,
          55.96369127192488,
          55.59153550527038,
          55.778009465125145,
          56.38192471704768,
          57.13991661989898,
          56.42433256932563,
          55.31722796667855,
          55.216871289691206,
          56.250015390347826,
          56.555955193549984,
          58.09769311890324,
          55.43197310456758,
          55.21849526589065,
          57.460608740894905,
          58.29099615531156,
          57.91925185647859,
          57.00930470702583,
          56.77739454955737
         ],
         "yaxis": "y"
        },
        {
         "hovertemplate": "Region=South/Central America & Carribean<br>Year=%{x}<br>AvgTemperature=%{y}<extra></extra>",
         "legendgroup": "South/Central America & Carribean",
         "line": {
          "color": "#FF6692",
          "dash": "solid"
         },
         "mode": "lines",
         "name": "South/Central America & Carribean",
         "orientation": "v",
         "showlegend": true,
         "type": "scatter",
         "x": [
          1995,
          1996,
          1997,
          1998,
          1999,
          2000,
          2001,
          2002,
          2003,
          2004,
          2005,
          2006,
          2007,
          2008,
          2009,
          2010,
          2011,
          2012,
          2013,
          2014,
          2015,
          2016,
          2017,
          2018,
          2019
         ],
         "xaxis": "x",
         "y": [
          70.64280803080308,
          70.99755414942808,
          72.16914556962024,
          72.14605379467105,
          71.16159677801468,
          71.32738372093023,
          71.98222884659482,
          72.60814264142176,
          72.15950782997763,
          71.94175547838582,
          72.47670154123074,
          71.92567316620242,
          71.40328261650892,
          71.17617494261205,
          72.10884497765232,
          72.29501800023226,
          72.15305235970885,
          72.12604679064187,
          72.4932288401254,
          72.78028678465314,
          73.89385333838193,
          73.61899827288428,
          73.4170549860205,
          72.67720547945206,
          73.19765002098195
         ],
         "yaxis": "y"
        }
       ],
       "layout": {
        "legend": {
         "title": {
          "text": "Region"
         },
         "tracegroupgap": 0
        },
        "margin": {
         "t": 60
        },
        "template": {
         "data": {
          "bar": [
           {
            "error_x": {
             "color": "#2a3f5f"
            },
            "error_y": {
             "color": "#2a3f5f"
            },
            "marker": {
             "line": {
              "color": "#E5ECF6",
              "width": 0.5
             },
             "pattern": {
              "fillmode": "overlay",
              "size": 10,
              "solidity": 0.2
             }
            },
            "type": "bar"
           }
          ],
          "barpolar": [
           {
            "marker": {
             "line": {
              "color": "#E5ECF6",
              "width": 0.5
             },
             "pattern": {
              "fillmode": "overlay",
              "size": 10,
              "solidity": 0.2
             }
            },
            "type": "barpolar"
           }
          ],
          "carpet": [
           {
            "aaxis": {
             "endlinecolor": "#2a3f5f",
             "gridcolor": "white",
             "linecolor": "white",
             "minorgridcolor": "white",
             "startlinecolor": "#2a3f5f"
            },
            "baxis": {
             "endlinecolor": "#2a3f5f",
             "gridcolor": "white",
             "linecolor": "white",
             "minorgridcolor": "white",
             "startlinecolor": "#2a3f5f"
            },
            "type": "carpet"
           }
          ],
          "choropleth": [
           {
            "colorbar": {
             "outlinewidth": 0,
             "ticks": ""
            },
            "type": "choropleth"
           }
          ],
          "contour": [
           {
            "colorbar": {
             "outlinewidth": 0,
             "ticks": ""
            },
            "colorscale": [
             [
              0,
              "#0d0887"
             ],
             [
              0.1111111111111111,
              "#46039f"
             ],
             [
              0.2222222222222222,
              "#7201a8"
             ],
             [
              0.3333333333333333,
              "#9c179e"
             ],
             [
              0.4444444444444444,
              "#bd3786"
             ],
             [
              0.5555555555555556,
              "#d8576b"
             ],
             [
              0.6666666666666666,
              "#ed7953"
             ],
             [
              0.7777777777777778,
              "#fb9f3a"
             ],
             [
              0.8888888888888888,
              "#fdca26"
             ],
             [
              1,
              "#f0f921"
             ]
            ],
            "type": "contour"
           }
          ],
          "contourcarpet": [
           {
            "colorbar": {
             "outlinewidth": 0,
             "ticks": ""
            },
            "type": "contourcarpet"
           }
          ],
          "heatmap": [
           {
            "colorbar": {
             "outlinewidth": 0,
             "ticks": ""
            },
            "colorscale": [
             [
              0,
              "#0d0887"
             ],
             [
              0.1111111111111111,
              "#46039f"
             ],
             [
              0.2222222222222222,
              "#7201a8"
             ],
             [
              0.3333333333333333,
              "#9c179e"
             ],
             [
              0.4444444444444444,
              "#bd3786"
             ],
             [
              0.5555555555555556,
              "#d8576b"
             ],
             [
              0.6666666666666666,
              "#ed7953"
             ],
             [
              0.7777777777777778,
              "#fb9f3a"
             ],
             [
              0.8888888888888888,
              "#fdca26"
             ],
             [
              1,
              "#f0f921"
             ]
            ],
            "type": "heatmap"
           }
          ],
          "heatmapgl": [
           {
            "colorbar": {
             "outlinewidth": 0,
             "ticks": ""
            },
            "colorscale": [
             [
              0,
              "#0d0887"
             ],
             [
              0.1111111111111111,
              "#46039f"
             ],
             [
              0.2222222222222222,
              "#7201a8"
             ],
             [
              0.3333333333333333,
              "#9c179e"
             ],
             [
              0.4444444444444444,
              "#bd3786"
             ],
             [
              0.5555555555555556,
              "#d8576b"
             ],
             [
              0.6666666666666666,
              "#ed7953"
             ],
             [
              0.7777777777777778,
              "#fb9f3a"
             ],
             [
              0.8888888888888888,
              "#fdca26"
             ],
             [
              1,
              "#f0f921"
             ]
            ],
            "type": "heatmapgl"
           }
          ],
          "histogram": [
           {
            "marker": {
             "pattern": {
              "fillmode": "overlay",
              "size": 10,
              "solidity": 0.2
             }
            },
            "type": "histogram"
           }
          ],
          "histogram2d": [
           {
            "colorbar": {
             "outlinewidth": 0,
             "ticks": ""
            },
            "colorscale": [
             [
              0,
              "#0d0887"
             ],
             [
              0.1111111111111111,
              "#46039f"
             ],
             [
              0.2222222222222222,
              "#7201a8"
             ],
             [
              0.3333333333333333,
              "#9c179e"
             ],
             [
              0.4444444444444444,
              "#bd3786"
             ],
             [
              0.5555555555555556,
              "#d8576b"
             ],
             [
              0.6666666666666666,
              "#ed7953"
             ],
             [
              0.7777777777777778,
              "#fb9f3a"
             ],
             [
              0.8888888888888888,
              "#fdca26"
             ],
             [
              1,
              "#f0f921"
             ]
            ],
            "type": "histogram2d"
           }
          ],
          "histogram2dcontour": [
           {
            "colorbar": {
             "outlinewidth": 0,
             "ticks": ""
            },
            "colorscale": [
             [
              0,
              "#0d0887"
             ],
             [
              0.1111111111111111,
              "#46039f"
             ],
             [
              0.2222222222222222,
              "#7201a8"
             ],
             [
              0.3333333333333333,
              "#9c179e"
             ],
             [
              0.4444444444444444,
              "#bd3786"
             ],
             [
              0.5555555555555556,
              "#d8576b"
             ],
             [
              0.6666666666666666,
              "#ed7953"
             ],
             [
              0.7777777777777778,
              "#fb9f3a"
             ],
             [
              0.8888888888888888,
              "#fdca26"
             ],
             [
              1,
              "#f0f921"
             ]
            ],
            "type": "histogram2dcontour"
           }
          ],
          "mesh3d": [
           {
            "colorbar": {
             "outlinewidth": 0,
             "ticks": ""
            },
            "type": "mesh3d"
           }
          ],
          "parcoords": [
           {
            "line": {
             "colorbar": {
              "outlinewidth": 0,
              "ticks": ""
             }
            },
            "type": "parcoords"
           }
          ],
          "pie": [
           {
            "automargin": true,
            "type": "pie"
           }
          ],
          "scatter": [
           {
            "marker": {
             "colorbar": {
              "outlinewidth": 0,
              "ticks": ""
             }
            },
            "type": "scatter"
           }
          ],
          "scatter3d": [
           {
            "line": {
             "colorbar": {
              "outlinewidth": 0,
              "ticks": ""
             }
            },
            "marker": {
             "colorbar": {
              "outlinewidth": 0,
              "ticks": ""
             }
            },
            "type": "scatter3d"
           }
          ],
          "scattercarpet": [
           {
            "marker": {
             "colorbar": {
              "outlinewidth": 0,
              "ticks": ""
             }
            },
            "type": "scattercarpet"
           }
          ],
          "scattergeo": [
           {
            "marker": {
             "colorbar": {
              "outlinewidth": 0,
              "ticks": ""
             }
            },
            "type": "scattergeo"
           }
          ],
          "scattergl": [
           {
            "marker": {
             "colorbar": {
              "outlinewidth": 0,
              "ticks": ""
             }
            },
            "type": "scattergl"
           }
          ],
          "scattermapbox": [
           {
            "marker": {
             "colorbar": {
              "outlinewidth": 0,
              "ticks": ""
             }
            },
            "type": "scattermapbox"
           }
          ],
          "scatterpolar": [
           {
            "marker": {
             "colorbar": {
              "outlinewidth": 0,
              "ticks": ""
             }
            },
            "type": "scatterpolar"
           }
          ],
          "scatterpolargl": [
           {
            "marker": {
             "colorbar": {
              "outlinewidth": 0,
              "ticks": ""
             }
            },
            "type": "scatterpolargl"
           }
          ],
          "scatterternary": [
           {
            "marker": {
             "colorbar": {
              "outlinewidth": 0,
              "ticks": ""
             }
            },
            "type": "scatterternary"
           }
          ],
          "surface": [
           {
            "colorbar": {
             "outlinewidth": 0,
             "ticks": ""
            },
            "colorscale": [
             [
              0,
              "#0d0887"
             ],
             [
              0.1111111111111111,
              "#46039f"
             ],
             [
              0.2222222222222222,
              "#7201a8"
             ],
             [
              0.3333333333333333,
              "#9c179e"
             ],
             [
              0.4444444444444444,
              "#bd3786"
             ],
             [
              0.5555555555555556,
              "#d8576b"
             ],
             [
              0.6666666666666666,
              "#ed7953"
             ],
             [
              0.7777777777777778,
              "#fb9f3a"
             ],
             [
              0.8888888888888888,
              "#fdca26"
             ],
             [
              1,
              "#f0f921"
             ]
            ],
            "type": "surface"
           }
          ],
          "table": [
           {
            "cells": {
             "fill": {
              "color": "#EBF0F8"
             },
             "line": {
              "color": "white"
             }
            },
            "header": {
             "fill": {
              "color": "#C8D4E3"
             },
             "line": {
              "color": "white"
             }
            },
            "type": "table"
           }
          ]
         },
         "layout": {
          "annotationdefaults": {
           "arrowcolor": "#2a3f5f",
           "arrowhead": 0,
           "arrowwidth": 1
          },
          "autotypenumbers": "strict",
          "coloraxis": {
           "colorbar": {
            "outlinewidth": 0,
            "ticks": ""
           }
          },
          "colorscale": {
           "diverging": [
            [
             0,
             "#8e0152"
            ],
            [
             0.1,
             "#c51b7d"
            ],
            [
             0.2,
             "#de77ae"
            ],
            [
             0.3,
             "#f1b6da"
            ],
            [
             0.4,
             "#fde0ef"
            ],
            [
             0.5,
             "#f7f7f7"
            ],
            [
             0.6,
             "#e6f5d0"
            ],
            [
             0.7,
             "#b8e186"
            ],
            [
             0.8,
             "#7fbc41"
            ],
            [
             0.9,
             "#4d9221"
            ],
            [
             1,
             "#276419"
            ]
           ],
           "sequential": [
            [
             0,
             "#0d0887"
            ],
            [
             0.1111111111111111,
             "#46039f"
            ],
            [
             0.2222222222222222,
             "#7201a8"
            ],
            [
             0.3333333333333333,
             "#9c179e"
            ],
            [
             0.4444444444444444,
             "#bd3786"
            ],
            [
             0.5555555555555556,
             "#d8576b"
            ],
            [
             0.6666666666666666,
             "#ed7953"
            ],
            [
             0.7777777777777778,
             "#fb9f3a"
            ],
            [
             0.8888888888888888,
             "#fdca26"
            ],
            [
             1,
             "#f0f921"
            ]
           ],
           "sequentialminus": [
            [
             0,
             "#0d0887"
            ],
            [
             0.1111111111111111,
             "#46039f"
            ],
            [
             0.2222222222222222,
             "#7201a8"
            ],
            [
             0.3333333333333333,
             "#9c179e"
            ],
            [
             0.4444444444444444,
             "#bd3786"
            ],
            [
             0.5555555555555556,
             "#d8576b"
            ],
            [
             0.6666666666666666,
             "#ed7953"
            ],
            [
             0.7777777777777778,
             "#fb9f3a"
            ],
            [
             0.8888888888888888,
             "#fdca26"
            ],
            [
             1,
             "#f0f921"
            ]
           ]
          },
          "colorway": [
           "#636efa",
           "#EF553B",
           "#00cc96",
           "#ab63fa",
           "#FFA15A",
           "#19d3f3",
           "#FF6692",
           "#B6E880",
           "#FF97FF",
           "#FECB52"
          ],
          "font": {
           "color": "#2a3f5f"
          },
          "geo": {
           "bgcolor": "white",
           "lakecolor": "white",
           "landcolor": "#E5ECF6",
           "showlakes": true,
           "showland": true,
           "subunitcolor": "white"
          },
          "hoverlabel": {
           "align": "left"
          },
          "hovermode": "closest",
          "mapbox": {
           "style": "light"
          },
          "paper_bgcolor": "white",
          "plot_bgcolor": "#E5ECF6",
          "polar": {
           "angularaxis": {
            "gridcolor": "white",
            "linecolor": "white",
            "ticks": ""
           },
           "bgcolor": "#E5ECF6",
           "radialaxis": {
            "gridcolor": "white",
            "linecolor": "white",
            "ticks": ""
           }
          },
          "scene": {
           "xaxis": {
            "backgroundcolor": "#E5ECF6",
            "gridcolor": "white",
            "gridwidth": 2,
            "linecolor": "white",
            "showbackground": true,
            "ticks": "",
            "zerolinecolor": "white"
           },
           "yaxis": {
            "backgroundcolor": "#E5ECF6",
            "gridcolor": "white",
            "gridwidth": 2,
            "linecolor": "white",
            "showbackground": true,
            "ticks": "",
            "zerolinecolor": "white"
           },
           "zaxis": {
            "backgroundcolor": "#E5ECF6",
            "gridcolor": "white",
            "gridwidth": 2,
            "linecolor": "white",
            "showbackground": true,
            "ticks": "",
            "zerolinecolor": "white"
           }
          },
          "shapedefaults": {
           "line": {
            "color": "#2a3f5f"
           }
          },
          "ternary": {
           "aaxis": {
            "gridcolor": "white",
            "linecolor": "white",
            "ticks": ""
           },
           "baxis": {
            "gridcolor": "white",
            "linecolor": "white",
            "ticks": ""
           },
           "bgcolor": "#E5ECF6",
           "caxis": {
            "gridcolor": "white",
            "linecolor": "white",
            "ticks": ""
           }
          },
          "title": {
           "x": 0.05
          },
          "xaxis": {
           "automargin": true,
           "gridcolor": "white",
           "linecolor": "white",
           "ticks": "",
           "title": {
            "standoff": 15
           },
           "zerolinecolor": "white",
           "zerolinewidth": 2
          },
          "yaxis": {
           "automargin": true,
           "gridcolor": "white",
           "linecolor": "white",
           "ticks": "",
           "title": {
            "standoff": 15
           },
           "zerolinecolor": "white",
           "zerolinewidth": 2
          }
         }
        },
        "xaxis": {
         "anchor": "y",
         "domain": [
          0,
          1
         ],
         "dtick": "Year",
         "title": {
          "text": "Year"
         }
        },
        "yaxis": {
         "anchor": "x",
         "domain": [
          0,
          1
         ],
         "title": {
          "text": "AvgTemperature"
         }
        }
       }
      },
      "text/html": [
       "<div>                            <div id=\"b45c23f6-4693-4c91-bf00-52afd4968e38\" class=\"plotly-graph-div\" style=\"height:525px; width:100%;\"></div>            <script type=\"text/javascript\">                require([\"plotly\"], function(Plotly) {                    window.PLOTLYENV=window.PLOTLYENV || {};                                    if (document.getElementById(\"b45c23f6-4693-4c91-bf00-52afd4968e38\")) {                    Plotly.newPlot(                        \"b45c23f6-4693-4c91-bf00-52afd4968e38\",                        [{\"hovertemplate\":\"Region=Africa<br>Year=%{x}<br>AvgTemperature=%{y}<extra></extra>\",\"legendgroup\":\"Africa\",\"line\":{\"color\":\"#636efa\",\"dash\":\"solid\"},\"mode\":\"lines\",\"name\":\"Africa\",\"orientation\":\"v\",\"showlegend\":true,\"type\":\"scatter\",\"x\":[1995,1996,1997,1998,1999,2000,2001,2002,2003,2004,2005,2006,2007,2008,2009,2010,2011,2012,2013,2014,2015,2016,2017,2018,2019],\"xaxis\":\"x\",\"y\":[73.89003562680918,73.55470231973489,73.44114151293797,73.74880829015545,73.8942222767419,73.41774538142516,74.29669352927235,74.2887890721142,74.78350578960335,74.63945800724214,74.49402568397544,74.22643294379522,74.43166739894552,74.44145334434351,74.75408325750682,75.33058596265293,74.37706635622817,73.63346493506494,74.330175066313,74.69651595444807,74.8688202247191,75.28325705993971,74.94500502288203,74.68020244821092,75.09262824275149],\"yaxis\":\"y\"},{\"hovertemplate\":\"Region=Asia<br>Year=%{x}<br>AvgTemperature=%{y}<extra></extra>\",\"legendgroup\":\"Asia\",\"line\":{\"color\":\"#EF553B\",\"dash\":\"solid\"},\"mode\":\"lines\",\"name\":\"Asia\",\"orientation\":\"v\",\"showlegend\":true,\"type\":\"scatter\",\"x\":[1995,1996,1997,1998,1999,2000,2001,2002,2003,2004,2005,2006,2007,2008,2009,2010,2011,2012,2013,2014,2015,2016,2017,2018,2019],\"xaxis\":\"x\",\"y\":[67.26298510125793,67.86967758228808,68.34836746936327,69.06291989664082,68.02917794316645,67.7188610284743,67.73726484541142,68.05932217366208,67.91222320637733,68.31447879572677,67.7816818774446,68.70920807327552,68.87105562784646,68.08950858969237,68.72838223632039,68.82422924901186,67.65085130533484,67.23867893253771,67.83878858474083,67.80627186406797,68.66707195203198,68.85475313807532,68.45766962876837,68.45521095982518,68.6672094617758],\"yaxis\":\"y\"},{\"hovertemplate\":\"Region=Australia/South Pacific<br>Year=%{x}<br>AvgTemperature=%{y}<extra></extra>\",\"legendgroup\":\"Australia/South Pacific\",\"line\":{\"color\":\"#00cc96\",\"dash\":\"solid\"},\"mode\":\"lines\",\"name\":\"Australia/South Pacific\",\"orientation\":\"v\",\"showlegend\":true,\"type\":\"scatter\",\"x\":[1995,1996,1997,1998,1999,2000,2001,2002,2003,2004,2005,2006,2007,2008,2009,2010,2011,2012,2013,2014,2015,2016,2017,2018,2019],\"xaxis\":\"x\",\"y\":[61.19949748743719,60.956973564266185,61.577031963470326,62.031349206349205,62.09505494505495,61.85794988610479,61.82354557947778,62.17224546722455,61.87516129032258,61.85651183970856,62.3427397260274,62.06666666666667,62.675137362637365,61.76084364970197,62.646794871794874,62.304568296025586,62.133881278538816,61.739041095890414,62.89172382258803,62.84880952380952,62.51272893772893,62.98785648574057,62.96651439013249,62.81666666666666,63.32385150812065],\"yaxis\":\"y\"},{\"hovertemplate\":\"Region=Europe<br>Year=%{x}<br>AvgTemperature=%{y}<extra></extra>\",\"legendgroup\":\"Europe\",\"line\":{\"color\":\"#ab63fa\",\"dash\":\"solid\"},\"mode\":\"lines\",\"name\":\"Europe\",\"orientation\":\"v\",\"showlegend\":true,\"type\":\"scatter\",\"x\":[1995,1996,1997,1998,1999,2000,2001,2002,2003,2004,2005,2006,2007,2008,2009,2010,2011,2012,2013,2014,2015,2016,2017,2018,2019],\"xaxis\":\"x\",\"y\":[51.53999733617474,50.13843532870123,51.44022328132141,51.866760748276995,52.250955081817594,53.02125674389083,51.981835600689784,52.51161844484629,52.207324736532044,51.79084399655241,51.77056006385526,52.1197451795326,52.90528906141688,52.48594328820637,52.36746484755673,50.53998198697519,52.315738284703805,51.44140801869568,51.21466558032738,52.76514442711814,52.61556512698648,52.00933791147271,52.051640439429924,52.85107337156301,52.86375046142488],\"yaxis\":\"y\"},{\"hovertemplate\":\"Region=Middle East<br>Year=%{x}<br>AvgTemperature=%{y}<extra></extra>\",\"legendgroup\":\"Middle East\",\"line\":{\"color\":\"#FFA15A\",\"dash\":\"solid\"},\"mode\":\"lines\",\"name\":\"Middle East\",\"orientation\":\"v\",\"showlegend\":true,\"type\":\"scatter\",\"x\":[1995,1996,1997,1998,1999,2000,2001,2002,2003,2004,2005,2006,2007,2008,2009,2010,2011,2012,2013,2014,2015,2016,2017,2018,2019],\"xaxis\":\"x\",\"y\":[71.61265138408305,72.49777206512425,71.08145723336854,73.70637339055794,73.70773162939297,72.4944713054446,74.15565423327413,73.63579093799682,73.67422012948794,73.46997245179064,73.485307494562,73.61339693897834,73.86138837543643,74.01398941798941,74.55567843470864,76.05828559304052,73.65586854460095,74.30197022767076,74.31550960118169,74.87344923803391,75.46606683804627,75.11718951439623,75.02204639063517,76.23092077087794,74.93275512502817],\"yaxis\":\"y\"},{\"hovertemplate\":\"Region=North America<br>Year=%{x}<br>AvgTemperature=%{y}<extra></extra>\",\"legendgroup\":\"North America\",\"line\":{\"color\":\"#19d3f3\",\"dash\":\"solid\"},\"mode\":\"lines\",\"name\":\"North America\",\"orientation\":\"v\",\"showlegend\":true,\"type\":\"scatter\",\"x\":[1995,1996,1997,1998,1999,2000,2001,2002,2003,2004,2005,2006,2007,2008,2009,2010,2011,2012,2013,2014,2015,2016,2017,2018,2019],\"xaxis\":\"x\",\"y\":[55.58200922685332,54.1230179192987,54.762591636386816,57.49934939136612,56.57110994280616,55.51917801710484,56.31184427791185,55.96369127192488,55.59153550527038,55.778009465125145,56.38192471704768,57.13991661989898,56.42433256932563,55.31722796667855,55.216871289691206,56.250015390347826,56.555955193549984,58.09769311890324,55.43197310456758,55.21849526589065,57.460608740894905,58.29099615531156,57.91925185647859,57.00930470702583,56.77739454955737],\"yaxis\":\"y\"},{\"hovertemplate\":\"Region=South/Central America & Carribean<br>Year=%{x}<br>AvgTemperature=%{y}<extra></extra>\",\"legendgroup\":\"South/Central America & Carribean\",\"line\":{\"color\":\"#FF6692\",\"dash\":\"solid\"},\"mode\":\"lines\",\"name\":\"South/Central America & Carribean\",\"orientation\":\"v\",\"showlegend\":true,\"type\":\"scatter\",\"x\":[1995,1996,1997,1998,1999,2000,2001,2002,2003,2004,2005,2006,2007,2008,2009,2010,2011,2012,2013,2014,2015,2016,2017,2018,2019],\"xaxis\":\"x\",\"y\":[70.64280803080308,70.99755414942808,72.16914556962024,72.14605379467105,71.16159677801468,71.32738372093023,71.98222884659482,72.60814264142176,72.15950782997763,71.94175547838582,72.47670154123074,71.92567316620242,71.40328261650892,71.17617494261205,72.10884497765232,72.29501800023226,72.15305235970885,72.12604679064187,72.4932288401254,72.78028678465314,73.89385333838193,73.61899827288428,73.4170549860205,72.67720547945206,73.19765002098195],\"yaxis\":\"y\"}],                        {\"legend\":{\"title\":{\"text\":\"Region\"},\"tracegroupgap\":0},\"margin\":{\"t\":60},\"template\":{\"data\":{\"bar\":[{\"error_x\":{\"color\":\"#2a3f5f\"},\"error_y\":{\"color\":\"#2a3f5f\"},\"marker\":{\"line\":{\"color\":\"#E5ECF6\",\"width\":0.5},\"pattern\":{\"fillmode\":\"overlay\",\"size\":10,\"solidity\":0.2}},\"type\":\"bar\"}],\"barpolar\":[{\"marker\":{\"line\":{\"color\":\"#E5ECF6\",\"width\":0.5},\"pattern\":{\"fillmode\":\"overlay\",\"size\":10,\"solidity\":0.2}},\"type\":\"barpolar\"}],\"carpet\":[{\"aaxis\":{\"endlinecolor\":\"#2a3f5f\",\"gridcolor\":\"white\",\"linecolor\":\"white\",\"minorgridcolor\":\"white\",\"startlinecolor\":\"#2a3f5f\"},\"baxis\":{\"endlinecolor\":\"#2a3f5f\",\"gridcolor\":\"white\",\"linecolor\":\"white\",\"minorgridcolor\":\"white\",\"startlinecolor\":\"#2a3f5f\"},\"type\":\"carpet\"}],\"choropleth\":[{\"colorbar\":{\"outlinewidth\":0,\"ticks\":\"\"},\"type\":\"choropleth\"}],\"contour\":[{\"colorbar\":{\"outlinewidth\":0,\"ticks\":\"\"},\"colorscale\":[[0.0,\"#0d0887\"],[0.1111111111111111,\"#46039f\"],[0.2222222222222222,\"#7201a8\"],[0.3333333333333333,\"#9c179e\"],[0.4444444444444444,\"#bd3786\"],[0.5555555555555556,\"#d8576b\"],[0.6666666666666666,\"#ed7953\"],[0.7777777777777778,\"#fb9f3a\"],[0.8888888888888888,\"#fdca26\"],[1.0,\"#f0f921\"]],\"type\":\"contour\"}],\"contourcarpet\":[{\"colorbar\":{\"outlinewidth\":0,\"ticks\":\"\"},\"type\":\"contourcarpet\"}],\"heatmap\":[{\"colorbar\":{\"outlinewidth\":0,\"ticks\":\"\"},\"colorscale\":[[0.0,\"#0d0887\"],[0.1111111111111111,\"#46039f\"],[0.2222222222222222,\"#7201a8\"],[0.3333333333333333,\"#9c179e\"],[0.4444444444444444,\"#bd3786\"],[0.5555555555555556,\"#d8576b\"],[0.6666666666666666,\"#ed7953\"],[0.7777777777777778,\"#fb9f3a\"],[0.8888888888888888,\"#fdca26\"],[1.0,\"#f0f921\"]],\"type\":\"heatmap\"}],\"heatmapgl\":[{\"colorbar\":{\"outlinewidth\":0,\"ticks\":\"\"},\"colorscale\":[[0.0,\"#0d0887\"],[0.1111111111111111,\"#46039f\"],[0.2222222222222222,\"#7201a8\"],[0.3333333333333333,\"#9c179e\"],[0.4444444444444444,\"#bd3786\"],[0.5555555555555556,\"#d8576b\"],[0.6666666666666666,\"#ed7953\"],[0.7777777777777778,\"#fb9f3a\"],[0.8888888888888888,\"#fdca26\"],[1.0,\"#f0f921\"]],\"type\":\"heatmapgl\"}],\"histogram\":[{\"marker\":{\"pattern\":{\"fillmode\":\"overlay\",\"size\":10,\"solidity\":0.2}},\"type\":\"histogram\"}],\"histogram2d\":[{\"colorbar\":{\"outlinewidth\":0,\"ticks\":\"\"},\"colorscale\":[[0.0,\"#0d0887\"],[0.1111111111111111,\"#46039f\"],[0.2222222222222222,\"#7201a8\"],[0.3333333333333333,\"#9c179e\"],[0.4444444444444444,\"#bd3786\"],[0.5555555555555556,\"#d8576b\"],[0.6666666666666666,\"#ed7953\"],[0.7777777777777778,\"#fb9f3a\"],[0.8888888888888888,\"#fdca26\"],[1.0,\"#f0f921\"]],\"type\":\"histogram2d\"}],\"histogram2dcontour\":[{\"colorbar\":{\"outlinewidth\":0,\"ticks\":\"\"},\"colorscale\":[[0.0,\"#0d0887\"],[0.1111111111111111,\"#46039f\"],[0.2222222222222222,\"#7201a8\"],[0.3333333333333333,\"#9c179e\"],[0.4444444444444444,\"#bd3786\"],[0.5555555555555556,\"#d8576b\"],[0.6666666666666666,\"#ed7953\"],[0.7777777777777778,\"#fb9f3a\"],[0.8888888888888888,\"#fdca26\"],[1.0,\"#f0f921\"]],\"type\":\"histogram2dcontour\"}],\"mesh3d\":[{\"colorbar\":{\"outlinewidth\":0,\"ticks\":\"\"},\"type\":\"mesh3d\"}],\"parcoords\":[{\"line\":{\"colorbar\":{\"outlinewidth\":0,\"ticks\":\"\"}},\"type\":\"parcoords\"}],\"pie\":[{\"automargin\":true,\"type\":\"pie\"}],\"scatter\":[{\"marker\":{\"colorbar\":{\"outlinewidth\":0,\"ticks\":\"\"}},\"type\":\"scatter\"}],\"scatter3d\":[{\"line\":{\"colorbar\":{\"outlinewidth\":0,\"ticks\":\"\"}},\"marker\":{\"colorbar\":{\"outlinewidth\":0,\"ticks\":\"\"}},\"type\":\"scatter3d\"}],\"scattercarpet\":[{\"marker\":{\"colorbar\":{\"outlinewidth\":0,\"ticks\":\"\"}},\"type\":\"scattercarpet\"}],\"scattergeo\":[{\"marker\":{\"colorbar\":{\"outlinewidth\":0,\"ticks\":\"\"}},\"type\":\"scattergeo\"}],\"scattergl\":[{\"marker\":{\"colorbar\":{\"outlinewidth\":0,\"ticks\":\"\"}},\"type\":\"scattergl\"}],\"scattermapbox\":[{\"marker\":{\"colorbar\":{\"outlinewidth\":0,\"ticks\":\"\"}},\"type\":\"scattermapbox\"}],\"scatterpolar\":[{\"marker\":{\"colorbar\":{\"outlinewidth\":0,\"ticks\":\"\"}},\"type\":\"scatterpolar\"}],\"scatterpolargl\":[{\"marker\":{\"colorbar\":{\"outlinewidth\":0,\"ticks\":\"\"}},\"type\":\"scatterpolargl\"}],\"scatterternary\":[{\"marker\":{\"colorbar\":{\"outlinewidth\":0,\"ticks\":\"\"}},\"type\":\"scatterternary\"}],\"surface\":[{\"colorbar\":{\"outlinewidth\":0,\"ticks\":\"\"},\"colorscale\":[[0.0,\"#0d0887\"],[0.1111111111111111,\"#46039f\"],[0.2222222222222222,\"#7201a8\"],[0.3333333333333333,\"#9c179e\"],[0.4444444444444444,\"#bd3786\"],[0.5555555555555556,\"#d8576b\"],[0.6666666666666666,\"#ed7953\"],[0.7777777777777778,\"#fb9f3a\"],[0.8888888888888888,\"#fdca26\"],[1.0,\"#f0f921\"]],\"type\":\"surface\"}],\"table\":[{\"cells\":{\"fill\":{\"color\":\"#EBF0F8\"},\"line\":{\"color\":\"white\"}},\"header\":{\"fill\":{\"color\":\"#C8D4E3\"},\"line\":{\"color\":\"white\"}},\"type\":\"table\"}]},\"layout\":{\"annotationdefaults\":{\"arrowcolor\":\"#2a3f5f\",\"arrowhead\":0,\"arrowwidth\":1},\"autotypenumbers\":\"strict\",\"coloraxis\":{\"colorbar\":{\"outlinewidth\":0,\"ticks\":\"\"}},\"colorscale\":{\"diverging\":[[0,\"#8e0152\"],[0.1,\"#c51b7d\"],[0.2,\"#de77ae\"],[0.3,\"#f1b6da\"],[0.4,\"#fde0ef\"],[0.5,\"#f7f7f7\"],[0.6,\"#e6f5d0\"],[0.7,\"#b8e186\"],[0.8,\"#7fbc41\"],[0.9,\"#4d9221\"],[1,\"#276419\"]],\"sequential\":[[0.0,\"#0d0887\"],[0.1111111111111111,\"#46039f\"],[0.2222222222222222,\"#7201a8\"],[0.3333333333333333,\"#9c179e\"],[0.4444444444444444,\"#bd3786\"],[0.5555555555555556,\"#d8576b\"],[0.6666666666666666,\"#ed7953\"],[0.7777777777777778,\"#fb9f3a\"],[0.8888888888888888,\"#fdca26\"],[1.0,\"#f0f921\"]],\"sequentialminus\":[[0.0,\"#0d0887\"],[0.1111111111111111,\"#46039f\"],[0.2222222222222222,\"#7201a8\"],[0.3333333333333333,\"#9c179e\"],[0.4444444444444444,\"#bd3786\"],[0.5555555555555556,\"#d8576b\"],[0.6666666666666666,\"#ed7953\"],[0.7777777777777778,\"#fb9f3a\"],[0.8888888888888888,\"#fdca26\"],[1.0,\"#f0f921\"]]},\"colorway\":[\"#636efa\",\"#EF553B\",\"#00cc96\",\"#ab63fa\",\"#FFA15A\",\"#19d3f3\",\"#FF6692\",\"#B6E880\",\"#FF97FF\",\"#FECB52\"],\"font\":{\"color\":\"#2a3f5f\"},\"geo\":{\"bgcolor\":\"white\",\"lakecolor\":\"white\",\"landcolor\":\"#E5ECF6\",\"showlakes\":true,\"showland\":true,\"subunitcolor\":\"white\"},\"hoverlabel\":{\"align\":\"left\"},\"hovermode\":\"closest\",\"mapbox\":{\"style\":\"light\"},\"paper_bgcolor\":\"white\",\"plot_bgcolor\":\"#E5ECF6\",\"polar\":{\"angularaxis\":{\"gridcolor\":\"white\",\"linecolor\":\"white\",\"ticks\":\"\"},\"bgcolor\":\"#E5ECF6\",\"radialaxis\":{\"gridcolor\":\"white\",\"linecolor\":\"white\",\"ticks\":\"\"}},\"scene\":{\"xaxis\":{\"backgroundcolor\":\"#E5ECF6\",\"gridcolor\":\"white\",\"gridwidth\":2,\"linecolor\":\"white\",\"showbackground\":true,\"ticks\":\"\",\"zerolinecolor\":\"white\"},\"yaxis\":{\"backgroundcolor\":\"#E5ECF6\",\"gridcolor\":\"white\",\"gridwidth\":2,\"linecolor\":\"white\",\"showbackground\":true,\"ticks\":\"\",\"zerolinecolor\":\"white\"},\"zaxis\":{\"backgroundcolor\":\"#E5ECF6\",\"gridcolor\":\"white\",\"gridwidth\":2,\"linecolor\":\"white\",\"showbackground\":true,\"ticks\":\"\",\"zerolinecolor\":\"white\"}},\"shapedefaults\":{\"line\":{\"color\":\"#2a3f5f\"}},\"ternary\":{\"aaxis\":{\"gridcolor\":\"white\",\"linecolor\":\"white\",\"ticks\":\"\"},\"baxis\":{\"gridcolor\":\"white\",\"linecolor\":\"white\",\"ticks\":\"\"},\"bgcolor\":\"#E5ECF6\",\"caxis\":{\"gridcolor\":\"white\",\"linecolor\":\"white\",\"ticks\":\"\"}},\"title\":{\"x\":0.05},\"xaxis\":{\"automargin\":true,\"gridcolor\":\"white\",\"linecolor\":\"white\",\"ticks\":\"\",\"title\":{\"standoff\":15},\"zerolinecolor\":\"white\",\"zerolinewidth\":2},\"yaxis\":{\"automargin\":true,\"gridcolor\":\"white\",\"linecolor\":\"white\",\"ticks\":\"\",\"title\":{\"standoff\":15},\"zerolinecolor\":\"white\",\"zerolinewidth\":2}}},\"xaxis\":{\"anchor\":\"y\",\"domain\":[0.0,1.0],\"dtick\":\"Year\",\"title\":{\"text\":\"Year\"}},\"yaxis\":{\"anchor\":\"x\",\"domain\":[0.0,1.0],\"title\":{\"text\":\"AvgTemperature\"}}},                        {\"responsive\": true}                    ).then(function(){\n",
       "                            \n",
       "var gd = document.getElementById('b45c23f6-4693-4c91-bf00-52afd4968e38');\n",
       "var x = new MutationObserver(function (mutations, observer) {{\n",
       "        var display = window.getComputedStyle(gd).display;\n",
       "        if (!display || display === 'none') {{\n",
       "            console.log([gd, 'removed!']);\n",
       "            Plotly.purge(gd);\n",
       "            observer.disconnect();\n",
       "        }}\n",
       "}});\n",
       "\n",
       "// Listen for the removal of the full notebook cells\n",
       "var notebookContainer = gd.closest('#notebook-container');\n",
       "if (notebookContainer) {{\n",
       "    x.observe(notebookContainer, {childList: true});\n",
       "}}\n",
       "\n",
       "// Listen for the clearing of the current output cell\n",
       "var outputEl = gd.closest('.output');\n",
       "if (outputEl) {{\n",
       "    x.observe(outputEl, {childList: true});\n",
       "}}\n",
       "\n",
       "                        })                };                });            </script>        </div>"
      ]
     },
     "metadata": {},
     "output_type": "display_data"
    }
   ],
   "source": [
    "fig = px.line(region_agg, 'Year', 'AvgTemperature', color='Region')\n",
    "fig.update_xaxes(dtick = 'Year')\n",
    "fig.show();"
   ]
  },
  {
   "cell_type": "markdown",
   "id": "7af0a8da",
   "metadata": {},
   "source": [
    "An overall upward trend can be observed for all regions worlwide. Middle East, Africa, and Central America & Carribean have the highest average temperatures globally while North America and Europe share the bottom places. "
   ]
  },
  {
   "cell_type": "markdown",
   "id": "aab93611",
   "metadata": {},
   "source": [
    "Analyze the monthly average temperature in Turkey"
   ]
  },
  {
   "cell_type": "code",
   "execution_count": 226,
   "id": "add15ae8",
   "metadata": {},
   "outputs": [
    {
     "data": {
      "text/html": [
       "<div>\n",
       "<style scoped>\n",
       "    .dataframe tbody tr th:only-of-type {\n",
       "        vertical-align: middle;\n",
       "    }\n",
       "\n",
       "    .dataframe tbody tr th {\n",
       "        vertical-align: top;\n",
       "    }\n",
       "\n",
       "    .dataframe thead th {\n",
       "        text-align: right;\n",
       "    }\n",
       "</style>\n",
       "<table border=\"1\" class=\"dataframe\">\n",
       "  <thead>\n",
       "    <tr style=\"text-align: right;\">\n",
       "      <th></th>\n",
       "      <th>Country</th>\n",
       "      <th>Year</th>\n",
       "      <th>Month</th>\n",
       "      <th>AvgTemperature</th>\n",
       "    </tr>\n",
       "  </thead>\n",
       "  <tbody>\n",
       "    <tr>\n",
       "      <th>16178</th>\n",
       "      <td>Kuwait</td>\n",
       "      <td>1998</td>\n",
       "      <td>12</td>\n",
       "      <td>62.425926</td>\n",
       "    </tr>\n",
       "    <tr>\n",
       "      <th>29623</th>\n",
       "      <td>Tajikistan</td>\n",
       "      <td>2008</td>\n",
       "      <td>7</td>\n",
       "      <td>84.006452</td>\n",
       "    </tr>\n",
       "    <tr>\n",
       "      <th>28500</th>\n",
       "      <td>Sweden</td>\n",
       "      <td>2013</td>\n",
       "      <td>6</td>\n",
       "      <td>61.213333</td>\n",
       "    </tr>\n",
       "    <tr>\n",
       "      <th>615</th>\n",
       "      <td>Argentina</td>\n",
       "      <td>1999</td>\n",
       "      <td>5</td>\n",
       "      <td>55.845161</td>\n",
       "    </tr>\n",
       "    <tr>\n",
       "      <th>20471</th>\n",
       "      <td>Namibia</td>\n",
       "      <td>2002</td>\n",
       "      <td>2</td>\n",
       "      <td>79.188889</td>\n",
       "    </tr>\n",
       "  </tbody>\n",
       "</table>\n",
       "</div>"
      ],
      "text/plain": [
       "          Country  Year  Month  AvgTemperature\n",
       "16178      Kuwait  1998     12       62.425926\n",
       "29623  Tajikistan  2008      7       84.006452\n",
       "28500      Sweden  2013      6       61.213333\n",
       "615     Argentina  1999      5       55.845161\n",
       "20471     Namibia  2002      2       79.188889"
      ]
     },
     "execution_count": 226,
     "metadata": {},
     "output_type": "execute_result"
    }
   ],
   "source": [
    "country_agg = df[['Country', 'Year', 'Month', 'AvgTemperature']].groupby(['Country', 'Year', 'Month']).mean().reset_index()\n",
    "country_agg.sample(5)"
   ]
  },
  {
   "cell_type": "code",
   "execution_count": 232,
   "id": "03a930f4",
   "metadata": {},
   "outputs": [
    {
     "data": {
      "application/vnd.plotly.v1+json": {
       "config": {
        "plotlyServerURL": "https://plot.ly"
       },
       "data": [
        {
         "hovertemplate": "Year=1995<br>Month=%{x}<br>AvgTemperature=%{y}<extra></extra>",
         "legendgroup": "1995",
         "line": {
          "color": "#636efa",
          "dash": "solid"
         },
         "mode": "lines",
         "name": "1995",
         "orientation": "v",
         "showlegend": true,
         "type": "scatter",
         "x": [
          "1",
          "2",
          "3",
          "4",
          "5",
          "6",
          "7",
          "8",
          "9",
          "10",
          "11",
          "12"
         ],
         "xaxis": "x",
         "y": [
          38.78225806451613,
          41.114285714285714,
          44.432258064516134,
          49.89333333333333,
          60.84838709677419,
          70.265,
          71.4,
          73.29354838709678,
          66.33166666666666,
          53.94516129032258,
          41.443333333333335,
          40.024193548387096
         ],
         "yaxis": "y"
        },
        {
         "hovertemplate": "Year=1996<br>Month=%{x}<br>AvgTemperature=%{y}<extra></extra>",
         "legendgroup": "1996",
         "line": {
          "color": "#EF553B",
          "dash": "solid"
         },
         "mode": "lines",
         "name": "1996",
         "orientation": "v",
         "showlegend": true,
         "type": "scatter",
         "x": [
          "1",
          "2",
          "3",
          "4",
          "5",
          "6",
          "7",
          "8",
          "9",
          "10",
          "11",
          "12"
         ],
         "xaxis": "x",
         "y": [
          36.10645161290322,
          38.891379310344824,
          38.67258064516129,
          47.358333333333334,
          62.93709677419355,
          67.105,
          74.5241935483871,
          73.19999999999999,
          63.515,
          54.08870967741935,
          47.50833333333333,
          45.13548387096775
         ],
         "yaxis": "y"
        },
        {
         "hovertemplate": "Year=1997<br>Month=%{x}<br>AvgTemperature=%{y}<extra></extra>",
         "legendgroup": "1997",
         "line": {
          "color": "#00cc96",
          "dash": "solid"
         },
         "mode": "lines",
         "name": "1997",
         "orientation": "v",
         "showlegend": true,
         "type": "scatter",
         "x": [
          "1",
          "2",
          "3",
          "4",
          "5",
          "6",
          "7",
          "8",
          "9",
          "10",
          "11",
          "12"
         ],
         "xaxis": "x",
         "y": [
          38.167741935483875,
          35.06071428571428,
          38.66612903225807,
          45.458333333333336,
          60.69838709677419,
          67.725,
          72.05322580645162,
          69.48064516129033,
          60.855000000000004,
          55.75,
          47.11,
          41.29354838709677
         ],
         "yaxis": "y"
        },
        {
         "hovertemplate": "Year=1998<br>Month=%{x}<br>AvgTemperature=%{y}<extra></extra>",
         "legendgroup": "1998",
         "line": {
          "color": "#ab63fa",
          "dash": "solid"
         },
         "mode": "lines",
         "name": "1998",
         "orientation": "v",
         "showlegend": true,
         "type": "scatter",
         "x": [
          "1",
          "2",
          "3",
          "4",
          "5",
          "6",
          "7",
          "8",
          "9",
          "10",
          "11",
          "12"
         ],
         "xaxis": "x",
         "y": [
          37.972580645161294,
          38.771428571428565,
          39.21290322580645,
          54.61333333333334,
          60.12580645161291,
          68.91833333333334,
          74.7290322580645,
          75.82903225806452,
          66.10333333333332,
          58.737096774193546,
          48.54333333333333,
          41.16851851851852
         ],
         "yaxis": "y"
        },
        {
         "hovertemplate": "Year=1999<br>Month=%{x}<br>AvgTemperature=%{y}<extra></extra>",
         "legendgroup": "1999",
         "line": {
          "color": "#FFA15A",
          "dash": "solid"
         },
         "mode": "lines",
         "name": "1999",
         "orientation": "v",
         "showlegend": true,
         "type": "scatter",
         "x": [
          "1",
          "2",
          "3",
          "4",
          "5",
          "6",
          "7",
          "8",
          "9",
          "10",
          "11",
          "12"
         ],
         "xaxis": "x",
         "y": [
          39.14833333333333,
          39.36607142857143,
          44.35967741935484,
          53.55,
          60.653225806451616,
          68.40666666666667,
          75.4483870967742,
          74.74354838709678,
          66.32333333333334,
          58.150000000000006,
          46.74166666666667,
          43.55806451612903
         ],
         "yaxis": "y"
        },
        {
         "hovertemplate": "Year=2000<br>Month=%{x}<br>AvgTemperature=%{y}<extra></extra>",
         "legendgroup": "2000",
         "line": {
          "color": "#19d3f3",
          "dash": "solid"
         },
         "mode": "lines",
         "name": "2000",
         "orientation": "v",
         "showlegend": true,
         "type": "scatter",
         "x": [
          "1",
          "2",
          "3",
          "4",
          "5",
          "6",
          "7",
          "8",
          "9",
          "10",
          "11",
          "12"
         ],
         "xaxis": "x",
         "y": [
          30.020967741935483,
          35.15,
          41.40161290322581,
          55.25,
          59.45645161290323,
          67.19666666666667,
          76.68709677419355,
          73.38870967741936,
          65.99833333333333,
          55.57096774193548,
          49.88,
          40.63870967741936
         ],
         "yaxis": "y"
        },
        {
         "hovertemplate": "Year=2001<br>Month=%{x}<br>AvgTemperature=%{y}<extra></extra>",
         "legendgroup": "2001",
         "line": {
          "color": "#FF6692",
          "dash": "solid"
         },
         "mode": "lines",
         "name": "2001",
         "orientation": "v",
         "showlegend": true,
         "type": "scatter",
         "x": [
          "1",
          "2",
          "3",
          "4",
          "5",
          "6",
          "7",
          "8",
          "9",
          "10",
          "11",
          "12"
         ],
         "xaxis": "x",
         "y": [
          40.3,
          41.04821428571428,
          51.60322580645161,
          53.876666666666665,
          58.86451612903225,
          68.88333333333334,
          77.61451612903227,
          76.15,
          69.16333333333334,
          58.25806451612903,
          46.57666666666667,
          37.34032258064516
         ],
         "yaxis": "y"
        },
        {
         "hovertemplate": "Year=2002<br>Month=%{x}<br>AvgTemperature=%{y}<extra></extra>",
         "legendgroup": "2002",
         "line": {
          "color": "#B6E880",
          "dash": "solid"
         },
         "mode": "lines",
         "name": "2002",
         "orientation": "v",
         "showlegend": true,
         "type": "scatter",
         "x": [
          "1",
          "2",
          "3",
          "4",
          "5",
          "6",
          "7",
          "8",
          "9",
          "10",
          "11",
          "12"
         ],
         "xaxis": "x",
         "y": [
          30.638709677419353,
          42.37678571428571,
          46.653225806451616,
          50.434999999999995,
          60.89677419354839,
          70.01153846153846,
          76.94354838709677,
          72.65483870967742,
          66.18333333333334,
          57.78387096774193,
          49.291666666666664,
          35.69193548387097
         ],
         "yaxis": "y"
        },
        {
         "hovertemplate": "Year=2003<br>Month=%{x}<br>AvgTemperature=%{y}<extra></extra>",
         "legendgroup": "2003",
         "line": {
          "color": "#FF97FF",
          "dash": "solid"
         },
         "mode": "lines",
         "name": "2003",
         "orientation": "v",
         "showlegend": true,
         "type": "scatter",
         "x": [
          "1",
          "2",
          "3",
          "4",
          "5",
          "6",
          "7",
          "8",
          "9",
          "10",
          "11",
          "12"
         ],
         "xaxis": "x",
         "y": [
          42.58524590163934,
          32.95178571428571,
          38.20967741935484,
          48.440000000000005,
          63.37096774193548,
          71.015,
          74.08870967741936,
          75.85645161290323,
          64.91666666666667,
          58.46935483870968,
          47.269999999999996,
          39.21451612903226
         ],
         "yaxis": "y"
        },
        {
         "hovertemplate": "Year=2004<br>Month=%{x}<br>AvgTemperature=%{y}<extra></extra>",
         "legendgroup": "2004",
         "line": {
          "color": "#FECB52",
          "dash": "solid"
         },
         "mode": "lines",
         "name": "2004",
         "orientation": "v",
         "showlegend": true,
         "type": "scatter",
         "x": [
          "1",
          "2",
          "3",
          "4",
          "5",
          "6",
          "7",
          "8",
          "9",
          "10",
          "11",
          "12"
         ],
         "xaxis": "x",
         "y": [
          34.94193548387097,
          37.922413793103445,
          44.524193548387096,
          51.65833333333333,
          59.18387096774194,
          66.96666666666667,
          72.95645161290322,
          72.61774193548388,
          66.66666666666667,
          58.829032258064515,
          47.358333333333334,
          40.119354838709675
         ],
         "yaxis": "y"
        },
        {
         "hovertemplate": "Year=2005<br>Month=%{x}<br>AvgTemperature=%{y}<extra></extra>",
         "legendgroup": "2005",
         "line": {
          "color": "#636efa",
          "dash": "solid"
         },
         "mode": "lines",
         "name": "2005",
         "orientation": "v",
         "showlegend": true,
         "type": "scatter",
         "x": [
          "1",
          "2",
          "3",
          "4",
          "5",
          "6",
          "7",
          "8",
          "9",
          "10",
          "11",
          "12"
         ],
         "xaxis": "x",
         "y": [
          39.49516129032258,
          37.848214285714285,
          42.46935483870968,
          52.035,
          60.248387096774195,
          66.41333333333334,
          75.04838709677419,
          76.47419354838709,
          66.58666666666666,
          54.38870967741936,
          45.335,
          40.314516129032256
         ],
         "yaxis": "y"
        },
        {
         "hovertemplate": "Year=2006<br>Month=%{x}<br>AvgTemperature=%{y}<extra></extra>",
         "legendgroup": "2006",
         "line": {
          "color": "#EF553B",
          "dash": "solid"
         },
         "mode": "lines",
         "name": "2006",
         "orientation": "v",
         "showlegend": true,
         "type": "scatter",
         "x": [
          "1",
          "2",
          "3",
          "4",
          "5",
          "6",
          "7",
          "8",
          "9",
          "10",
          "11",
          "12"
         ],
         "xaxis": "x",
         "y": [
          32.30483870967742,
          34.975,
          44.79516129032258,
          53.623333333333335,
          60.66290322580645,
          69.90166666666667,
          73.23387096774194,
          79.18870967741935,
          66.09666666666666,
          58.774193548387096,
          44.89333333333333,
          37.940322580645166
         ],
         "yaxis": "y"
        },
        {
         "hovertemplate": "Year=2007<br>Month=%{x}<br>AvgTemperature=%{y}<extra></extra>",
         "legendgroup": "2007",
         "line": {
          "color": "#00cc96",
          "dash": "solid"
         },
         "mode": "lines",
         "name": "2007",
         "orientation": "v",
         "showlegend": true,
         "type": "scatter",
         "x": [
          "1",
          "2",
          "3",
          "4",
          "5",
          "6",
          "7",
          "8",
          "9",
          "10",
          "11",
          "12"
         ],
         "xaxis": "x",
         "y": [
          39.251612903225805,
          39.36785714285714,
          45.20161290322581,
          49.05333333333333,
          65.74677419354839,
          72.90833333333333,
          77.8258064516129,
          78.17833333333333,
          68.09166666666667,
          59.54032258064516,
          46.63333333333333,
          38.62903225806452
         ],
         "yaxis": "y"
        },
        {
         "hovertemplate": "Year=2008<br>Month=%{x}<br>AvgTemperature=%{y}<extra></extra>",
         "legendgroup": "2008",
         "line": {
          "color": "#ab63fa",
          "dash": "solid"
         },
         "mode": "lines",
         "name": "2008",
         "orientation": "v",
         "showlegend": true,
         "type": "scatter",
         "x": [
          "1",
          "2",
          "3",
          "4",
          "5",
          "6",
          "7",
          "8",
          "9",
          "10",
          "11",
          "12"
         ],
         "xaxis": "x",
         "y": [
          29.343548387096774,
          34.94827586206897,
          49.50645161290323,
          55.858333333333334,
          60.346774193548384,
          70.68666666666667,
          75.09032258064516,
          77.6,
          67.71551724137932,
          57.86774193548386,
          50.07666666666667,
          40.34032258064516
         ],
         "yaxis": "y"
        },
        {
         "hovertemplate": "Year=2009<br>Month=%{x}<br>AvgTemperature=%{y}<extra></extra>",
         "legendgroup": "2009",
         "line": {
          "color": "#FFA15A",
          "dash": "solid"
         },
         "mode": "lines",
         "name": "2009",
         "orientation": "v",
         "showlegend": true,
         "type": "scatter",
         "x": [
          "1",
          "2",
          "3",
          "4",
          "5",
          "6",
          "7",
          "8",
          "9",
          "10",
          "11",
          "12"
         ],
         "xaxis": "x",
         "y": [
          39.03709677419355,
          40.776785714285715,
          42.96451612903226,
          51.01379310344828,
          60.733870967741936,
          70.61,
          74.76774193548388,
          73.44354838709677,
          65.57333333333334,
          61.37903225806452,
          48.18666666666666,
          44.46935483870968
         ],
         "yaxis": "y"
        },
        {
         "hovertemplate": "Year=2010<br>Month=%{x}<br>AvgTemperature=%{y}<extra></extra>",
         "legendgroup": "2010",
         "line": {
          "color": "#19d3f3",
          "dash": "solid"
         },
         "mode": "lines",
         "name": "2010",
         "orientation": "v",
         "showlegend": true,
         "type": "scatter",
         "x": [
          "1",
          "2",
          "3",
          "4",
          "5",
          "6",
          "7",
          "8",
          "9",
          "10",
          "11",
          "12"
         ],
         "xaxis": "x",
         "y": [
          38.975806451612904,
          43.669642857142854,
          45.650000000000006,
          53.14333333333333,
          62.998387096774195,
          69.66499999999999,
          76.15322580645162,
          80.3241935483871,
          70.03,
          55.58387096774193,
          53.86,
          44.54032258064516
         ],
         "yaxis": "y"
        },
        {
         "hovertemplate": "Year=2011<br>Month=%{x}<br>AvgTemperature=%{y}<extra></extra>",
         "legendgroup": "2011",
         "line": {
          "color": "#FF6692",
          "dash": "solid"
         },
         "mode": "lines",
         "name": "2011",
         "orientation": "v",
         "showlegend": true,
         "type": "scatter",
         "x": [
          "1",
          "2",
          "3",
          "4",
          "5",
          "6",
          "7",
          "8",
          "9",
          "10",
          "11",
          "12"
         ],
         "xaxis": "x",
         "y": [
          38.55,
          38.81428571428571,
          42.440322580645166,
          48.434999999999995,
          58.61612903225806,
          67.44333333333333,
          76.5241935483871,
          73.58064516129032,
          69.01833333333335,
          53.943548387096776,
          41.39833333333333,
          41.14032258064516
         ],
         "yaxis": "y"
        },
        {
         "hovertemplate": "Year=2012<br>Month=%{x}<br>AvgTemperature=%{y}<extra></extra>",
         "legendgroup": "2012",
         "line": {
          "color": "#B6E880",
          "dash": "solid"
         },
         "mode": "lines",
         "name": "2012",
         "orientation": "v",
         "showlegend": true,
         "type": "scatter",
         "x": [
          "1",
          "2",
          "3",
          "4",
          "5",
          "6",
          "7",
          "8",
          "9",
          "10",
          "11",
          "12"
         ],
         "xaxis": "x",
         "y": [
          33.28709677419355,
          30.467241379310344,
          39.900000000000006,
          56.169999999999995,
          61.803225806451614,
          73.01333333333334,
          78.48064516129033,
          75.10967741935484,
          70.24833333333332,
          63.05483870967742,
          51.88,
          41.42903225806452
         ],
         "yaxis": "y"
        },
        {
         "hovertemplate": "Year=2013<br>Month=%{x}<br>AvgTemperature=%{y}<extra></extra>",
         "legendgroup": "2013",
         "line": {
          "color": "#FF97FF",
          "dash": "solid"
         },
         "mode": "lines",
         "name": "2013",
         "orientation": "v",
         "showlegend": true,
         "type": "scatter",
         "x": [
          "1",
          "2",
          "3",
          "4",
          "5",
          "6",
          "7",
          "8",
          "9",
          "10",
          "11",
          "12"
         ],
         "xaxis": "x",
         "y": [
          39.42258064516129,
          43.42142857142857,
          46.9483870967742,
          54.656666666666666,
          65.43225806451612,
          70.91333333333334,
          74.41774193548386,
          76.09516129032258,
          66.49833333333333,
          54.45645161290323,
          50.10333333333333,
          35.99032258064516
         ],
         "yaxis": "y"
        },
        {
         "hovertemplate": "Year=2014<br>Month=%{x}<br>AvgTemperature=%{y}<extra></extra>",
         "legendgroup": "2014",
         "line": {
          "color": "#FECB52",
          "dash": "solid"
         },
         "mode": "lines",
         "name": "2014",
         "orientation": "v",
         "showlegend": true,
         "type": "scatter",
         "x": [
          "1",
          "2",
          "3",
          "4",
          "5",
          "6",
          "7",
          "8",
          "9",
          "10",
          "11",
          "12"
         ],
         "xaxis": "x",
         "y": [
          41.28064516129032,
          43.86666666666667,
          47.75322580645161,
          55.17666666666666,
          61.849999999999994,
          68.36833333333334,
          76.29354838709678,
          77.62903225806451,
          67.90666666666667,
          58.15161290322581,
          48.598333333333336,
          44.972580645161294
         ],
         "yaxis": "y"
        },
        {
         "hovertemplate": "Year=2015<br>Month=%{x}<br>AvgTemperature=%{y}<extra></extra>",
         "legendgroup": "2015",
         "line": {
          "color": "#636efa",
          "dash": "solid"
         },
         "mode": "lines",
         "name": "2015",
         "orientation": "v",
         "showlegend": true,
         "type": "scatter",
         "x": [
          "1",
          "2",
          "3",
          "4",
          "5",
          "6",
          "7",
          "8",
          "9",
          "10",
          "11",
          "12"
         ],
         "xaxis": "x",
         "y": [
          37.82096774193548,
          40.25892857142857,
          45.4241935483871,
          49.46666666666667,
          62.900000000000006,
          67.20166666666667,
          75.5,
          76.8967741935484,
          72.84166666666667,
          59.440322580645166,
          51.17166666666667,
          39.205000000000005
         ],
         "yaxis": "y"
        },
        {
         "hovertemplate": "Year=2016<br>Month=%{x}<br>AvgTemperature=%{y}<extra></extra>",
         "legendgroup": "2016",
         "line": {
          "color": "#EF553B",
          "dash": "solid"
         },
         "mode": "lines",
         "name": "2016",
         "orientation": "v",
         "showlegend": true,
         "type": "scatter",
         "x": [
          "1",
          "2",
          "3",
          "4",
          "5",
          "6",
          "7",
          "8",
          "9",
          "10",
          "11",
          "12"
         ],
         "xaxis": "x",
         "y": [
          36.5,
          46.31206896551724,
          47.885,
          57.80333333333333,
          60.80333333333333,
          71.64,
          76.3741935483871,
          77.20645161290322,
          68.37241379310345,
          57.961290322580645,
          47.001724137931035,
          35.248387096774195
         ],
         "yaxis": "y"
        },
        {
         "hovertemplate": "Year=2017<br>Month=%{x}<br>AvgTemperature=%{y}<extra></extra>",
         "legendgroup": "2017",
         "line": {
          "color": "#00cc96",
          "dash": "solid"
         },
         "mode": "lines",
         "name": "2017",
         "orientation": "v",
         "showlegend": true,
         "type": "scatter",
         "x": [
          "1",
          "2",
          "3",
          "4",
          "5",
          "6",
          "7",
          "8",
          "9",
          "10",
          "11",
          "12"
         ],
         "xaxis": "x",
         "y": [
          32.29354838709678,
          39.09464285714286,
          46.86290322580645,
          52.184999999999995,
          60.57741935483871,
          69.56,
          76.34516129032258,
          76.20645161290322,
          71.72666666666667,
          56.579032258064515,
          48.47833333333333,
          44.4241935483871
         ],
         "yaxis": "y"
        },
        {
         "hovertemplate": "Year=2018<br>Month=%{x}<br>AvgTemperature=%{y}<extra></extra>",
         "legendgroup": "2018",
         "line": {
          "color": "#ab63fa",
          "dash": "solid"
         },
         "mode": "lines",
         "name": "2018",
         "orientation": "v",
         "showlegend": true,
         "type": "scatter",
         "x": [
          "1",
          "2",
          "3",
          "4",
          "5",
          "6",
          "7",
          "8",
          "9",
          "10",
          "11",
          "12"
         ],
         "xaxis": "x",
         "y": [
          40.998360655737706,
          44.00714285714286,
          49.43064516129032,
          57.41833333333333,
          64.30322580645162,
          71.31,
          76.5741935483871,
          77.80322580645162,
          69.02666666666667,
          60.182258064516134,
          51.56111111111112,
          40.61451612903225
         ],
         "yaxis": "y"
        },
        {
         "hovertemplate": "Year=2019<br>Month=%{x}<br>AvgTemperature=%{y}<extra></extra>",
         "legendgroup": "2019",
         "line": {
          "color": "#FFA15A",
          "dash": "solid"
         },
         "mode": "lines",
         "name": "2019",
         "orientation": "v",
         "showlegend": true,
         "type": "scatter",
         "x": [
          "1",
          "2",
          "3",
          "4",
          "5",
          "6",
          "7",
          "8",
          "9",
          "10",
          "11",
          "12"
         ],
         "xaxis": "x",
         "y": [
          38.88,
          41.496428571428574,
          46.13709677419355,
          51.550000000000004,
          63.38148148148148,
          72.70833333333333,
          73.59677419354838,
          75.33709677419354,
          68.37666666666668,
          61.43387096774194,
          53.44833333333334,
          43.093548387096774
         ],
         "yaxis": "y"
        }
       ],
       "layout": {
        "legend": {
         "title": {
          "text": "Year"
         },
         "tracegroupgap": 0
        },
        "margin": {
         "t": 60
        },
        "template": {
         "data": {
          "bar": [
           {
            "error_x": {
             "color": "#2a3f5f"
            },
            "error_y": {
             "color": "#2a3f5f"
            },
            "marker": {
             "line": {
              "color": "#E5ECF6",
              "width": 0.5
             },
             "pattern": {
              "fillmode": "overlay",
              "size": 10,
              "solidity": 0.2
             }
            },
            "type": "bar"
           }
          ],
          "barpolar": [
           {
            "marker": {
             "line": {
              "color": "#E5ECF6",
              "width": 0.5
             },
             "pattern": {
              "fillmode": "overlay",
              "size": 10,
              "solidity": 0.2
             }
            },
            "type": "barpolar"
           }
          ],
          "carpet": [
           {
            "aaxis": {
             "endlinecolor": "#2a3f5f",
             "gridcolor": "white",
             "linecolor": "white",
             "minorgridcolor": "white",
             "startlinecolor": "#2a3f5f"
            },
            "baxis": {
             "endlinecolor": "#2a3f5f",
             "gridcolor": "white",
             "linecolor": "white",
             "minorgridcolor": "white",
             "startlinecolor": "#2a3f5f"
            },
            "type": "carpet"
           }
          ],
          "choropleth": [
           {
            "colorbar": {
             "outlinewidth": 0,
             "ticks": ""
            },
            "type": "choropleth"
           }
          ],
          "contour": [
           {
            "colorbar": {
             "outlinewidth": 0,
             "ticks": ""
            },
            "colorscale": [
             [
              0,
              "#0d0887"
             ],
             [
              0.1111111111111111,
              "#46039f"
             ],
             [
              0.2222222222222222,
              "#7201a8"
             ],
             [
              0.3333333333333333,
              "#9c179e"
             ],
             [
              0.4444444444444444,
              "#bd3786"
             ],
             [
              0.5555555555555556,
              "#d8576b"
             ],
             [
              0.6666666666666666,
              "#ed7953"
             ],
             [
              0.7777777777777778,
              "#fb9f3a"
             ],
             [
              0.8888888888888888,
              "#fdca26"
             ],
             [
              1,
              "#f0f921"
             ]
            ],
            "type": "contour"
           }
          ],
          "contourcarpet": [
           {
            "colorbar": {
             "outlinewidth": 0,
             "ticks": ""
            },
            "type": "contourcarpet"
           }
          ],
          "heatmap": [
           {
            "colorbar": {
             "outlinewidth": 0,
             "ticks": ""
            },
            "colorscale": [
             [
              0,
              "#0d0887"
             ],
             [
              0.1111111111111111,
              "#46039f"
             ],
             [
              0.2222222222222222,
              "#7201a8"
             ],
             [
              0.3333333333333333,
              "#9c179e"
             ],
             [
              0.4444444444444444,
              "#bd3786"
             ],
             [
              0.5555555555555556,
              "#d8576b"
             ],
             [
              0.6666666666666666,
              "#ed7953"
             ],
             [
              0.7777777777777778,
              "#fb9f3a"
             ],
             [
              0.8888888888888888,
              "#fdca26"
             ],
             [
              1,
              "#f0f921"
             ]
            ],
            "type": "heatmap"
           }
          ],
          "heatmapgl": [
           {
            "colorbar": {
             "outlinewidth": 0,
             "ticks": ""
            },
            "colorscale": [
             [
              0,
              "#0d0887"
             ],
             [
              0.1111111111111111,
              "#46039f"
             ],
             [
              0.2222222222222222,
              "#7201a8"
             ],
             [
              0.3333333333333333,
              "#9c179e"
             ],
             [
              0.4444444444444444,
              "#bd3786"
             ],
             [
              0.5555555555555556,
              "#d8576b"
             ],
             [
              0.6666666666666666,
              "#ed7953"
             ],
             [
              0.7777777777777778,
              "#fb9f3a"
             ],
             [
              0.8888888888888888,
              "#fdca26"
             ],
             [
              1,
              "#f0f921"
             ]
            ],
            "type": "heatmapgl"
           }
          ],
          "histogram": [
           {
            "marker": {
             "pattern": {
              "fillmode": "overlay",
              "size": 10,
              "solidity": 0.2
             }
            },
            "type": "histogram"
           }
          ],
          "histogram2d": [
           {
            "colorbar": {
             "outlinewidth": 0,
             "ticks": ""
            },
            "colorscale": [
             [
              0,
              "#0d0887"
             ],
             [
              0.1111111111111111,
              "#46039f"
             ],
             [
              0.2222222222222222,
              "#7201a8"
             ],
             [
              0.3333333333333333,
              "#9c179e"
             ],
             [
              0.4444444444444444,
              "#bd3786"
             ],
             [
              0.5555555555555556,
              "#d8576b"
             ],
             [
              0.6666666666666666,
              "#ed7953"
             ],
             [
              0.7777777777777778,
              "#fb9f3a"
             ],
             [
              0.8888888888888888,
              "#fdca26"
             ],
             [
              1,
              "#f0f921"
             ]
            ],
            "type": "histogram2d"
           }
          ],
          "histogram2dcontour": [
           {
            "colorbar": {
             "outlinewidth": 0,
             "ticks": ""
            },
            "colorscale": [
             [
              0,
              "#0d0887"
             ],
             [
              0.1111111111111111,
              "#46039f"
             ],
             [
              0.2222222222222222,
              "#7201a8"
             ],
             [
              0.3333333333333333,
              "#9c179e"
             ],
             [
              0.4444444444444444,
              "#bd3786"
             ],
             [
              0.5555555555555556,
              "#d8576b"
             ],
             [
              0.6666666666666666,
              "#ed7953"
             ],
             [
              0.7777777777777778,
              "#fb9f3a"
             ],
             [
              0.8888888888888888,
              "#fdca26"
             ],
             [
              1,
              "#f0f921"
             ]
            ],
            "type": "histogram2dcontour"
           }
          ],
          "mesh3d": [
           {
            "colorbar": {
             "outlinewidth": 0,
             "ticks": ""
            },
            "type": "mesh3d"
           }
          ],
          "parcoords": [
           {
            "line": {
             "colorbar": {
              "outlinewidth": 0,
              "ticks": ""
             }
            },
            "type": "parcoords"
           }
          ],
          "pie": [
           {
            "automargin": true,
            "type": "pie"
           }
          ],
          "scatter": [
           {
            "marker": {
             "colorbar": {
              "outlinewidth": 0,
              "ticks": ""
             }
            },
            "type": "scatter"
           }
          ],
          "scatter3d": [
           {
            "line": {
             "colorbar": {
              "outlinewidth": 0,
              "ticks": ""
             }
            },
            "marker": {
             "colorbar": {
              "outlinewidth": 0,
              "ticks": ""
             }
            },
            "type": "scatter3d"
           }
          ],
          "scattercarpet": [
           {
            "marker": {
             "colorbar": {
              "outlinewidth": 0,
              "ticks": ""
             }
            },
            "type": "scattercarpet"
           }
          ],
          "scattergeo": [
           {
            "marker": {
             "colorbar": {
              "outlinewidth": 0,
              "ticks": ""
             }
            },
            "type": "scattergeo"
           }
          ],
          "scattergl": [
           {
            "marker": {
             "colorbar": {
              "outlinewidth": 0,
              "ticks": ""
             }
            },
            "type": "scattergl"
           }
          ],
          "scattermapbox": [
           {
            "marker": {
             "colorbar": {
              "outlinewidth": 0,
              "ticks": ""
             }
            },
            "type": "scattermapbox"
           }
          ],
          "scatterpolar": [
           {
            "marker": {
             "colorbar": {
              "outlinewidth": 0,
              "ticks": ""
             }
            },
            "type": "scatterpolar"
           }
          ],
          "scatterpolargl": [
           {
            "marker": {
             "colorbar": {
              "outlinewidth": 0,
              "ticks": ""
             }
            },
            "type": "scatterpolargl"
           }
          ],
          "scatterternary": [
           {
            "marker": {
             "colorbar": {
              "outlinewidth": 0,
              "ticks": ""
             }
            },
            "type": "scatterternary"
           }
          ],
          "surface": [
           {
            "colorbar": {
             "outlinewidth": 0,
             "ticks": ""
            },
            "colorscale": [
             [
              0,
              "#0d0887"
             ],
             [
              0.1111111111111111,
              "#46039f"
             ],
             [
              0.2222222222222222,
              "#7201a8"
             ],
             [
              0.3333333333333333,
              "#9c179e"
             ],
             [
              0.4444444444444444,
              "#bd3786"
             ],
             [
              0.5555555555555556,
              "#d8576b"
             ],
             [
              0.6666666666666666,
              "#ed7953"
             ],
             [
              0.7777777777777778,
              "#fb9f3a"
             ],
             [
              0.8888888888888888,
              "#fdca26"
             ],
             [
              1,
              "#f0f921"
             ]
            ],
            "type": "surface"
           }
          ],
          "table": [
           {
            "cells": {
             "fill": {
              "color": "#EBF0F8"
             },
             "line": {
              "color": "white"
             }
            },
            "header": {
             "fill": {
              "color": "#C8D4E3"
             },
             "line": {
              "color": "white"
             }
            },
            "type": "table"
           }
          ]
         },
         "layout": {
          "annotationdefaults": {
           "arrowcolor": "#2a3f5f",
           "arrowhead": 0,
           "arrowwidth": 1
          },
          "autotypenumbers": "strict",
          "coloraxis": {
           "colorbar": {
            "outlinewidth": 0,
            "ticks": ""
           }
          },
          "colorscale": {
           "diverging": [
            [
             0,
             "#8e0152"
            ],
            [
             0.1,
             "#c51b7d"
            ],
            [
             0.2,
             "#de77ae"
            ],
            [
             0.3,
             "#f1b6da"
            ],
            [
             0.4,
             "#fde0ef"
            ],
            [
             0.5,
             "#f7f7f7"
            ],
            [
             0.6,
             "#e6f5d0"
            ],
            [
             0.7,
             "#b8e186"
            ],
            [
             0.8,
             "#7fbc41"
            ],
            [
             0.9,
             "#4d9221"
            ],
            [
             1,
             "#276419"
            ]
           ],
           "sequential": [
            [
             0,
             "#0d0887"
            ],
            [
             0.1111111111111111,
             "#46039f"
            ],
            [
             0.2222222222222222,
             "#7201a8"
            ],
            [
             0.3333333333333333,
             "#9c179e"
            ],
            [
             0.4444444444444444,
             "#bd3786"
            ],
            [
             0.5555555555555556,
             "#d8576b"
            ],
            [
             0.6666666666666666,
             "#ed7953"
            ],
            [
             0.7777777777777778,
             "#fb9f3a"
            ],
            [
             0.8888888888888888,
             "#fdca26"
            ],
            [
             1,
             "#f0f921"
            ]
           ],
           "sequentialminus": [
            [
             0,
             "#0d0887"
            ],
            [
             0.1111111111111111,
             "#46039f"
            ],
            [
             0.2222222222222222,
             "#7201a8"
            ],
            [
             0.3333333333333333,
             "#9c179e"
            ],
            [
             0.4444444444444444,
             "#bd3786"
            ],
            [
             0.5555555555555556,
             "#d8576b"
            ],
            [
             0.6666666666666666,
             "#ed7953"
            ],
            [
             0.7777777777777778,
             "#fb9f3a"
            ],
            [
             0.8888888888888888,
             "#fdca26"
            ],
            [
             1,
             "#f0f921"
            ]
           ]
          },
          "colorway": [
           "#636efa",
           "#EF553B",
           "#00cc96",
           "#ab63fa",
           "#FFA15A",
           "#19d3f3",
           "#FF6692",
           "#B6E880",
           "#FF97FF",
           "#FECB52"
          ],
          "font": {
           "color": "#2a3f5f"
          },
          "geo": {
           "bgcolor": "white",
           "lakecolor": "white",
           "landcolor": "#E5ECF6",
           "showlakes": true,
           "showland": true,
           "subunitcolor": "white"
          },
          "hoverlabel": {
           "align": "left"
          },
          "hovermode": "closest",
          "mapbox": {
           "style": "light"
          },
          "paper_bgcolor": "white",
          "plot_bgcolor": "#E5ECF6",
          "polar": {
           "angularaxis": {
            "gridcolor": "white",
            "linecolor": "white",
            "ticks": ""
           },
           "bgcolor": "#E5ECF6",
           "radialaxis": {
            "gridcolor": "white",
            "linecolor": "white",
            "ticks": ""
           }
          },
          "scene": {
           "xaxis": {
            "backgroundcolor": "#E5ECF6",
            "gridcolor": "white",
            "gridwidth": 2,
            "linecolor": "white",
            "showbackground": true,
            "ticks": "",
            "zerolinecolor": "white"
           },
           "yaxis": {
            "backgroundcolor": "#E5ECF6",
            "gridcolor": "white",
            "gridwidth": 2,
            "linecolor": "white",
            "showbackground": true,
            "ticks": "",
            "zerolinecolor": "white"
           },
           "zaxis": {
            "backgroundcolor": "#E5ECF6",
            "gridcolor": "white",
            "gridwidth": 2,
            "linecolor": "white",
            "showbackground": true,
            "ticks": "",
            "zerolinecolor": "white"
           }
          },
          "shapedefaults": {
           "line": {
            "color": "#2a3f5f"
           }
          },
          "ternary": {
           "aaxis": {
            "gridcolor": "white",
            "linecolor": "white",
            "ticks": ""
           },
           "baxis": {
            "gridcolor": "white",
            "linecolor": "white",
            "ticks": ""
           },
           "bgcolor": "#E5ECF6",
           "caxis": {
            "gridcolor": "white",
            "linecolor": "white",
            "ticks": ""
           }
          },
          "title": {
           "x": 0.05
          },
          "xaxis": {
           "automargin": true,
           "gridcolor": "white",
           "linecolor": "white",
           "ticks": "",
           "title": {
            "standoff": 15
           },
           "zerolinecolor": "white",
           "zerolinewidth": 2
          },
          "yaxis": {
           "automargin": true,
           "gridcolor": "white",
           "linecolor": "white",
           "ticks": "",
           "title": {
            "standoff": 15
           },
           "zerolinecolor": "white",
           "zerolinewidth": 2
          }
         }
        },
        "xaxis": {
         "anchor": "y",
         "domain": [
          0,
          1
         ],
         "dtick": "Month",
         "title": {
          "text": "Month"
         }
        },
        "yaxis": {
         "anchor": "x",
         "domain": [
          0,
          1
         ],
         "title": {
          "text": "AvgTemperature"
         }
        }
       }
      },
      "text/html": [
       "<div>                            <div id=\"c7d8b96e-7f60-4169-a563-6832656f2b4a\" class=\"plotly-graph-div\" style=\"height:525px; width:100%;\"></div>            <script type=\"text/javascript\">                require([\"plotly\"], function(Plotly) {                    window.PLOTLYENV=window.PLOTLYENV || {};                                    if (document.getElementById(\"c7d8b96e-7f60-4169-a563-6832656f2b4a\")) {                    Plotly.newPlot(                        \"c7d8b96e-7f60-4169-a563-6832656f2b4a\",                        [{\"hovertemplate\":\"Year=1995<br>Month=%{x}<br>AvgTemperature=%{y}<extra></extra>\",\"legendgroup\":\"1995\",\"line\":{\"color\":\"#636efa\",\"dash\":\"solid\"},\"mode\":\"lines\",\"name\":\"1995\",\"orientation\":\"v\",\"showlegend\":true,\"type\":\"scatter\",\"x\":[\"1\",\"2\",\"3\",\"4\",\"5\",\"6\",\"7\",\"8\",\"9\",\"10\",\"11\",\"12\"],\"xaxis\":\"x\",\"y\":[38.78225806451613,41.114285714285714,44.432258064516134,49.89333333333333,60.84838709677419,70.265,71.4,73.29354838709678,66.33166666666666,53.94516129032258,41.443333333333335,40.024193548387096],\"yaxis\":\"y\"},{\"hovertemplate\":\"Year=1996<br>Month=%{x}<br>AvgTemperature=%{y}<extra></extra>\",\"legendgroup\":\"1996\",\"line\":{\"color\":\"#EF553B\",\"dash\":\"solid\"},\"mode\":\"lines\",\"name\":\"1996\",\"orientation\":\"v\",\"showlegend\":true,\"type\":\"scatter\",\"x\":[\"1\",\"2\",\"3\",\"4\",\"5\",\"6\",\"7\",\"8\",\"9\",\"10\",\"11\",\"12\"],\"xaxis\":\"x\",\"y\":[36.10645161290322,38.891379310344824,38.67258064516129,47.358333333333334,62.93709677419355,67.105,74.5241935483871,73.19999999999999,63.515,54.08870967741935,47.50833333333333,45.13548387096775],\"yaxis\":\"y\"},{\"hovertemplate\":\"Year=1997<br>Month=%{x}<br>AvgTemperature=%{y}<extra></extra>\",\"legendgroup\":\"1997\",\"line\":{\"color\":\"#00cc96\",\"dash\":\"solid\"},\"mode\":\"lines\",\"name\":\"1997\",\"orientation\":\"v\",\"showlegend\":true,\"type\":\"scatter\",\"x\":[\"1\",\"2\",\"3\",\"4\",\"5\",\"6\",\"7\",\"8\",\"9\",\"10\",\"11\",\"12\"],\"xaxis\":\"x\",\"y\":[38.167741935483875,35.06071428571428,38.66612903225807,45.458333333333336,60.69838709677419,67.725,72.05322580645162,69.48064516129033,60.855000000000004,55.75,47.11,41.29354838709677],\"yaxis\":\"y\"},{\"hovertemplate\":\"Year=1998<br>Month=%{x}<br>AvgTemperature=%{y}<extra></extra>\",\"legendgroup\":\"1998\",\"line\":{\"color\":\"#ab63fa\",\"dash\":\"solid\"},\"mode\":\"lines\",\"name\":\"1998\",\"orientation\":\"v\",\"showlegend\":true,\"type\":\"scatter\",\"x\":[\"1\",\"2\",\"3\",\"4\",\"5\",\"6\",\"7\",\"8\",\"9\",\"10\",\"11\",\"12\"],\"xaxis\":\"x\",\"y\":[37.972580645161294,38.771428571428565,39.21290322580645,54.61333333333334,60.12580645161291,68.91833333333334,74.7290322580645,75.82903225806452,66.10333333333332,58.737096774193546,48.54333333333333,41.16851851851852],\"yaxis\":\"y\"},{\"hovertemplate\":\"Year=1999<br>Month=%{x}<br>AvgTemperature=%{y}<extra></extra>\",\"legendgroup\":\"1999\",\"line\":{\"color\":\"#FFA15A\",\"dash\":\"solid\"},\"mode\":\"lines\",\"name\":\"1999\",\"orientation\":\"v\",\"showlegend\":true,\"type\":\"scatter\",\"x\":[\"1\",\"2\",\"3\",\"4\",\"5\",\"6\",\"7\",\"8\",\"9\",\"10\",\"11\",\"12\"],\"xaxis\":\"x\",\"y\":[39.14833333333333,39.36607142857143,44.35967741935484,53.55,60.653225806451616,68.40666666666667,75.4483870967742,74.74354838709678,66.32333333333334,58.150000000000006,46.74166666666667,43.55806451612903],\"yaxis\":\"y\"},{\"hovertemplate\":\"Year=2000<br>Month=%{x}<br>AvgTemperature=%{y}<extra></extra>\",\"legendgroup\":\"2000\",\"line\":{\"color\":\"#19d3f3\",\"dash\":\"solid\"},\"mode\":\"lines\",\"name\":\"2000\",\"orientation\":\"v\",\"showlegend\":true,\"type\":\"scatter\",\"x\":[\"1\",\"2\",\"3\",\"4\",\"5\",\"6\",\"7\",\"8\",\"9\",\"10\",\"11\",\"12\"],\"xaxis\":\"x\",\"y\":[30.020967741935483,35.15,41.40161290322581,55.25,59.45645161290323,67.19666666666667,76.68709677419355,73.38870967741936,65.99833333333333,55.57096774193548,49.88,40.63870967741936],\"yaxis\":\"y\"},{\"hovertemplate\":\"Year=2001<br>Month=%{x}<br>AvgTemperature=%{y}<extra></extra>\",\"legendgroup\":\"2001\",\"line\":{\"color\":\"#FF6692\",\"dash\":\"solid\"},\"mode\":\"lines\",\"name\":\"2001\",\"orientation\":\"v\",\"showlegend\":true,\"type\":\"scatter\",\"x\":[\"1\",\"2\",\"3\",\"4\",\"5\",\"6\",\"7\",\"8\",\"9\",\"10\",\"11\",\"12\"],\"xaxis\":\"x\",\"y\":[40.3,41.04821428571428,51.60322580645161,53.876666666666665,58.86451612903225,68.88333333333334,77.61451612903227,76.15,69.16333333333334,58.25806451612903,46.57666666666667,37.34032258064516],\"yaxis\":\"y\"},{\"hovertemplate\":\"Year=2002<br>Month=%{x}<br>AvgTemperature=%{y}<extra></extra>\",\"legendgroup\":\"2002\",\"line\":{\"color\":\"#B6E880\",\"dash\":\"solid\"},\"mode\":\"lines\",\"name\":\"2002\",\"orientation\":\"v\",\"showlegend\":true,\"type\":\"scatter\",\"x\":[\"1\",\"2\",\"3\",\"4\",\"5\",\"6\",\"7\",\"8\",\"9\",\"10\",\"11\",\"12\"],\"xaxis\":\"x\",\"y\":[30.638709677419353,42.37678571428571,46.653225806451616,50.434999999999995,60.89677419354839,70.01153846153846,76.94354838709677,72.65483870967742,66.18333333333334,57.78387096774193,49.291666666666664,35.69193548387097],\"yaxis\":\"y\"},{\"hovertemplate\":\"Year=2003<br>Month=%{x}<br>AvgTemperature=%{y}<extra></extra>\",\"legendgroup\":\"2003\",\"line\":{\"color\":\"#FF97FF\",\"dash\":\"solid\"},\"mode\":\"lines\",\"name\":\"2003\",\"orientation\":\"v\",\"showlegend\":true,\"type\":\"scatter\",\"x\":[\"1\",\"2\",\"3\",\"4\",\"5\",\"6\",\"7\",\"8\",\"9\",\"10\",\"11\",\"12\"],\"xaxis\":\"x\",\"y\":[42.58524590163934,32.95178571428571,38.20967741935484,48.440000000000005,63.37096774193548,71.015,74.08870967741936,75.85645161290323,64.91666666666667,58.46935483870968,47.269999999999996,39.21451612903226],\"yaxis\":\"y\"},{\"hovertemplate\":\"Year=2004<br>Month=%{x}<br>AvgTemperature=%{y}<extra></extra>\",\"legendgroup\":\"2004\",\"line\":{\"color\":\"#FECB52\",\"dash\":\"solid\"},\"mode\":\"lines\",\"name\":\"2004\",\"orientation\":\"v\",\"showlegend\":true,\"type\":\"scatter\",\"x\":[\"1\",\"2\",\"3\",\"4\",\"5\",\"6\",\"7\",\"8\",\"9\",\"10\",\"11\",\"12\"],\"xaxis\":\"x\",\"y\":[34.94193548387097,37.922413793103445,44.524193548387096,51.65833333333333,59.18387096774194,66.96666666666667,72.95645161290322,72.61774193548388,66.66666666666667,58.829032258064515,47.358333333333334,40.119354838709675],\"yaxis\":\"y\"},{\"hovertemplate\":\"Year=2005<br>Month=%{x}<br>AvgTemperature=%{y}<extra></extra>\",\"legendgroup\":\"2005\",\"line\":{\"color\":\"#636efa\",\"dash\":\"solid\"},\"mode\":\"lines\",\"name\":\"2005\",\"orientation\":\"v\",\"showlegend\":true,\"type\":\"scatter\",\"x\":[\"1\",\"2\",\"3\",\"4\",\"5\",\"6\",\"7\",\"8\",\"9\",\"10\",\"11\",\"12\"],\"xaxis\":\"x\",\"y\":[39.49516129032258,37.848214285714285,42.46935483870968,52.035,60.248387096774195,66.41333333333334,75.04838709677419,76.47419354838709,66.58666666666666,54.38870967741936,45.335,40.314516129032256],\"yaxis\":\"y\"},{\"hovertemplate\":\"Year=2006<br>Month=%{x}<br>AvgTemperature=%{y}<extra></extra>\",\"legendgroup\":\"2006\",\"line\":{\"color\":\"#EF553B\",\"dash\":\"solid\"},\"mode\":\"lines\",\"name\":\"2006\",\"orientation\":\"v\",\"showlegend\":true,\"type\":\"scatter\",\"x\":[\"1\",\"2\",\"3\",\"4\",\"5\",\"6\",\"7\",\"8\",\"9\",\"10\",\"11\",\"12\"],\"xaxis\":\"x\",\"y\":[32.30483870967742,34.975,44.79516129032258,53.623333333333335,60.66290322580645,69.90166666666667,73.23387096774194,79.18870967741935,66.09666666666666,58.774193548387096,44.89333333333333,37.940322580645166],\"yaxis\":\"y\"},{\"hovertemplate\":\"Year=2007<br>Month=%{x}<br>AvgTemperature=%{y}<extra></extra>\",\"legendgroup\":\"2007\",\"line\":{\"color\":\"#00cc96\",\"dash\":\"solid\"},\"mode\":\"lines\",\"name\":\"2007\",\"orientation\":\"v\",\"showlegend\":true,\"type\":\"scatter\",\"x\":[\"1\",\"2\",\"3\",\"4\",\"5\",\"6\",\"7\",\"8\",\"9\",\"10\",\"11\",\"12\"],\"xaxis\":\"x\",\"y\":[39.251612903225805,39.36785714285714,45.20161290322581,49.05333333333333,65.74677419354839,72.90833333333333,77.8258064516129,78.17833333333333,68.09166666666667,59.54032258064516,46.63333333333333,38.62903225806452],\"yaxis\":\"y\"},{\"hovertemplate\":\"Year=2008<br>Month=%{x}<br>AvgTemperature=%{y}<extra></extra>\",\"legendgroup\":\"2008\",\"line\":{\"color\":\"#ab63fa\",\"dash\":\"solid\"},\"mode\":\"lines\",\"name\":\"2008\",\"orientation\":\"v\",\"showlegend\":true,\"type\":\"scatter\",\"x\":[\"1\",\"2\",\"3\",\"4\",\"5\",\"6\",\"7\",\"8\",\"9\",\"10\",\"11\",\"12\"],\"xaxis\":\"x\",\"y\":[29.343548387096774,34.94827586206897,49.50645161290323,55.858333333333334,60.346774193548384,70.68666666666667,75.09032258064516,77.6,67.71551724137932,57.86774193548386,50.07666666666667,40.34032258064516],\"yaxis\":\"y\"},{\"hovertemplate\":\"Year=2009<br>Month=%{x}<br>AvgTemperature=%{y}<extra></extra>\",\"legendgroup\":\"2009\",\"line\":{\"color\":\"#FFA15A\",\"dash\":\"solid\"},\"mode\":\"lines\",\"name\":\"2009\",\"orientation\":\"v\",\"showlegend\":true,\"type\":\"scatter\",\"x\":[\"1\",\"2\",\"3\",\"4\",\"5\",\"6\",\"7\",\"8\",\"9\",\"10\",\"11\",\"12\"],\"xaxis\":\"x\",\"y\":[39.03709677419355,40.776785714285715,42.96451612903226,51.01379310344828,60.733870967741936,70.61,74.76774193548388,73.44354838709677,65.57333333333334,61.37903225806452,48.18666666666666,44.46935483870968],\"yaxis\":\"y\"},{\"hovertemplate\":\"Year=2010<br>Month=%{x}<br>AvgTemperature=%{y}<extra></extra>\",\"legendgroup\":\"2010\",\"line\":{\"color\":\"#19d3f3\",\"dash\":\"solid\"},\"mode\":\"lines\",\"name\":\"2010\",\"orientation\":\"v\",\"showlegend\":true,\"type\":\"scatter\",\"x\":[\"1\",\"2\",\"3\",\"4\",\"5\",\"6\",\"7\",\"8\",\"9\",\"10\",\"11\",\"12\"],\"xaxis\":\"x\",\"y\":[38.975806451612904,43.669642857142854,45.650000000000006,53.14333333333333,62.998387096774195,69.66499999999999,76.15322580645162,80.3241935483871,70.03,55.58387096774193,53.86,44.54032258064516],\"yaxis\":\"y\"},{\"hovertemplate\":\"Year=2011<br>Month=%{x}<br>AvgTemperature=%{y}<extra></extra>\",\"legendgroup\":\"2011\",\"line\":{\"color\":\"#FF6692\",\"dash\":\"solid\"},\"mode\":\"lines\",\"name\":\"2011\",\"orientation\":\"v\",\"showlegend\":true,\"type\":\"scatter\",\"x\":[\"1\",\"2\",\"3\",\"4\",\"5\",\"6\",\"7\",\"8\",\"9\",\"10\",\"11\",\"12\"],\"xaxis\":\"x\",\"y\":[38.55,38.81428571428571,42.440322580645166,48.434999999999995,58.61612903225806,67.44333333333333,76.5241935483871,73.58064516129032,69.01833333333335,53.943548387096776,41.39833333333333,41.14032258064516],\"yaxis\":\"y\"},{\"hovertemplate\":\"Year=2012<br>Month=%{x}<br>AvgTemperature=%{y}<extra></extra>\",\"legendgroup\":\"2012\",\"line\":{\"color\":\"#B6E880\",\"dash\":\"solid\"},\"mode\":\"lines\",\"name\":\"2012\",\"orientation\":\"v\",\"showlegend\":true,\"type\":\"scatter\",\"x\":[\"1\",\"2\",\"3\",\"4\",\"5\",\"6\",\"7\",\"8\",\"9\",\"10\",\"11\",\"12\"],\"xaxis\":\"x\",\"y\":[33.28709677419355,30.467241379310344,39.900000000000006,56.169999999999995,61.803225806451614,73.01333333333334,78.48064516129033,75.10967741935484,70.24833333333332,63.05483870967742,51.88,41.42903225806452],\"yaxis\":\"y\"},{\"hovertemplate\":\"Year=2013<br>Month=%{x}<br>AvgTemperature=%{y}<extra></extra>\",\"legendgroup\":\"2013\",\"line\":{\"color\":\"#FF97FF\",\"dash\":\"solid\"},\"mode\":\"lines\",\"name\":\"2013\",\"orientation\":\"v\",\"showlegend\":true,\"type\":\"scatter\",\"x\":[\"1\",\"2\",\"3\",\"4\",\"5\",\"6\",\"7\",\"8\",\"9\",\"10\",\"11\",\"12\"],\"xaxis\":\"x\",\"y\":[39.42258064516129,43.42142857142857,46.9483870967742,54.656666666666666,65.43225806451612,70.91333333333334,74.41774193548386,76.09516129032258,66.49833333333333,54.45645161290323,50.10333333333333,35.99032258064516],\"yaxis\":\"y\"},{\"hovertemplate\":\"Year=2014<br>Month=%{x}<br>AvgTemperature=%{y}<extra></extra>\",\"legendgroup\":\"2014\",\"line\":{\"color\":\"#FECB52\",\"dash\":\"solid\"},\"mode\":\"lines\",\"name\":\"2014\",\"orientation\":\"v\",\"showlegend\":true,\"type\":\"scatter\",\"x\":[\"1\",\"2\",\"3\",\"4\",\"5\",\"6\",\"7\",\"8\",\"9\",\"10\",\"11\",\"12\"],\"xaxis\":\"x\",\"y\":[41.28064516129032,43.86666666666667,47.75322580645161,55.17666666666666,61.849999999999994,68.36833333333334,76.29354838709678,77.62903225806451,67.90666666666667,58.15161290322581,48.598333333333336,44.972580645161294],\"yaxis\":\"y\"},{\"hovertemplate\":\"Year=2015<br>Month=%{x}<br>AvgTemperature=%{y}<extra></extra>\",\"legendgroup\":\"2015\",\"line\":{\"color\":\"#636efa\",\"dash\":\"solid\"},\"mode\":\"lines\",\"name\":\"2015\",\"orientation\":\"v\",\"showlegend\":true,\"type\":\"scatter\",\"x\":[\"1\",\"2\",\"3\",\"4\",\"5\",\"6\",\"7\",\"8\",\"9\",\"10\",\"11\",\"12\"],\"xaxis\":\"x\",\"y\":[37.82096774193548,40.25892857142857,45.4241935483871,49.46666666666667,62.900000000000006,67.20166666666667,75.5,76.8967741935484,72.84166666666667,59.440322580645166,51.17166666666667,39.205000000000005],\"yaxis\":\"y\"},{\"hovertemplate\":\"Year=2016<br>Month=%{x}<br>AvgTemperature=%{y}<extra></extra>\",\"legendgroup\":\"2016\",\"line\":{\"color\":\"#EF553B\",\"dash\":\"solid\"},\"mode\":\"lines\",\"name\":\"2016\",\"orientation\":\"v\",\"showlegend\":true,\"type\":\"scatter\",\"x\":[\"1\",\"2\",\"3\",\"4\",\"5\",\"6\",\"7\",\"8\",\"9\",\"10\",\"11\",\"12\"],\"xaxis\":\"x\",\"y\":[36.5,46.31206896551724,47.885,57.80333333333333,60.80333333333333,71.64,76.3741935483871,77.20645161290322,68.37241379310345,57.961290322580645,47.001724137931035,35.248387096774195],\"yaxis\":\"y\"},{\"hovertemplate\":\"Year=2017<br>Month=%{x}<br>AvgTemperature=%{y}<extra></extra>\",\"legendgroup\":\"2017\",\"line\":{\"color\":\"#00cc96\",\"dash\":\"solid\"},\"mode\":\"lines\",\"name\":\"2017\",\"orientation\":\"v\",\"showlegend\":true,\"type\":\"scatter\",\"x\":[\"1\",\"2\",\"3\",\"4\",\"5\",\"6\",\"7\",\"8\",\"9\",\"10\",\"11\",\"12\"],\"xaxis\":\"x\",\"y\":[32.29354838709678,39.09464285714286,46.86290322580645,52.184999999999995,60.57741935483871,69.56,76.34516129032258,76.20645161290322,71.72666666666667,56.579032258064515,48.47833333333333,44.4241935483871],\"yaxis\":\"y\"},{\"hovertemplate\":\"Year=2018<br>Month=%{x}<br>AvgTemperature=%{y}<extra></extra>\",\"legendgroup\":\"2018\",\"line\":{\"color\":\"#ab63fa\",\"dash\":\"solid\"},\"mode\":\"lines\",\"name\":\"2018\",\"orientation\":\"v\",\"showlegend\":true,\"type\":\"scatter\",\"x\":[\"1\",\"2\",\"3\",\"4\",\"5\",\"6\",\"7\",\"8\",\"9\",\"10\",\"11\",\"12\"],\"xaxis\":\"x\",\"y\":[40.998360655737706,44.00714285714286,49.43064516129032,57.41833333333333,64.30322580645162,71.31,76.5741935483871,77.80322580645162,69.02666666666667,60.182258064516134,51.56111111111112,40.61451612903225],\"yaxis\":\"y\"},{\"hovertemplate\":\"Year=2019<br>Month=%{x}<br>AvgTemperature=%{y}<extra></extra>\",\"legendgroup\":\"2019\",\"line\":{\"color\":\"#FFA15A\",\"dash\":\"solid\"},\"mode\":\"lines\",\"name\":\"2019\",\"orientation\":\"v\",\"showlegend\":true,\"type\":\"scatter\",\"x\":[\"1\",\"2\",\"3\",\"4\",\"5\",\"6\",\"7\",\"8\",\"9\",\"10\",\"11\",\"12\"],\"xaxis\":\"x\",\"y\":[38.88,41.496428571428574,46.13709677419355,51.550000000000004,63.38148148148148,72.70833333333333,73.59677419354838,75.33709677419354,68.37666666666668,61.43387096774194,53.44833333333334,43.093548387096774],\"yaxis\":\"y\"}],                        {\"legend\":{\"title\":{\"text\":\"Year\"},\"tracegroupgap\":0},\"margin\":{\"t\":60},\"template\":{\"data\":{\"bar\":[{\"error_x\":{\"color\":\"#2a3f5f\"},\"error_y\":{\"color\":\"#2a3f5f\"},\"marker\":{\"line\":{\"color\":\"#E5ECF6\",\"width\":0.5},\"pattern\":{\"fillmode\":\"overlay\",\"size\":10,\"solidity\":0.2}},\"type\":\"bar\"}],\"barpolar\":[{\"marker\":{\"line\":{\"color\":\"#E5ECF6\",\"width\":0.5},\"pattern\":{\"fillmode\":\"overlay\",\"size\":10,\"solidity\":0.2}},\"type\":\"barpolar\"}],\"carpet\":[{\"aaxis\":{\"endlinecolor\":\"#2a3f5f\",\"gridcolor\":\"white\",\"linecolor\":\"white\",\"minorgridcolor\":\"white\",\"startlinecolor\":\"#2a3f5f\"},\"baxis\":{\"endlinecolor\":\"#2a3f5f\",\"gridcolor\":\"white\",\"linecolor\":\"white\",\"minorgridcolor\":\"white\",\"startlinecolor\":\"#2a3f5f\"},\"type\":\"carpet\"}],\"choropleth\":[{\"colorbar\":{\"outlinewidth\":0,\"ticks\":\"\"},\"type\":\"choropleth\"}],\"contour\":[{\"colorbar\":{\"outlinewidth\":0,\"ticks\":\"\"},\"colorscale\":[[0.0,\"#0d0887\"],[0.1111111111111111,\"#46039f\"],[0.2222222222222222,\"#7201a8\"],[0.3333333333333333,\"#9c179e\"],[0.4444444444444444,\"#bd3786\"],[0.5555555555555556,\"#d8576b\"],[0.6666666666666666,\"#ed7953\"],[0.7777777777777778,\"#fb9f3a\"],[0.8888888888888888,\"#fdca26\"],[1.0,\"#f0f921\"]],\"type\":\"contour\"}],\"contourcarpet\":[{\"colorbar\":{\"outlinewidth\":0,\"ticks\":\"\"},\"type\":\"contourcarpet\"}],\"heatmap\":[{\"colorbar\":{\"outlinewidth\":0,\"ticks\":\"\"},\"colorscale\":[[0.0,\"#0d0887\"],[0.1111111111111111,\"#46039f\"],[0.2222222222222222,\"#7201a8\"],[0.3333333333333333,\"#9c179e\"],[0.4444444444444444,\"#bd3786\"],[0.5555555555555556,\"#d8576b\"],[0.6666666666666666,\"#ed7953\"],[0.7777777777777778,\"#fb9f3a\"],[0.8888888888888888,\"#fdca26\"],[1.0,\"#f0f921\"]],\"type\":\"heatmap\"}],\"heatmapgl\":[{\"colorbar\":{\"outlinewidth\":0,\"ticks\":\"\"},\"colorscale\":[[0.0,\"#0d0887\"],[0.1111111111111111,\"#46039f\"],[0.2222222222222222,\"#7201a8\"],[0.3333333333333333,\"#9c179e\"],[0.4444444444444444,\"#bd3786\"],[0.5555555555555556,\"#d8576b\"],[0.6666666666666666,\"#ed7953\"],[0.7777777777777778,\"#fb9f3a\"],[0.8888888888888888,\"#fdca26\"],[1.0,\"#f0f921\"]],\"type\":\"heatmapgl\"}],\"histogram\":[{\"marker\":{\"pattern\":{\"fillmode\":\"overlay\",\"size\":10,\"solidity\":0.2}},\"type\":\"histogram\"}],\"histogram2d\":[{\"colorbar\":{\"outlinewidth\":0,\"ticks\":\"\"},\"colorscale\":[[0.0,\"#0d0887\"],[0.1111111111111111,\"#46039f\"],[0.2222222222222222,\"#7201a8\"],[0.3333333333333333,\"#9c179e\"],[0.4444444444444444,\"#bd3786\"],[0.5555555555555556,\"#d8576b\"],[0.6666666666666666,\"#ed7953\"],[0.7777777777777778,\"#fb9f3a\"],[0.8888888888888888,\"#fdca26\"],[1.0,\"#f0f921\"]],\"type\":\"histogram2d\"}],\"histogram2dcontour\":[{\"colorbar\":{\"outlinewidth\":0,\"ticks\":\"\"},\"colorscale\":[[0.0,\"#0d0887\"],[0.1111111111111111,\"#46039f\"],[0.2222222222222222,\"#7201a8\"],[0.3333333333333333,\"#9c179e\"],[0.4444444444444444,\"#bd3786\"],[0.5555555555555556,\"#d8576b\"],[0.6666666666666666,\"#ed7953\"],[0.7777777777777778,\"#fb9f3a\"],[0.8888888888888888,\"#fdca26\"],[1.0,\"#f0f921\"]],\"type\":\"histogram2dcontour\"}],\"mesh3d\":[{\"colorbar\":{\"outlinewidth\":0,\"ticks\":\"\"},\"type\":\"mesh3d\"}],\"parcoords\":[{\"line\":{\"colorbar\":{\"outlinewidth\":0,\"ticks\":\"\"}},\"type\":\"parcoords\"}],\"pie\":[{\"automargin\":true,\"type\":\"pie\"}],\"scatter\":[{\"marker\":{\"colorbar\":{\"outlinewidth\":0,\"ticks\":\"\"}},\"type\":\"scatter\"}],\"scatter3d\":[{\"line\":{\"colorbar\":{\"outlinewidth\":0,\"ticks\":\"\"}},\"marker\":{\"colorbar\":{\"outlinewidth\":0,\"ticks\":\"\"}},\"type\":\"scatter3d\"}],\"scattercarpet\":[{\"marker\":{\"colorbar\":{\"outlinewidth\":0,\"ticks\":\"\"}},\"type\":\"scattercarpet\"}],\"scattergeo\":[{\"marker\":{\"colorbar\":{\"outlinewidth\":0,\"ticks\":\"\"}},\"type\":\"scattergeo\"}],\"scattergl\":[{\"marker\":{\"colorbar\":{\"outlinewidth\":0,\"ticks\":\"\"}},\"type\":\"scattergl\"}],\"scattermapbox\":[{\"marker\":{\"colorbar\":{\"outlinewidth\":0,\"ticks\":\"\"}},\"type\":\"scattermapbox\"}],\"scatterpolar\":[{\"marker\":{\"colorbar\":{\"outlinewidth\":0,\"ticks\":\"\"}},\"type\":\"scatterpolar\"}],\"scatterpolargl\":[{\"marker\":{\"colorbar\":{\"outlinewidth\":0,\"ticks\":\"\"}},\"type\":\"scatterpolargl\"}],\"scatterternary\":[{\"marker\":{\"colorbar\":{\"outlinewidth\":0,\"ticks\":\"\"}},\"type\":\"scatterternary\"}],\"surface\":[{\"colorbar\":{\"outlinewidth\":0,\"ticks\":\"\"},\"colorscale\":[[0.0,\"#0d0887\"],[0.1111111111111111,\"#46039f\"],[0.2222222222222222,\"#7201a8\"],[0.3333333333333333,\"#9c179e\"],[0.4444444444444444,\"#bd3786\"],[0.5555555555555556,\"#d8576b\"],[0.6666666666666666,\"#ed7953\"],[0.7777777777777778,\"#fb9f3a\"],[0.8888888888888888,\"#fdca26\"],[1.0,\"#f0f921\"]],\"type\":\"surface\"}],\"table\":[{\"cells\":{\"fill\":{\"color\":\"#EBF0F8\"},\"line\":{\"color\":\"white\"}},\"header\":{\"fill\":{\"color\":\"#C8D4E3\"},\"line\":{\"color\":\"white\"}},\"type\":\"table\"}]},\"layout\":{\"annotationdefaults\":{\"arrowcolor\":\"#2a3f5f\",\"arrowhead\":0,\"arrowwidth\":1},\"autotypenumbers\":\"strict\",\"coloraxis\":{\"colorbar\":{\"outlinewidth\":0,\"ticks\":\"\"}},\"colorscale\":{\"diverging\":[[0,\"#8e0152\"],[0.1,\"#c51b7d\"],[0.2,\"#de77ae\"],[0.3,\"#f1b6da\"],[0.4,\"#fde0ef\"],[0.5,\"#f7f7f7\"],[0.6,\"#e6f5d0\"],[0.7,\"#b8e186\"],[0.8,\"#7fbc41\"],[0.9,\"#4d9221\"],[1,\"#276419\"]],\"sequential\":[[0.0,\"#0d0887\"],[0.1111111111111111,\"#46039f\"],[0.2222222222222222,\"#7201a8\"],[0.3333333333333333,\"#9c179e\"],[0.4444444444444444,\"#bd3786\"],[0.5555555555555556,\"#d8576b\"],[0.6666666666666666,\"#ed7953\"],[0.7777777777777778,\"#fb9f3a\"],[0.8888888888888888,\"#fdca26\"],[1.0,\"#f0f921\"]],\"sequentialminus\":[[0.0,\"#0d0887\"],[0.1111111111111111,\"#46039f\"],[0.2222222222222222,\"#7201a8\"],[0.3333333333333333,\"#9c179e\"],[0.4444444444444444,\"#bd3786\"],[0.5555555555555556,\"#d8576b\"],[0.6666666666666666,\"#ed7953\"],[0.7777777777777778,\"#fb9f3a\"],[0.8888888888888888,\"#fdca26\"],[1.0,\"#f0f921\"]]},\"colorway\":[\"#636efa\",\"#EF553B\",\"#00cc96\",\"#ab63fa\",\"#FFA15A\",\"#19d3f3\",\"#FF6692\",\"#B6E880\",\"#FF97FF\",\"#FECB52\"],\"font\":{\"color\":\"#2a3f5f\"},\"geo\":{\"bgcolor\":\"white\",\"lakecolor\":\"white\",\"landcolor\":\"#E5ECF6\",\"showlakes\":true,\"showland\":true,\"subunitcolor\":\"white\"},\"hoverlabel\":{\"align\":\"left\"},\"hovermode\":\"closest\",\"mapbox\":{\"style\":\"light\"},\"paper_bgcolor\":\"white\",\"plot_bgcolor\":\"#E5ECF6\",\"polar\":{\"angularaxis\":{\"gridcolor\":\"white\",\"linecolor\":\"white\",\"ticks\":\"\"},\"bgcolor\":\"#E5ECF6\",\"radialaxis\":{\"gridcolor\":\"white\",\"linecolor\":\"white\",\"ticks\":\"\"}},\"scene\":{\"xaxis\":{\"backgroundcolor\":\"#E5ECF6\",\"gridcolor\":\"white\",\"gridwidth\":2,\"linecolor\":\"white\",\"showbackground\":true,\"ticks\":\"\",\"zerolinecolor\":\"white\"},\"yaxis\":{\"backgroundcolor\":\"#E5ECF6\",\"gridcolor\":\"white\",\"gridwidth\":2,\"linecolor\":\"white\",\"showbackground\":true,\"ticks\":\"\",\"zerolinecolor\":\"white\"},\"zaxis\":{\"backgroundcolor\":\"#E5ECF6\",\"gridcolor\":\"white\",\"gridwidth\":2,\"linecolor\":\"white\",\"showbackground\":true,\"ticks\":\"\",\"zerolinecolor\":\"white\"}},\"shapedefaults\":{\"line\":{\"color\":\"#2a3f5f\"}},\"ternary\":{\"aaxis\":{\"gridcolor\":\"white\",\"linecolor\":\"white\",\"ticks\":\"\"},\"baxis\":{\"gridcolor\":\"white\",\"linecolor\":\"white\",\"ticks\":\"\"},\"bgcolor\":\"#E5ECF6\",\"caxis\":{\"gridcolor\":\"white\",\"linecolor\":\"white\",\"ticks\":\"\"}},\"title\":{\"x\":0.05},\"xaxis\":{\"automargin\":true,\"gridcolor\":\"white\",\"linecolor\":\"white\",\"ticks\":\"\",\"title\":{\"standoff\":15},\"zerolinecolor\":\"white\",\"zerolinewidth\":2},\"yaxis\":{\"automargin\":true,\"gridcolor\":\"white\",\"linecolor\":\"white\",\"ticks\":\"\",\"title\":{\"standoff\":15},\"zerolinecolor\":\"white\",\"zerolinewidth\":2}}},\"xaxis\":{\"anchor\":\"y\",\"domain\":[0.0,1.0],\"dtick\":\"Month\",\"title\":{\"text\":\"Month\"}},\"yaxis\":{\"anchor\":\"x\",\"domain\":[0.0,1.0],\"title\":{\"text\":\"AvgTemperature\"}}},                        {\"responsive\": true}                    ).then(function(){\n",
       "                            \n",
       "var gd = document.getElementById('c7d8b96e-7f60-4169-a563-6832656f2b4a');\n",
       "var x = new MutationObserver(function (mutations, observer) {{\n",
       "        var display = window.getComputedStyle(gd).display;\n",
       "        if (!display || display === 'none') {{\n",
       "            console.log([gd, 'removed!']);\n",
       "            Plotly.purge(gd);\n",
       "            observer.disconnect();\n",
       "        }}\n",
       "}});\n",
       "\n",
       "// Listen for the removal of the full notebook cells\n",
       "var notebookContainer = gd.closest('#notebook-container');\n",
       "if (notebookContainer) {{\n",
       "    x.observe(notebookContainer, {childList: true});\n",
       "}}\n",
       "\n",
       "// Listen for the clearing of the current output cell\n",
       "var outputEl = gd.closest('.output');\n",
       "if (outputEl) {{\n",
       "    x.observe(outputEl, {childList: true});\n",
       "}}\n",
       "\n",
       "                        })                };                });            </script>        </div>"
      ]
     },
     "metadata": {},
     "output_type": "display_data"
    }
   ],
   "source": [
    "Turkey = country_agg[country_agg.Country == 'Turkey']\n",
    "fig = px.line(Turkey, 'Month', 'AvgTemperature', color='Year')\n",
    "fig.update_xaxes(dtick = 'Month')\n",
    "fig.show()"
   ]
  },
  {
   "cell_type": "markdown",
   "id": "c525d45f",
   "metadata": {},
   "source": [
    "Turkey has been observing the highest average temperatures between July and August, and the lowest average temperature between December and February. As it is hard to distinguish distinct years, let's look at the years apart. "
   ]
  },
  {
   "cell_type": "code",
   "execution_count": 233,
   "id": "33b9adff",
   "metadata": {},
   "outputs": [
    {
     "name": "stderr",
     "output_type": "stream",
     "text": [
      "<ipython-input-233-6f21515ef090>:2: SettingWithCopyWarning:\n",
      "\n",
      "\n",
      "A value is trying to be set on a copy of a slice from a DataFrame.\n",
      "Try using .loc[row_indexer,col_indexer] = value instead\n",
      "\n",
      "See the caveats in the documentation: https://pandas.pydata.org/pandas-docs/stable/user_guide/indexing.html#returning-a-view-versus-a-copy\n",
      "\n",
      "<ipython-input-233-6f21515ef090>:3: SettingWithCopyWarning:\n",
      "\n",
      "\n",
      "A value is trying to be set on a copy of a slice from a DataFrame.\n",
      "Try using .loc[row_indexer,col_indexer] = value instead\n",
      "\n",
      "See the caveats in the documentation: https://pandas.pydata.org/pandas-docs/stable/user_guide/indexing.html#returning-a-view-versus-a-copy\n",
      "\n",
      "<ipython-input-233-6f21515ef090>:5: SettingWithCopyWarning:\n",
      "\n",
      "\n",
      "A value is trying to be set on a copy of a slice from a DataFrame.\n",
      "Try using .loc[row_indexer,col_indexer] = value instead\n",
      "\n",
      "See the caveats in the documentation: https://pandas.pydata.org/pandas-docs/stable/user_guide/indexing.html#returning-a-view-versus-a-copy\n",
      "\n"
     ]
    }
   ],
   "source": [
    "# First merge months and years into a date string \n",
    "Turkey.Month = Turkey.Month.astype(str)\n",
    "Turkey.Year =  Turkey.Year.astype(str)\n",
    "\n",
    "Turkey['Date'] = Turkey.Month + '/' + country_agg.Year"
   ]
  },
  {
   "cell_type": "code",
   "execution_count": 234,
   "id": "b734678b",
   "metadata": {},
   "outputs": [
    {
     "data": {
      "application/vnd.plotly.v1+json": {
       "config": {
        "plotlyServerURL": "https://plot.ly"
       },
       "data": [
        {
         "alignmentgroup": "True",
         "hovertemplate": "Month=1<br>Date=%{x}<br>AvgTemperature=%{y}<extra></extra>",
         "legendgroup": "1",
         "marker": {
          "color": "#636efa",
          "pattern": {
           "shape": ""
          }
         },
         "name": "1",
         "offsetgroup": "1",
         "orientation": "v",
         "showlegend": true,
         "textposition": "auto",
         "type": "bar",
         "x": [
          "1/1995",
          "1/1996",
          "1/1997",
          "1/1998",
          "1/1999",
          "1/2000",
          "1/2001",
          "1/2002",
          "1/2003",
          "1/2004",
          "1/2005",
          "1/2006",
          "1/2007",
          "1/2008",
          "1/2009",
          "1/2010",
          "1/2011",
          "1/2012",
          "1/2013",
          "1/2014",
          "1/2015",
          "1/2016",
          "1/2017",
          "1/2018",
          "1/2019"
         ],
         "xaxis": "x",
         "y": [
          38.78225806451613,
          36.10645161290322,
          38.167741935483875,
          37.972580645161294,
          39.14833333333333,
          30.020967741935483,
          40.3,
          30.638709677419353,
          42.58524590163934,
          34.94193548387097,
          39.49516129032258,
          32.30483870967742,
          39.251612903225805,
          29.343548387096774,
          39.03709677419355,
          38.975806451612904,
          38.55,
          33.28709677419355,
          39.42258064516129,
          41.28064516129032,
          37.82096774193548,
          36.5,
          32.29354838709678,
          40.998360655737706,
          38.88
         ],
         "yaxis": "y"
        },
        {
         "alignmentgroup": "True",
         "hovertemplate": "Month=2<br>Date=%{x}<br>AvgTemperature=%{y}<extra></extra>",
         "legendgroup": "2",
         "marker": {
          "color": "#EF553B",
          "pattern": {
           "shape": ""
          }
         },
         "name": "2",
         "offsetgroup": "2",
         "orientation": "v",
         "showlegend": true,
         "textposition": "auto",
         "type": "bar",
         "x": [
          "2/1995",
          "2/1996",
          "2/1997",
          "2/1998",
          "2/1999",
          "2/2000",
          "2/2001",
          "2/2002",
          "2/2003",
          "2/2004",
          "2/2005",
          "2/2006",
          "2/2007",
          "2/2008",
          "2/2009",
          "2/2010",
          "2/2011",
          "2/2012",
          "2/2013",
          "2/2014",
          "2/2015",
          "2/2016",
          "2/2017",
          "2/2018",
          "2/2019"
         ],
         "xaxis": "x",
         "y": [
          41.114285714285714,
          38.891379310344824,
          35.06071428571428,
          38.771428571428565,
          39.36607142857143,
          35.15,
          41.04821428571428,
          42.37678571428571,
          32.95178571428571,
          37.922413793103445,
          37.848214285714285,
          34.975,
          39.36785714285714,
          34.94827586206897,
          40.776785714285715,
          43.669642857142854,
          38.81428571428571,
          30.467241379310344,
          43.42142857142857,
          43.86666666666667,
          40.25892857142857,
          46.31206896551724,
          39.09464285714286,
          44.00714285714286,
          41.496428571428574
         ],
         "yaxis": "y"
        },
        {
         "alignmentgroup": "True",
         "hovertemplate": "Month=3<br>Date=%{x}<br>AvgTemperature=%{y}<extra></extra>",
         "legendgroup": "3",
         "marker": {
          "color": "#00cc96",
          "pattern": {
           "shape": ""
          }
         },
         "name": "3",
         "offsetgroup": "3",
         "orientation": "v",
         "showlegend": true,
         "textposition": "auto",
         "type": "bar",
         "x": [
          "3/1995",
          "3/1996",
          "3/1997",
          "3/1998",
          "3/1999",
          "3/2000",
          "3/2001",
          "3/2002",
          "3/2003",
          "3/2004",
          "3/2005",
          "3/2006",
          "3/2007",
          "3/2008",
          "3/2009",
          "3/2010",
          "3/2011",
          "3/2012",
          "3/2013",
          "3/2014",
          "3/2015",
          "3/2016",
          "3/2017",
          "3/2018",
          "3/2019"
         ],
         "xaxis": "x",
         "y": [
          44.432258064516134,
          38.67258064516129,
          38.66612903225807,
          39.21290322580645,
          44.35967741935484,
          41.40161290322581,
          51.60322580645161,
          46.653225806451616,
          38.20967741935484,
          44.524193548387096,
          42.46935483870968,
          44.79516129032258,
          45.20161290322581,
          49.50645161290323,
          42.96451612903226,
          45.650000000000006,
          42.440322580645166,
          39.900000000000006,
          46.9483870967742,
          47.75322580645161,
          45.4241935483871,
          47.885,
          46.86290322580645,
          49.43064516129032,
          46.13709677419355
         ],
         "yaxis": "y"
        },
        {
         "alignmentgroup": "True",
         "hovertemplate": "Month=4<br>Date=%{x}<br>AvgTemperature=%{y}<extra></extra>",
         "legendgroup": "4",
         "marker": {
          "color": "#ab63fa",
          "pattern": {
           "shape": ""
          }
         },
         "name": "4",
         "offsetgroup": "4",
         "orientation": "v",
         "showlegend": true,
         "textposition": "auto",
         "type": "bar",
         "x": [
          "4/1995",
          "4/1996",
          "4/1997",
          "4/1998",
          "4/1999",
          "4/2000",
          "4/2001",
          "4/2002",
          "4/2003",
          "4/2004",
          "4/2005",
          "4/2006",
          "4/2007",
          "4/2008",
          "4/2009",
          "4/2010",
          "4/2011",
          "4/2012",
          "4/2013",
          "4/2014",
          "4/2015",
          "4/2016",
          "4/2017",
          "4/2018",
          "4/2019"
         ],
         "xaxis": "x",
         "y": [
          49.89333333333333,
          47.358333333333334,
          45.458333333333336,
          54.61333333333334,
          53.55,
          55.25,
          53.876666666666665,
          50.434999999999995,
          48.440000000000005,
          51.65833333333333,
          52.035,
          53.623333333333335,
          49.05333333333333,
          55.858333333333334,
          51.01379310344828,
          53.14333333333333,
          48.434999999999995,
          56.169999999999995,
          54.656666666666666,
          55.17666666666666,
          49.46666666666667,
          57.80333333333333,
          52.184999999999995,
          57.41833333333333,
          51.550000000000004
         ],
         "yaxis": "y"
        },
        {
         "alignmentgroup": "True",
         "hovertemplate": "Month=5<br>Date=%{x}<br>AvgTemperature=%{y}<extra></extra>",
         "legendgroup": "5",
         "marker": {
          "color": "#FFA15A",
          "pattern": {
           "shape": ""
          }
         },
         "name": "5",
         "offsetgroup": "5",
         "orientation": "v",
         "showlegend": true,
         "textposition": "auto",
         "type": "bar",
         "x": [
          "5/1995",
          "5/1996",
          "5/1997",
          "5/1998",
          "5/1999",
          "5/2000",
          "5/2001",
          "5/2002",
          "5/2003",
          "5/2004",
          "5/2005",
          "5/2006",
          "5/2007",
          "5/2008",
          "5/2009",
          "5/2010",
          "5/2011",
          "5/2012",
          "5/2013",
          "5/2014",
          "5/2015",
          "5/2016",
          "5/2017",
          "5/2018",
          "5/2019"
         ],
         "xaxis": "x",
         "y": [
          60.84838709677419,
          62.93709677419355,
          60.69838709677419,
          60.12580645161291,
          60.653225806451616,
          59.45645161290323,
          58.86451612903225,
          60.89677419354839,
          63.37096774193548,
          59.18387096774194,
          60.248387096774195,
          60.66290322580645,
          65.74677419354839,
          60.346774193548384,
          60.733870967741936,
          62.998387096774195,
          58.61612903225806,
          61.803225806451614,
          65.43225806451612,
          61.849999999999994,
          62.900000000000006,
          60.80333333333333,
          60.57741935483871,
          64.30322580645162,
          63.38148148148148
         ],
         "yaxis": "y"
        },
        {
         "alignmentgroup": "True",
         "hovertemplate": "Month=6<br>Date=%{x}<br>AvgTemperature=%{y}<extra></extra>",
         "legendgroup": "6",
         "marker": {
          "color": "#19d3f3",
          "pattern": {
           "shape": ""
          }
         },
         "name": "6",
         "offsetgroup": "6",
         "orientation": "v",
         "showlegend": true,
         "textposition": "auto",
         "type": "bar",
         "x": [
          "6/1995",
          "6/1996",
          "6/1997",
          "6/1998",
          "6/1999",
          "6/2000",
          "6/2001",
          "6/2002",
          "6/2003",
          "6/2004",
          "6/2005",
          "6/2006",
          "6/2007",
          "6/2008",
          "6/2009",
          "6/2010",
          "6/2011",
          "6/2012",
          "6/2013",
          "6/2014",
          "6/2015",
          "6/2016",
          "6/2017",
          "6/2018",
          "6/2019"
         ],
         "xaxis": "x",
         "y": [
          70.265,
          67.105,
          67.725,
          68.91833333333334,
          68.40666666666667,
          67.19666666666667,
          68.88333333333334,
          70.01153846153846,
          71.015,
          66.96666666666667,
          66.41333333333334,
          69.90166666666667,
          72.90833333333333,
          70.68666666666667,
          70.61,
          69.66499999999999,
          67.44333333333333,
          73.01333333333334,
          70.91333333333334,
          68.36833333333334,
          67.20166666666667,
          71.64,
          69.56,
          71.31,
          72.70833333333333
         ],
         "yaxis": "y"
        },
        {
         "alignmentgroup": "True",
         "hovertemplate": "Month=7<br>Date=%{x}<br>AvgTemperature=%{y}<extra></extra>",
         "legendgroup": "7",
         "marker": {
          "color": "#FF6692",
          "pattern": {
           "shape": ""
          }
         },
         "name": "7",
         "offsetgroup": "7",
         "orientation": "v",
         "showlegend": true,
         "textposition": "auto",
         "type": "bar",
         "x": [
          "7/1995",
          "7/1996",
          "7/1997",
          "7/1998",
          "7/1999",
          "7/2000",
          "7/2001",
          "7/2002",
          "7/2003",
          "7/2004",
          "7/2005",
          "7/2006",
          "7/2007",
          "7/2008",
          "7/2009",
          "7/2010",
          "7/2011",
          "7/2012",
          "7/2013",
          "7/2014",
          "7/2015",
          "7/2016",
          "7/2017",
          "7/2018",
          "7/2019"
         ],
         "xaxis": "x",
         "y": [
          71.4,
          74.5241935483871,
          72.05322580645162,
          74.7290322580645,
          75.4483870967742,
          76.68709677419355,
          77.61451612903227,
          76.94354838709677,
          74.08870967741936,
          72.95645161290322,
          75.04838709677419,
          73.23387096774194,
          77.8258064516129,
          75.09032258064516,
          74.76774193548388,
          76.15322580645162,
          76.5241935483871,
          78.48064516129033,
          74.41774193548386,
          76.29354838709678,
          75.5,
          76.3741935483871,
          76.34516129032258,
          76.5741935483871,
          73.59677419354838
         ],
         "yaxis": "y"
        },
        {
         "alignmentgroup": "True",
         "hovertemplate": "Month=8<br>Date=%{x}<br>AvgTemperature=%{y}<extra></extra>",
         "legendgroup": "8",
         "marker": {
          "color": "#B6E880",
          "pattern": {
           "shape": ""
          }
         },
         "name": "8",
         "offsetgroup": "8",
         "orientation": "v",
         "showlegend": true,
         "textposition": "auto",
         "type": "bar",
         "x": [
          "8/1995",
          "8/1996",
          "8/1997",
          "8/1998",
          "8/1999",
          "8/2000",
          "8/2001",
          "8/2002",
          "8/2003",
          "8/2004",
          "8/2005",
          "8/2006",
          "8/2007",
          "8/2008",
          "8/2009",
          "8/2010",
          "8/2011",
          "8/2012",
          "8/2013",
          "8/2014",
          "8/2015",
          "8/2016",
          "8/2017",
          "8/2018",
          "8/2019"
         ],
         "xaxis": "x",
         "y": [
          73.29354838709678,
          73.19999999999999,
          69.48064516129033,
          75.82903225806452,
          74.74354838709678,
          73.38870967741936,
          76.15,
          72.65483870967742,
          75.85645161290323,
          72.61774193548388,
          76.47419354838709,
          79.18870967741935,
          78.17833333333333,
          77.6,
          73.44354838709677,
          80.3241935483871,
          73.58064516129032,
          75.10967741935484,
          76.09516129032258,
          77.62903225806451,
          76.8967741935484,
          77.20645161290322,
          76.20645161290322,
          77.80322580645162,
          75.33709677419354
         ],
         "yaxis": "y"
        },
        {
         "alignmentgroup": "True",
         "hovertemplate": "Month=9<br>Date=%{x}<br>AvgTemperature=%{y}<extra></extra>",
         "legendgroup": "9",
         "marker": {
          "color": "#FF97FF",
          "pattern": {
           "shape": ""
          }
         },
         "name": "9",
         "offsetgroup": "9",
         "orientation": "v",
         "showlegend": true,
         "textposition": "auto",
         "type": "bar",
         "x": [
          "9/1995",
          "9/1996",
          "9/1997",
          "9/1998",
          "9/1999",
          "9/2000",
          "9/2001",
          "9/2002",
          "9/2003",
          "9/2004",
          "9/2005",
          "9/2006",
          "9/2007",
          "9/2008",
          "9/2009",
          "9/2010",
          "9/2011",
          "9/2012",
          "9/2013",
          "9/2014",
          "9/2015",
          "9/2016",
          "9/2017",
          "9/2018",
          "9/2019"
         ],
         "xaxis": "x",
         "y": [
          66.33166666666666,
          63.515,
          60.855000000000004,
          66.10333333333332,
          66.32333333333334,
          65.99833333333333,
          69.16333333333334,
          66.18333333333334,
          64.91666666666667,
          66.66666666666667,
          66.58666666666666,
          66.09666666666666,
          68.09166666666667,
          67.71551724137932,
          65.57333333333334,
          70.03,
          69.01833333333335,
          70.24833333333332,
          66.49833333333333,
          67.90666666666667,
          72.84166666666667,
          68.37241379310345,
          71.72666666666667,
          69.02666666666667,
          68.37666666666668
         ],
         "yaxis": "y"
        },
        {
         "alignmentgroup": "True",
         "hovertemplate": "Month=10<br>Date=%{x}<br>AvgTemperature=%{y}<extra></extra>",
         "legendgroup": "10",
         "marker": {
          "color": "#FECB52",
          "pattern": {
           "shape": ""
          }
         },
         "name": "10",
         "offsetgroup": "10",
         "orientation": "v",
         "showlegend": true,
         "textposition": "auto",
         "type": "bar",
         "x": [
          "10/1995",
          "10/1996",
          "10/1997",
          "10/1998",
          "10/1999",
          "10/2000",
          "10/2001",
          "10/2002",
          "10/2003",
          "10/2004",
          "10/2005",
          "10/2006",
          "10/2007",
          "10/2008",
          "10/2009",
          "10/2010",
          "10/2011",
          "10/2012",
          "10/2013",
          "10/2014",
          "10/2015",
          "10/2016",
          "10/2017",
          "10/2018",
          "10/2019"
         ],
         "xaxis": "x",
         "y": [
          53.94516129032258,
          54.08870967741935,
          55.75,
          58.737096774193546,
          58.150000000000006,
          55.57096774193548,
          58.25806451612903,
          57.78387096774193,
          58.46935483870968,
          58.829032258064515,
          54.38870967741936,
          58.774193548387096,
          59.54032258064516,
          57.86774193548386,
          61.37903225806452,
          55.58387096774193,
          53.943548387096776,
          63.05483870967742,
          54.45645161290323,
          58.15161290322581,
          59.440322580645166,
          57.961290322580645,
          56.579032258064515,
          60.182258064516134,
          61.43387096774194
         ],
         "yaxis": "y"
        },
        {
         "alignmentgroup": "True",
         "hovertemplate": "Month=11<br>Date=%{x}<br>AvgTemperature=%{y}<extra></extra>",
         "legendgroup": "11",
         "marker": {
          "color": "#636efa",
          "pattern": {
           "shape": ""
          }
         },
         "name": "11",
         "offsetgroup": "11",
         "orientation": "v",
         "showlegend": true,
         "textposition": "auto",
         "type": "bar",
         "x": [
          "11/1995",
          "11/1996",
          "11/1997",
          "11/1998",
          "11/1999",
          "11/2000",
          "11/2001",
          "11/2002",
          "11/2003",
          "11/2004",
          "11/2005",
          "11/2006",
          "11/2007",
          "11/2008",
          "11/2009",
          "11/2010",
          "11/2011",
          "11/2012",
          "11/2013",
          "11/2014",
          "11/2015",
          "11/2016",
          "11/2017",
          "11/2018",
          "11/2019"
         ],
         "xaxis": "x",
         "y": [
          41.443333333333335,
          47.50833333333333,
          47.11,
          48.54333333333333,
          46.74166666666667,
          49.88,
          46.57666666666667,
          49.291666666666664,
          47.269999999999996,
          47.358333333333334,
          45.335,
          44.89333333333333,
          46.63333333333333,
          50.07666666666667,
          48.18666666666666,
          53.86,
          41.39833333333333,
          51.88,
          50.10333333333333,
          48.598333333333336,
          51.17166666666667,
          47.001724137931035,
          48.47833333333333,
          51.56111111111112,
          53.44833333333334
         ],
         "yaxis": "y"
        },
        {
         "alignmentgroup": "True",
         "hovertemplate": "Month=12<br>Date=%{x}<br>AvgTemperature=%{y}<extra></extra>",
         "legendgroup": "12",
         "marker": {
          "color": "#EF553B",
          "pattern": {
           "shape": ""
          }
         },
         "name": "12",
         "offsetgroup": "12",
         "orientation": "v",
         "showlegend": true,
         "textposition": "auto",
         "type": "bar",
         "x": [
          "12/1995",
          "12/1996",
          "12/1997",
          "12/1998",
          "12/1999",
          "12/2000",
          "12/2001",
          "12/2002",
          "12/2003",
          "12/2004",
          "12/2005",
          "12/2006",
          "12/2007",
          "12/2008",
          "12/2009",
          "12/2010",
          "12/2011",
          "12/2012",
          "12/2013",
          "12/2014",
          "12/2015",
          "12/2016",
          "12/2017",
          "12/2018",
          "12/2019"
         ],
         "xaxis": "x",
         "y": [
          40.024193548387096,
          45.13548387096775,
          41.29354838709677,
          41.16851851851852,
          43.55806451612903,
          40.63870967741936,
          37.34032258064516,
          35.69193548387097,
          39.21451612903226,
          40.119354838709675,
          40.314516129032256,
          37.940322580645166,
          38.62903225806452,
          40.34032258064516,
          44.46935483870968,
          44.54032258064516,
          41.14032258064516,
          41.42903225806452,
          35.99032258064516,
          44.972580645161294,
          39.205000000000005,
          35.248387096774195,
          44.4241935483871,
          40.61451612903225,
          43.093548387096774
         ],
         "yaxis": "y"
        }
       ],
       "layout": {
        "barmode": "relative",
        "legend": {
         "title": {
          "text": "Month"
         },
         "tracegroupgap": 0
        },
        "margin": {
         "t": 60
        },
        "template": {
         "data": {
          "bar": [
           {
            "error_x": {
             "color": "#2a3f5f"
            },
            "error_y": {
             "color": "#2a3f5f"
            },
            "marker": {
             "line": {
              "color": "#E5ECF6",
              "width": 0.5
             },
             "pattern": {
              "fillmode": "overlay",
              "size": 10,
              "solidity": 0.2
             }
            },
            "type": "bar"
           }
          ],
          "barpolar": [
           {
            "marker": {
             "line": {
              "color": "#E5ECF6",
              "width": 0.5
             },
             "pattern": {
              "fillmode": "overlay",
              "size": 10,
              "solidity": 0.2
             }
            },
            "type": "barpolar"
           }
          ],
          "carpet": [
           {
            "aaxis": {
             "endlinecolor": "#2a3f5f",
             "gridcolor": "white",
             "linecolor": "white",
             "minorgridcolor": "white",
             "startlinecolor": "#2a3f5f"
            },
            "baxis": {
             "endlinecolor": "#2a3f5f",
             "gridcolor": "white",
             "linecolor": "white",
             "minorgridcolor": "white",
             "startlinecolor": "#2a3f5f"
            },
            "type": "carpet"
           }
          ],
          "choropleth": [
           {
            "colorbar": {
             "outlinewidth": 0,
             "ticks": ""
            },
            "type": "choropleth"
           }
          ],
          "contour": [
           {
            "colorbar": {
             "outlinewidth": 0,
             "ticks": ""
            },
            "colorscale": [
             [
              0,
              "#0d0887"
             ],
             [
              0.1111111111111111,
              "#46039f"
             ],
             [
              0.2222222222222222,
              "#7201a8"
             ],
             [
              0.3333333333333333,
              "#9c179e"
             ],
             [
              0.4444444444444444,
              "#bd3786"
             ],
             [
              0.5555555555555556,
              "#d8576b"
             ],
             [
              0.6666666666666666,
              "#ed7953"
             ],
             [
              0.7777777777777778,
              "#fb9f3a"
             ],
             [
              0.8888888888888888,
              "#fdca26"
             ],
             [
              1,
              "#f0f921"
             ]
            ],
            "type": "contour"
           }
          ],
          "contourcarpet": [
           {
            "colorbar": {
             "outlinewidth": 0,
             "ticks": ""
            },
            "type": "contourcarpet"
           }
          ],
          "heatmap": [
           {
            "colorbar": {
             "outlinewidth": 0,
             "ticks": ""
            },
            "colorscale": [
             [
              0,
              "#0d0887"
             ],
             [
              0.1111111111111111,
              "#46039f"
             ],
             [
              0.2222222222222222,
              "#7201a8"
             ],
             [
              0.3333333333333333,
              "#9c179e"
             ],
             [
              0.4444444444444444,
              "#bd3786"
             ],
             [
              0.5555555555555556,
              "#d8576b"
             ],
             [
              0.6666666666666666,
              "#ed7953"
             ],
             [
              0.7777777777777778,
              "#fb9f3a"
             ],
             [
              0.8888888888888888,
              "#fdca26"
             ],
             [
              1,
              "#f0f921"
             ]
            ],
            "type": "heatmap"
           }
          ],
          "heatmapgl": [
           {
            "colorbar": {
             "outlinewidth": 0,
             "ticks": ""
            },
            "colorscale": [
             [
              0,
              "#0d0887"
             ],
             [
              0.1111111111111111,
              "#46039f"
             ],
             [
              0.2222222222222222,
              "#7201a8"
             ],
             [
              0.3333333333333333,
              "#9c179e"
             ],
             [
              0.4444444444444444,
              "#bd3786"
             ],
             [
              0.5555555555555556,
              "#d8576b"
             ],
             [
              0.6666666666666666,
              "#ed7953"
             ],
             [
              0.7777777777777778,
              "#fb9f3a"
             ],
             [
              0.8888888888888888,
              "#fdca26"
             ],
             [
              1,
              "#f0f921"
             ]
            ],
            "type": "heatmapgl"
           }
          ],
          "histogram": [
           {
            "marker": {
             "pattern": {
              "fillmode": "overlay",
              "size": 10,
              "solidity": 0.2
             }
            },
            "type": "histogram"
           }
          ],
          "histogram2d": [
           {
            "colorbar": {
             "outlinewidth": 0,
             "ticks": ""
            },
            "colorscale": [
             [
              0,
              "#0d0887"
             ],
             [
              0.1111111111111111,
              "#46039f"
             ],
             [
              0.2222222222222222,
              "#7201a8"
             ],
             [
              0.3333333333333333,
              "#9c179e"
             ],
             [
              0.4444444444444444,
              "#bd3786"
             ],
             [
              0.5555555555555556,
              "#d8576b"
             ],
             [
              0.6666666666666666,
              "#ed7953"
             ],
             [
              0.7777777777777778,
              "#fb9f3a"
             ],
             [
              0.8888888888888888,
              "#fdca26"
             ],
             [
              1,
              "#f0f921"
             ]
            ],
            "type": "histogram2d"
           }
          ],
          "histogram2dcontour": [
           {
            "colorbar": {
             "outlinewidth": 0,
             "ticks": ""
            },
            "colorscale": [
             [
              0,
              "#0d0887"
             ],
             [
              0.1111111111111111,
              "#46039f"
             ],
             [
              0.2222222222222222,
              "#7201a8"
             ],
             [
              0.3333333333333333,
              "#9c179e"
             ],
             [
              0.4444444444444444,
              "#bd3786"
             ],
             [
              0.5555555555555556,
              "#d8576b"
             ],
             [
              0.6666666666666666,
              "#ed7953"
             ],
             [
              0.7777777777777778,
              "#fb9f3a"
             ],
             [
              0.8888888888888888,
              "#fdca26"
             ],
             [
              1,
              "#f0f921"
             ]
            ],
            "type": "histogram2dcontour"
           }
          ],
          "mesh3d": [
           {
            "colorbar": {
             "outlinewidth": 0,
             "ticks": ""
            },
            "type": "mesh3d"
           }
          ],
          "parcoords": [
           {
            "line": {
             "colorbar": {
              "outlinewidth": 0,
              "ticks": ""
             }
            },
            "type": "parcoords"
           }
          ],
          "pie": [
           {
            "automargin": true,
            "type": "pie"
           }
          ],
          "scatter": [
           {
            "marker": {
             "colorbar": {
              "outlinewidth": 0,
              "ticks": ""
             }
            },
            "type": "scatter"
           }
          ],
          "scatter3d": [
           {
            "line": {
             "colorbar": {
              "outlinewidth": 0,
              "ticks": ""
             }
            },
            "marker": {
             "colorbar": {
              "outlinewidth": 0,
              "ticks": ""
             }
            },
            "type": "scatter3d"
           }
          ],
          "scattercarpet": [
           {
            "marker": {
             "colorbar": {
              "outlinewidth": 0,
              "ticks": ""
             }
            },
            "type": "scattercarpet"
           }
          ],
          "scattergeo": [
           {
            "marker": {
             "colorbar": {
              "outlinewidth": 0,
              "ticks": ""
             }
            },
            "type": "scattergeo"
           }
          ],
          "scattergl": [
           {
            "marker": {
             "colorbar": {
              "outlinewidth": 0,
              "ticks": ""
             }
            },
            "type": "scattergl"
           }
          ],
          "scattermapbox": [
           {
            "marker": {
             "colorbar": {
              "outlinewidth": 0,
              "ticks": ""
             }
            },
            "type": "scattermapbox"
           }
          ],
          "scatterpolar": [
           {
            "marker": {
             "colorbar": {
              "outlinewidth": 0,
              "ticks": ""
             }
            },
            "type": "scatterpolar"
           }
          ],
          "scatterpolargl": [
           {
            "marker": {
             "colorbar": {
              "outlinewidth": 0,
              "ticks": ""
             }
            },
            "type": "scatterpolargl"
           }
          ],
          "scatterternary": [
           {
            "marker": {
             "colorbar": {
              "outlinewidth": 0,
              "ticks": ""
             }
            },
            "type": "scatterternary"
           }
          ],
          "surface": [
           {
            "colorbar": {
             "outlinewidth": 0,
             "ticks": ""
            },
            "colorscale": [
             [
              0,
              "#0d0887"
             ],
             [
              0.1111111111111111,
              "#46039f"
             ],
             [
              0.2222222222222222,
              "#7201a8"
             ],
             [
              0.3333333333333333,
              "#9c179e"
             ],
             [
              0.4444444444444444,
              "#bd3786"
             ],
             [
              0.5555555555555556,
              "#d8576b"
             ],
             [
              0.6666666666666666,
              "#ed7953"
             ],
             [
              0.7777777777777778,
              "#fb9f3a"
             ],
             [
              0.8888888888888888,
              "#fdca26"
             ],
             [
              1,
              "#f0f921"
             ]
            ],
            "type": "surface"
           }
          ],
          "table": [
           {
            "cells": {
             "fill": {
              "color": "#EBF0F8"
             },
             "line": {
              "color": "white"
             }
            },
            "header": {
             "fill": {
              "color": "#C8D4E3"
             },
             "line": {
              "color": "white"
             }
            },
            "type": "table"
           }
          ]
         },
         "layout": {
          "annotationdefaults": {
           "arrowcolor": "#2a3f5f",
           "arrowhead": 0,
           "arrowwidth": 1
          },
          "autotypenumbers": "strict",
          "coloraxis": {
           "colorbar": {
            "outlinewidth": 0,
            "ticks": ""
           }
          },
          "colorscale": {
           "diverging": [
            [
             0,
             "#8e0152"
            ],
            [
             0.1,
             "#c51b7d"
            ],
            [
             0.2,
             "#de77ae"
            ],
            [
             0.3,
             "#f1b6da"
            ],
            [
             0.4,
             "#fde0ef"
            ],
            [
             0.5,
             "#f7f7f7"
            ],
            [
             0.6,
             "#e6f5d0"
            ],
            [
             0.7,
             "#b8e186"
            ],
            [
             0.8,
             "#7fbc41"
            ],
            [
             0.9,
             "#4d9221"
            ],
            [
             1,
             "#276419"
            ]
           ],
           "sequential": [
            [
             0,
             "#0d0887"
            ],
            [
             0.1111111111111111,
             "#46039f"
            ],
            [
             0.2222222222222222,
             "#7201a8"
            ],
            [
             0.3333333333333333,
             "#9c179e"
            ],
            [
             0.4444444444444444,
             "#bd3786"
            ],
            [
             0.5555555555555556,
             "#d8576b"
            ],
            [
             0.6666666666666666,
             "#ed7953"
            ],
            [
             0.7777777777777778,
             "#fb9f3a"
            ],
            [
             0.8888888888888888,
             "#fdca26"
            ],
            [
             1,
             "#f0f921"
            ]
           ],
           "sequentialminus": [
            [
             0,
             "#0d0887"
            ],
            [
             0.1111111111111111,
             "#46039f"
            ],
            [
             0.2222222222222222,
             "#7201a8"
            ],
            [
             0.3333333333333333,
             "#9c179e"
            ],
            [
             0.4444444444444444,
             "#bd3786"
            ],
            [
             0.5555555555555556,
             "#d8576b"
            ],
            [
             0.6666666666666666,
             "#ed7953"
            ],
            [
             0.7777777777777778,
             "#fb9f3a"
            ],
            [
             0.8888888888888888,
             "#fdca26"
            ],
            [
             1,
             "#f0f921"
            ]
           ]
          },
          "colorway": [
           "#636efa",
           "#EF553B",
           "#00cc96",
           "#ab63fa",
           "#FFA15A",
           "#19d3f3",
           "#FF6692",
           "#B6E880",
           "#FF97FF",
           "#FECB52"
          ],
          "font": {
           "color": "#2a3f5f"
          },
          "geo": {
           "bgcolor": "white",
           "lakecolor": "white",
           "landcolor": "#E5ECF6",
           "showlakes": true,
           "showland": true,
           "subunitcolor": "white"
          },
          "hoverlabel": {
           "align": "left"
          },
          "hovermode": "closest",
          "mapbox": {
           "style": "light"
          },
          "paper_bgcolor": "white",
          "plot_bgcolor": "#E5ECF6",
          "polar": {
           "angularaxis": {
            "gridcolor": "white",
            "linecolor": "white",
            "ticks": ""
           },
           "bgcolor": "#E5ECF6",
           "radialaxis": {
            "gridcolor": "white",
            "linecolor": "white",
            "ticks": ""
           }
          },
          "scene": {
           "xaxis": {
            "backgroundcolor": "#E5ECF6",
            "gridcolor": "white",
            "gridwidth": 2,
            "linecolor": "white",
            "showbackground": true,
            "ticks": "",
            "zerolinecolor": "white"
           },
           "yaxis": {
            "backgroundcolor": "#E5ECF6",
            "gridcolor": "white",
            "gridwidth": 2,
            "linecolor": "white",
            "showbackground": true,
            "ticks": "",
            "zerolinecolor": "white"
           },
           "zaxis": {
            "backgroundcolor": "#E5ECF6",
            "gridcolor": "white",
            "gridwidth": 2,
            "linecolor": "white",
            "showbackground": true,
            "ticks": "",
            "zerolinecolor": "white"
           }
          },
          "shapedefaults": {
           "line": {
            "color": "#2a3f5f"
           }
          },
          "ternary": {
           "aaxis": {
            "gridcolor": "white",
            "linecolor": "white",
            "ticks": ""
           },
           "baxis": {
            "gridcolor": "white",
            "linecolor": "white",
            "ticks": ""
           },
           "bgcolor": "#E5ECF6",
           "caxis": {
            "gridcolor": "white",
            "linecolor": "white",
            "ticks": ""
           }
          },
          "title": {
           "x": 0.05
          },
          "xaxis": {
           "automargin": true,
           "gridcolor": "white",
           "linecolor": "white",
           "ticks": "",
           "title": {
            "standoff": 15
           },
           "zerolinecolor": "white",
           "zerolinewidth": 2
          },
          "yaxis": {
           "automargin": true,
           "gridcolor": "white",
           "linecolor": "white",
           "ticks": "",
           "title": {
            "standoff": 15
           },
           "zerolinecolor": "white",
           "zerolinewidth": 2
          }
         }
        },
        "xaxis": {
         "anchor": "y",
         "domain": [
          0,
          1
         ],
         "title": {
          "text": "Date"
         }
        },
        "yaxis": {
         "anchor": "x",
         "domain": [
          0,
          1
         ],
         "title": {
          "text": "AvgTemperature"
         }
        }
       }
      },
      "text/html": [
       "<div>                            <div id=\"2fa2f039-2033-44b9-b73c-9c867cadc03c\" class=\"plotly-graph-div\" style=\"height:525px; width:100%;\"></div>            <script type=\"text/javascript\">                require([\"plotly\"], function(Plotly) {                    window.PLOTLYENV=window.PLOTLYENV || {};                                    if (document.getElementById(\"2fa2f039-2033-44b9-b73c-9c867cadc03c\")) {                    Plotly.newPlot(                        \"2fa2f039-2033-44b9-b73c-9c867cadc03c\",                        [{\"alignmentgroup\":\"True\",\"hovertemplate\":\"Month=1<br>Date=%{x}<br>AvgTemperature=%{y}<extra></extra>\",\"legendgroup\":\"1\",\"marker\":{\"color\":\"#636efa\",\"pattern\":{\"shape\":\"\"}},\"name\":\"1\",\"offsetgroup\":\"1\",\"orientation\":\"v\",\"showlegend\":true,\"textposition\":\"auto\",\"type\":\"bar\",\"x\":[\"1/1995\",\"1/1996\",\"1/1997\",\"1/1998\",\"1/1999\",\"1/2000\",\"1/2001\",\"1/2002\",\"1/2003\",\"1/2004\",\"1/2005\",\"1/2006\",\"1/2007\",\"1/2008\",\"1/2009\",\"1/2010\",\"1/2011\",\"1/2012\",\"1/2013\",\"1/2014\",\"1/2015\",\"1/2016\",\"1/2017\",\"1/2018\",\"1/2019\"],\"xaxis\":\"x\",\"y\":[38.78225806451613,36.10645161290322,38.167741935483875,37.972580645161294,39.14833333333333,30.020967741935483,40.3,30.638709677419353,42.58524590163934,34.94193548387097,39.49516129032258,32.30483870967742,39.251612903225805,29.343548387096774,39.03709677419355,38.975806451612904,38.55,33.28709677419355,39.42258064516129,41.28064516129032,37.82096774193548,36.5,32.29354838709678,40.998360655737706,38.88],\"yaxis\":\"y\"},{\"alignmentgroup\":\"True\",\"hovertemplate\":\"Month=2<br>Date=%{x}<br>AvgTemperature=%{y}<extra></extra>\",\"legendgroup\":\"2\",\"marker\":{\"color\":\"#EF553B\",\"pattern\":{\"shape\":\"\"}},\"name\":\"2\",\"offsetgroup\":\"2\",\"orientation\":\"v\",\"showlegend\":true,\"textposition\":\"auto\",\"type\":\"bar\",\"x\":[\"2/1995\",\"2/1996\",\"2/1997\",\"2/1998\",\"2/1999\",\"2/2000\",\"2/2001\",\"2/2002\",\"2/2003\",\"2/2004\",\"2/2005\",\"2/2006\",\"2/2007\",\"2/2008\",\"2/2009\",\"2/2010\",\"2/2011\",\"2/2012\",\"2/2013\",\"2/2014\",\"2/2015\",\"2/2016\",\"2/2017\",\"2/2018\",\"2/2019\"],\"xaxis\":\"x\",\"y\":[41.114285714285714,38.891379310344824,35.06071428571428,38.771428571428565,39.36607142857143,35.15,41.04821428571428,42.37678571428571,32.95178571428571,37.922413793103445,37.848214285714285,34.975,39.36785714285714,34.94827586206897,40.776785714285715,43.669642857142854,38.81428571428571,30.467241379310344,43.42142857142857,43.86666666666667,40.25892857142857,46.31206896551724,39.09464285714286,44.00714285714286,41.496428571428574],\"yaxis\":\"y\"},{\"alignmentgroup\":\"True\",\"hovertemplate\":\"Month=3<br>Date=%{x}<br>AvgTemperature=%{y}<extra></extra>\",\"legendgroup\":\"3\",\"marker\":{\"color\":\"#00cc96\",\"pattern\":{\"shape\":\"\"}},\"name\":\"3\",\"offsetgroup\":\"3\",\"orientation\":\"v\",\"showlegend\":true,\"textposition\":\"auto\",\"type\":\"bar\",\"x\":[\"3/1995\",\"3/1996\",\"3/1997\",\"3/1998\",\"3/1999\",\"3/2000\",\"3/2001\",\"3/2002\",\"3/2003\",\"3/2004\",\"3/2005\",\"3/2006\",\"3/2007\",\"3/2008\",\"3/2009\",\"3/2010\",\"3/2011\",\"3/2012\",\"3/2013\",\"3/2014\",\"3/2015\",\"3/2016\",\"3/2017\",\"3/2018\",\"3/2019\"],\"xaxis\":\"x\",\"y\":[44.432258064516134,38.67258064516129,38.66612903225807,39.21290322580645,44.35967741935484,41.40161290322581,51.60322580645161,46.653225806451616,38.20967741935484,44.524193548387096,42.46935483870968,44.79516129032258,45.20161290322581,49.50645161290323,42.96451612903226,45.650000000000006,42.440322580645166,39.900000000000006,46.9483870967742,47.75322580645161,45.4241935483871,47.885,46.86290322580645,49.43064516129032,46.13709677419355],\"yaxis\":\"y\"},{\"alignmentgroup\":\"True\",\"hovertemplate\":\"Month=4<br>Date=%{x}<br>AvgTemperature=%{y}<extra></extra>\",\"legendgroup\":\"4\",\"marker\":{\"color\":\"#ab63fa\",\"pattern\":{\"shape\":\"\"}},\"name\":\"4\",\"offsetgroup\":\"4\",\"orientation\":\"v\",\"showlegend\":true,\"textposition\":\"auto\",\"type\":\"bar\",\"x\":[\"4/1995\",\"4/1996\",\"4/1997\",\"4/1998\",\"4/1999\",\"4/2000\",\"4/2001\",\"4/2002\",\"4/2003\",\"4/2004\",\"4/2005\",\"4/2006\",\"4/2007\",\"4/2008\",\"4/2009\",\"4/2010\",\"4/2011\",\"4/2012\",\"4/2013\",\"4/2014\",\"4/2015\",\"4/2016\",\"4/2017\",\"4/2018\",\"4/2019\"],\"xaxis\":\"x\",\"y\":[49.89333333333333,47.358333333333334,45.458333333333336,54.61333333333334,53.55,55.25,53.876666666666665,50.434999999999995,48.440000000000005,51.65833333333333,52.035,53.623333333333335,49.05333333333333,55.858333333333334,51.01379310344828,53.14333333333333,48.434999999999995,56.169999999999995,54.656666666666666,55.17666666666666,49.46666666666667,57.80333333333333,52.184999999999995,57.41833333333333,51.550000000000004],\"yaxis\":\"y\"},{\"alignmentgroup\":\"True\",\"hovertemplate\":\"Month=5<br>Date=%{x}<br>AvgTemperature=%{y}<extra></extra>\",\"legendgroup\":\"5\",\"marker\":{\"color\":\"#FFA15A\",\"pattern\":{\"shape\":\"\"}},\"name\":\"5\",\"offsetgroup\":\"5\",\"orientation\":\"v\",\"showlegend\":true,\"textposition\":\"auto\",\"type\":\"bar\",\"x\":[\"5/1995\",\"5/1996\",\"5/1997\",\"5/1998\",\"5/1999\",\"5/2000\",\"5/2001\",\"5/2002\",\"5/2003\",\"5/2004\",\"5/2005\",\"5/2006\",\"5/2007\",\"5/2008\",\"5/2009\",\"5/2010\",\"5/2011\",\"5/2012\",\"5/2013\",\"5/2014\",\"5/2015\",\"5/2016\",\"5/2017\",\"5/2018\",\"5/2019\"],\"xaxis\":\"x\",\"y\":[60.84838709677419,62.93709677419355,60.69838709677419,60.12580645161291,60.653225806451616,59.45645161290323,58.86451612903225,60.89677419354839,63.37096774193548,59.18387096774194,60.248387096774195,60.66290322580645,65.74677419354839,60.346774193548384,60.733870967741936,62.998387096774195,58.61612903225806,61.803225806451614,65.43225806451612,61.849999999999994,62.900000000000006,60.80333333333333,60.57741935483871,64.30322580645162,63.38148148148148],\"yaxis\":\"y\"},{\"alignmentgroup\":\"True\",\"hovertemplate\":\"Month=6<br>Date=%{x}<br>AvgTemperature=%{y}<extra></extra>\",\"legendgroup\":\"6\",\"marker\":{\"color\":\"#19d3f3\",\"pattern\":{\"shape\":\"\"}},\"name\":\"6\",\"offsetgroup\":\"6\",\"orientation\":\"v\",\"showlegend\":true,\"textposition\":\"auto\",\"type\":\"bar\",\"x\":[\"6/1995\",\"6/1996\",\"6/1997\",\"6/1998\",\"6/1999\",\"6/2000\",\"6/2001\",\"6/2002\",\"6/2003\",\"6/2004\",\"6/2005\",\"6/2006\",\"6/2007\",\"6/2008\",\"6/2009\",\"6/2010\",\"6/2011\",\"6/2012\",\"6/2013\",\"6/2014\",\"6/2015\",\"6/2016\",\"6/2017\",\"6/2018\",\"6/2019\"],\"xaxis\":\"x\",\"y\":[70.265,67.105,67.725,68.91833333333334,68.40666666666667,67.19666666666667,68.88333333333334,70.01153846153846,71.015,66.96666666666667,66.41333333333334,69.90166666666667,72.90833333333333,70.68666666666667,70.61,69.66499999999999,67.44333333333333,73.01333333333334,70.91333333333334,68.36833333333334,67.20166666666667,71.64,69.56,71.31,72.70833333333333],\"yaxis\":\"y\"},{\"alignmentgroup\":\"True\",\"hovertemplate\":\"Month=7<br>Date=%{x}<br>AvgTemperature=%{y}<extra></extra>\",\"legendgroup\":\"7\",\"marker\":{\"color\":\"#FF6692\",\"pattern\":{\"shape\":\"\"}},\"name\":\"7\",\"offsetgroup\":\"7\",\"orientation\":\"v\",\"showlegend\":true,\"textposition\":\"auto\",\"type\":\"bar\",\"x\":[\"7/1995\",\"7/1996\",\"7/1997\",\"7/1998\",\"7/1999\",\"7/2000\",\"7/2001\",\"7/2002\",\"7/2003\",\"7/2004\",\"7/2005\",\"7/2006\",\"7/2007\",\"7/2008\",\"7/2009\",\"7/2010\",\"7/2011\",\"7/2012\",\"7/2013\",\"7/2014\",\"7/2015\",\"7/2016\",\"7/2017\",\"7/2018\",\"7/2019\"],\"xaxis\":\"x\",\"y\":[71.4,74.5241935483871,72.05322580645162,74.7290322580645,75.4483870967742,76.68709677419355,77.61451612903227,76.94354838709677,74.08870967741936,72.95645161290322,75.04838709677419,73.23387096774194,77.8258064516129,75.09032258064516,74.76774193548388,76.15322580645162,76.5241935483871,78.48064516129033,74.41774193548386,76.29354838709678,75.5,76.3741935483871,76.34516129032258,76.5741935483871,73.59677419354838],\"yaxis\":\"y\"},{\"alignmentgroup\":\"True\",\"hovertemplate\":\"Month=8<br>Date=%{x}<br>AvgTemperature=%{y}<extra></extra>\",\"legendgroup\":\"8\",\"marker\":{\"color\":\"#B6E880\",\"pattern\":{\"shape\":\"\"}},\"name\":\"8\",\"offsetgroup\":\"8\",\"orientation\":\"v\",\"showlegend\":true,\"textposition\":\"auto\",\"type\":\"bar\",\"x\":[\"8/1995\",\"8/1996\",\"8/1997\",\"8/1998\",\"8/1999\",\"8/2000\",\"8/2001\",\"8/2002\",\"8/2003\",\"8/2004\",\"8/2005\",\"8/2006\",\"8/2007\",\"8/2008\",\"8/2009\",\"8/2010\",\"8/2011\",\"8/2012\",\"8/2013\",\"8/2014\",\"8/2015\",\"8/2016\",\"8/2017\",\"8/2018\",\"8/2019\"],\"xaxis\":\"x\",\"y\":[73.29354838709678,73.19999999999999,69.48064516129033,75.82903225806452,74.74354838709678,73.38870967741936,76.15,72.65483870967742,75.85645161290323,72.61774193548388,76.47419354838709,79.18870967741935,78.17833333333333,77.6,73.44354838709677,80.3241935483871,73.58064516129032,75.10967741935484,76.09516129032258,77.62903225806451,76.8967741935484,77.20645161290322,76.20645161290322,77.80322580645162,75.33709677419354],\"yaxis\":\"y\"},{\"alignmentgroup\":\"True\",\"hovertemplate\":\"Month=9<br>Date=%{x}<br>AvgTemperature=%{y}<extra></extra>\",\"legendgroup\":\"9\",\"marker\":{\"color\":\"#FF97FF\",\"pattern\":{\"shape\":\"\"}},\"name\":\"9\",\"offsetgroup\":\"9\",\"orientation\":\"v\",\"showlegend\":true,\"textposition\":\"auto\",\"type\":\"bar\",\"x\":[\"9/1995\",\"9/1996\",\"9/1997\",\"9/1998\",\"9/1999\",\"9/2000\",\"9/2001\",\"9/2002\",\"9/2003\",\"9/2004\",\"9/2005\",\"9/2006\",\"9/2007\",\"9/2008\",\"9/2009\",\"9/2010\",\"9/2011\",\"9/2012\",\"9/2013\",\"9/2014\",\"9/2015\",\"9/2016\",\"9/2017\",\"9/2018\",\"9/2019\"],\"xaxis\":\"x\",\"y\":[66.33166666666666,63.515,60.855000000000004,66.10333333333332,66.32333333333334,65.99833333333333,69.16333333333334,66.18333333333334,64.91666666666667,66.66666666666667,66.58666666666666,66.09666666666666,68.09166666666667,67.71551724137932,65.57333333333334,70.03,69.01833333333335,70.24833333333332,66.49833333333333,67.90666666666667,72.84166666666667,68.37241379310345,71.72666666666667,69.02666666666667,68.37666666666668],\"yaxis\":\"y\"},{\"alignmentgroup\":\"True\",\"hovertemplate\":\"Month=10<br>Date=%{x}<br>AvgTemperature=%{y}<extra></extra>\",\"legendgroup\":\"10\",\"marker\":{\"color\":\"#FECB52\",\"pattern\":{\"shape\":\"\"}},\"name\":\"10\",\"offsetgroup\":\"10\",\"orientation\":\"v\",\"showlegend\":true,\"textposition\":\"auto\",\"type\":\"bar\",\"x\":[\"10/1995\",\"10/1996\",\"10/1997\",\"10/1998\",\"10/1999\",\"10/2000\",\"10/2001\",\"10/2002\",\"10/2003\",\"10/2004\",\"10/2005\",\"10/2006\",\"10/2007\",\"10/2008\",\"10/2009\",\"10/2010\",\"10/2011\",\"10/2012\",\"10/2013\",\"10/2014\",\"10/2015\",\"10/2016\",\"10/2017\",\"10/2018\",\"10/2019\"],\"xaxis\":\"x\",\"y\":[53.94516129032258,54.08870967741935,55.75,58.737096774193546,58.150000000000006,55.57096774193548,58.25806451612903,57.78387096774193,58.46935483870968,58.829032258064515,54.38870967741936,58.774193548387096,59.54032258064516,57.86774193548386,61.37903225806452,55.58387096774193,53.943548387096776,63.05483870967742,54.45645161290323,58.15161290322581,59.440322580645166,57.961290322580645,56.579032258064515,60.182258064516134,61.43387096774194],\"yaxis\":\"y\"},{\"alignmentgroup\":\"True\",\"hovertemplate\":\"Month=11<br>Date=%{x}<br>AvgTemperature=%{y}<extra></extra>\",\"legendgroup\":\"11\",\"marker\":{\"color\":\"#636efa\",\"pattern\":{\"shape\":\"\"}},\"name\":\"11\",\"offsetgroup\":\"11\",\"orientation\":\"v\",\"showlegend\":true,\"textposition\":\"auto\",\"type\":\"bar\",\"x\":[\"11/1995\",\"11/1996\",\"11/1997\",\"11/1998\",\"11/1999\",\"11/2000\",\"11/2001\",\"11/2002\",\"11/2003\",\"11/2004\",\"11/2005\",\"11/2006\",\"11/2007\",\"11/2008\",\"11/2009\",\"11/2010\",\"11/2011\",\"11/2012\",\"11/2013\",\"11/2014\",\"11/2015\",\"11/2016\",\"11/2017\",\"11/2018\",\"11/2019\"],\"xaxis\":\"x\",\"y\":[41.443333333333335,47.50833333333333,47.11,48.54333333333333,46.74166666666667,49.88,46.57666666666667,49.291666666666664,47.269999999999996,47.358333333333334,45.335,44.89333333333333,46.63333333333333,50.07666666666667,48.18666666666666,53.86,41.39833333333333,51.88,50.10333333333333,48.598333333333336,51.17166666666667,47.001724137931035,48.47833333333333,51.56111111111112,53.44833333333334],\"yaxis\":\"y\"},{\"alignmentgroup\":\"True\",\"hovertemplate\":\"Month=12<br>Date=%{x}<br>AvgTemperature=%{y}<extra></extra>\",\"legendgroup\":\"12\",\"marker\":{\"color\":\"#EF553B\",\"pattern\":{\"shape\":\"\"}},\"name\":\"12\",\"offsetgroup\":\"12\",\"orientation\":\"v\",\"showlegend\":true,\"textposition\":\"auto\",\"type\":\"bar\",\"x\":[\"12/1995\",\"12/1996\",\"12/1997\",\"12/1998\",\"12/1999\",\"12/2000\",\"12/2001\",\"12/2002\",\"12/2003\",\"12/2004\",\"12/2005\",\"12/2006\",\"12/2007\",\"12/2008\",\"12/2009\",\"12/2010\",\"12/2011\",\"12/2012\",\"12/2013\",\"12/2014\",\"12/2015\",\"12/2016\",\"12/2017\",\"12/2018\",\"12/2019\"],\"xaxis\":\"x\",\"y\":[40.024193548387096,45.13548387096775,41.29354838709677,41.16851851851852,43.55806451612903,40.63870967741936,37.34032258064516,35.69193548387097,39.21451612903226,40.119354838709675,40.314516129032256,37.940322580645166,38.62903225806452,40.34032258064516,44.46935483870968,44.54032258064516,41.14032258064516,41.42903225806452,35.99032258064516,44.972580645161294,39.205000000000005,35.248387096774195,44.4241935483871,40.61451612903225,43.093548387096774],\"yaxis\":\"y\"}],                        {\"barmode\":\"relative\",\"legend\":{\"title\":{\"text\":\"Month\"},\"tracegroupgap\":0},\"margin\":{\"t\":60},\"template\":{\"data\":{\"bar\":[{\"error_x\":{\"color\":\"#2a3f5f\"},\"error_y\":{\"color\":\"#2a3f5f\"},\"marker\":{\"line\":{\"color\":\"#E5ECF6\",\"width\":0.5},\"pattern\":{\"fillmode\":\"overlay\",\"size\":10,\"solidity\":0.2}},\"type\":\"bar\"}],\"barpolar\":[{\"marker\":{\"line\":{\"color\":\"#E5ECF6\",\"width\":0.5},\"pattern\":{\"fillmode\":\"overlay\",\"size\":10,\"solidity\":0.2}},\"type\":\"barpolar\"}],\"carpet\":[{\"aaxis\":{\"endlinecolor\":\"#2a3f5f\",\"gridcolor\":\"white\",\"linecolor\":\"white\",\"minorgridcolor\":\"white\",\"startlinecolor\":\"#2a3f5f\"},\"baxis\":{\"endlinecolor\":\"#2a3f5f\",\"gridcolor\":\"white\",\"linecolor\":\"white\",\"minorgridcolor\":\"white\",\"startlinecolor\":\"#2a3f5f\"},\"type\":\"carpet\"}],\"choropleth\":[{\"colorbar\":{\"outlinewidth\":0,\"ticks\":\"\"},\"type\":\"choropleth\"}],\"contour\":[{\"colorbar\":{\"outlinewidth\":0,\"ticks\":\"\"},\"colorscale\":[[0.0,\"#0d0887\"],[0.1111111111111111,\"#46039f\"],[0.2222222222222222,\"#7201a8\"],[0.3333333333333333,\"#9c179e\"],[0.4444444444444444,\"#bd3786\"],[0.5555555555555556,\"#d8576b\"],[0.6666666666666666,\"#ed7953\"],[0.7777777777777778,\"#fb9f3a\"],[0.8888888888888888,\"#fdca26\"],[1.0,\"#f0f921\"]],\"type\":\"contour\"}],\"contourcarpet\":[{\"colorbar\":{\"outlinewidth\":0,\"ticks\":\"\"},\"type\":\"contourcarpet\"}],\"heatmap\":[{\"colorbar\":{\"outlinewidth\":0,\"ticks\":\"\"},\"colorscale\":[[0.0,\"#0d0887\"],[0.1111111111111111,\"#46039f\"],[0.2222222222222222,\"#7201a8\"],[0.3333333333333333,\"#9c179e\"],[0.4444444444444444,\"#bd3786\"],[0.5555555555555556,\"#d8576b\"],[0.6666666666666666,\"#ed7953\"],[0.7777777777777778,\"#fb9f3a\"],[0.8888888888888888,\"#fdca26\"],[1.0,\"#f0f921\"]],\"type\":\"heatmap\"}],\"heatmapgl\":[{\"colorbar\":{\"outlinewidth\":0,\"ticks\":\"\"},\"colorscale\":[[0.0,\"#0d0887\"],[0.1111111111111111,\"#46039f\"],[0.2222222222222222,\"#7201a8\"],[0.3333333333333333,\"#9c179e\"],[0.4444444444444444,\"#bd3786\"],[0.5555555555555556,\"#d8576b\"],[0.6666666666666666,\"#ed7953\"],[0.7777777777777778,\"#fb9f3a\"],[0.8888888888888888,\"#fdca26\"],[1.0,\"#f0f921\"]],\"type\":\"heatmapgl\"}],\"histogram\":[{\"marker\":{\"pattern\":{\"fillmode\":\"overlay\",\"size\":10,\"solidity\":0.2}},\"type\":\"histogram\"}],\"histogram2d\":[{\"colorbar\":{\"outlinewidth\":0,\"ticks\":\"\"},\"colorscale\":[[0.0,\"#0d0887\"],[0.1111111111111111,\"#46039f\"],[0.2222222222222222,\"#7201a8\"],[0.3333333333333333,\"#9c179e\"],[0.4444444444444444,\"#bd3786\"],[0.5555555555555556,\"#d8576b\"],[0.6666666666666666,\"#ed7953\"],[0.7777777777777778,\"#fb9f3a\"],[0.8888888888888888,\"#fdca26\"],[1.0,\"#f0f921\"]],\"type\":\"histogram2d\"}],\"histogram2dcontour\":[{\"colorbar\":{\"outlinewidth\":0,\"ticks\":\"\"},\"colorscale\":[[0.0,\"#0d0887\"],[0.1111111111111111,\"#46039f\"],[0.2222222222222222,\"#7201a8\"],[0.3333333333333333,\"#9c179e\"],[0.4444444444444444,\"#bd3786\"],[0.5555555555555556,\"#d8576b\"],[0.6666666666666666,\"#ed7953\"],[0.7777777777777778,\"#fb9f3a\"],[0.8888888888888888,\"#fdca26\"],[1.0,\"#f0f921\"]],\"type\":\"histogram2dcontour\"}],\"mesh3d\":[{\"colorbar\":{\"outlinewidth\":0,\"ticks\":\"\"},\"type\":\"mesh3d\"}],\"parcoords\":[{\"line\":{\"colorbar\":{\"outlinewidth\":0,\"ticks\":\"\"}},\"type\":\"parcoords\"}],\"pie\":[{\"automargin\":true,\"type\":\"pie\"}],\"scatter\":[{\"marker\":{\"colorbar\":{\"outlinewidth\":0,\"ticks\":\"\"}},\"type\":\"scatter\"}],\"scatter3d\":[{\"line\":{\"colorbar\":{\"outlinewidth\":0,\"ticks\":\"\"}},\"marker\":{\"colorbar\":{\"outlinewidth\":0,\"ticks\":\"\"}},\"type\":\"scatter3d\"}],\"scattercarpet\":[{\"marker\":{\"colorbar\":{\"outlinewidth\":0,\"ticks\":\"\"}},\"type\":\"scattercarpet\"}],\"scattergeo\":[{\"marker\":{\"colorbar\":{\"outlinewidth\":0,\"ticks\":\"\"}},\"type\":\"scattergeo\"}],\"scattergl\":[{\"marker\":{\"colorbar\":{\"outlinewidth\":0,\"ticks\":\"\"}},\"type\":\"scattergl\"}],\"scattermapbox\":[{\"marker\":{\"colorbar\":{\"outlinewidth\":0,\"ticks\":\"\"}},\"type\":\"scattermapbox\"}],\"scatterpolar\":[{\"marker\":{\"colorbar\":{\"outlinewidth\":0,\"ticks\":\"\"}},\"type\":\"scatterpolar\"}],\"scatterpolargl\":[{\"marker\":{\"colorbar\":{\"outlinewidth\":0,\"ticks\":\"\"}},\"type\":\"scatterpolargl\"}],\"scatterternary\":[{\"marker\":{\"colorbar\":{\"outlinewidth\":0,\"ticks\":\"\"}},\"type\":\"scatterternary\"}],\"surface\":[{\"colorbar\":{\"outlinewidth\":0,\"ticks\":\"\"},\"colorscale\":[[0.0,\"#0d0887\"],[0.1111111111111111,\"#46039f\"],[0.2222222222222222,\"#7201a8\"],[0.3333333333333333,\"#9c179e\"],[0.4444444444444444,\"#bd3786\"],[0.5555555555555556,\"#d8576b\"],[0.6666666666666666,\"#ed7953\"],[0.7777777777777778,\"#fb9f3a\"],[0.8888888888888888,\"#fdca26\"],[1.0,\"#f0f921\"]],\"type\":\"surface\"}],\"table\":[{\"cells\":{\"fill\":{\"color\":\"#EBF0F8\"},\"line\":{\"color\":\"white\"}},\"header\":{\"fill\":{\"color\":\"#C8D4E3\"},\"line\":{\"color\":\"white\"}},\"type\":\"table\"}]},\"layout\":{\"annotationdefaults\":{\"arrowcolor\":\"#2a3f5f\",\"arrowhead\":0,\"arrowwidth\":1},\"autotypenumbers\":\"strict\",\"coloraxis\":{\"colorbar\":{\"outlinewidth\":0,\"ticks\":\"\"}},\"colorscale\":{\"diverging\":[[0,\"#8e0152\"],[0.1,\"#c51b7d\"],[0.2,\"#de77ae\"],[0.3,\"#f1b6da\"],[0.4,\"#fde0ef\"],[0.5,\"#f7f7f7\"],[0.6,\"#e6f5d0\"],[0.7,\"#b8e186\"],[0.8,\"#7fbc41\"],[0.9,\"#4d9221\"],[1,\"#276419\"]],\"sequential\":[[0.0,\"#0d0887\"],[0.1111111111111111,\"#46039f\"],[0.2222222222222222,\"#7201a8\"],[0.3333333333333333,\"#9c179e\"],[0.4444444444444444,\"#bd3786\"],[0.5555555555555556,\"#d8576b\"],[0.6666666666666666,\"#ed7953\"],[0.7777777777777778,\"#fb9f3a\"],[0.8888888888888888,\"#fdca26\"],[1.0,\"#f0f921\"]],\"sequentialminus\":[[0.0,\"#0d0887\"],[0.1111111111111111,\"#46039f\"],[0.2222222222222222,\"#7201a8\"],[0.3333333333333333,\"#9c179e\"],[0.4444444444444444,\"#bd3786\"],[0.5555555555555556,\"#d8576b\"],[0.6666666666666666,\"#ed7953\"],[0.7777777777777778,\"#fb9f3a\"],[0.8888888888888888,\"#fdca26\"],[1.0,\"#f0f921\"]]},\"colorway\":[\"#636efa\",\"#EF553B\",\"#00cc96\",\"#ab63fa\",\"#FFA15A\",\"#19d3f3\",\"#FF6692\",\"#B6E880\",\"#FF97FF\",\"#FECB52\"],\"font\":{\"color\":\"#2a3f5f\"},\"geo\":{\"bgcolor\":\"white\",\"lakecolor\":\"white\",\"landcolor\":\"#E5ECF6\",\"showlakes\":true,\"showland\":true,\"subunitcolor\":\"white\"},\"hoverlabel\":{\"align\":\"left\"},\"hovermode\":\"closest\",\"mapbox\":{\"style\":\"light\"},\"paper_bgcolor\":\"white\",\"plot_bgcolor\":\"#E5ECF6\",\"polar\":{\"angularaxis\":{\"gridcolor\":\"white\",\"linecolor\":\"white\",\"ticks\":\"\"},\"bgcolor\":\"#E5ECF6\",\"radialaxis\":{\"gridcolor\":\"white\",\"linecolor\":\"white\",\"ticks\":\"\"}},\"scene\":{\"xaxis\":{\"backgroundcolor\":\"#E5ECF6\",\"gridcolor\":\"white\",\"gridwidth\":2,\"linecolor\":\"white\",\"showbackground\":true,\"ticks\":\"\",\"zerolinecolor\":\"white\"},\"yaxis\":{\"backgroundcolor\":\"#E5ECF6\",\"gridcolor\":\"white\",\"gridwidth\":2,\"linecolor\":\"white\",\"showbackground\":true,\"ticks\":\"\",\"zerolinecolor\":\"white\"},\"zaxis\":{\"backgroundcolor\":\"#E5ECF6\",\"gridcolor\":\"white\",\"gridwidth\":2,\"linecolor\":\"white\",\"showbackground\":true,\"ticks\":\"\",\"zerolinecolor\":\"white\"}},\"shapedefaults\":{\"line\":{\"color\":\"#2a3f5f\"}},\"ternary\":{\"aaxis\":{\"gridcolor\":\"white\",\"linecolor\":\"white\",\"ticks\":\"\"},\"baxis\":{\"gridcolor\":\"white\",\"linecolor\":\"white\",\"ticks\":\"\"},\"bgcolor\":\"#E5ECF6\",\"caxis\":{\"gridcolor\":\"white\",\"linecolor\":\"white\",\"ticks\":\"\"}},\"title\":{\"x\":0.05},\"xaxis\":{\"automargin\":true,\"gridcolor\":\"white\",\"linecolor\":\"white\",\"ticks\":\"\",\"title\":{\"standoff\":15},\"zerolinecolor\":\"white\",\"zerolinewidth\":2},\"yaxis\":{\"automargin\":true,\"gridcolor\":\"white\",\"linecolor\":\"white\",\"ticks\":\"\",\"title\":{\"standoff\":15},\"zerolinecolor\":\"white\",\"zerolinewidth\":2}}},\"xaxis\":{\"anchor\":\"y\",\"domain\":[0.0,1.0],\"title\":{\"text\":\"Date\"}},\"yaxis\":{\"anchor\":\"x\",\"domain\":[0.0,1.0],\"title\":{\"text\":\"AvgTemperature\"}}},                        {\"responsive\": true}                    ).then(function(){\n",
       "                            \n",
       "var gd = document.getElementById('2fa2f039-2033-44b9-b73c-9c867cadc03c');\n",
       "var x = new MutationObserver(function (mutations, observer) {{\n",
       "        var display = window.getComputedStyle(gd).display;\n",
       "        if (!display || display === 'none') {{\n",
       "            console.log([gd, 'removed!']);\n",
       "            Plotly.purge(gd);\n",
       "            observer.disconnect();\n",
       "        }}\n",
       "}});\n",
       "\n",
       "// Listen for the removal of the full notebook cells\n",
       "var notebookContainer = gd.closest('#notebook-container');\n",
       "if (notebookContainer) {{\n",
       "    x.observe(notebookContainer, {childList: true});\n",
       "}}\n",
       "\n",
       "// Listen for the clearing of the current output cell\n",
       "var outputEl = gd.closest('.output');\n",
       "if (outputEl) {{\n",
       "    x.observe(outputEl, {childList: true});\n",
       "}}\n",
       "\n",
       "                        })                };                });            </script>        </div>"
      ]
     },
     "metadata": {},
     "output_type": "display_data"
    }
   ],
   "source": [
    "fig = px.bar(Turkey, x = 'Date', y = 'AvgTemperature', color = 'Month')\n",
    "fig.show()"
   ]
  },
  {
   "cell_type": "markdown",
   "id": "c7ecce83",
   "metadata": {},
   "source": [
    "The seasonal temperatures can be observed more easily here. The average monthly temperature raised from 71.4 to 75.3 over the whole course.  "
   ]
  },
  {
   "cell_type": "markdown",
   "id": "ff34446a",
   "metadata": {},
   "source": [
    "Determine the outliers and the range the average temperature falls for each month with boxplot"
   ]
  },
  {
   "cell_type": "code",
   "execution_count": 235,
   "id": "078e8545",
   "metadata": {},
   "outputs": [
    {
     "data": {
      "application/vnd.plotly.v1+json": {
       "config": {
        "plotlyServerURL": "https://plot.ly"
       },
       "data": [
        {
         "alignmentgroup": "True",
         "hovertemplate": "Month=%{x}<br>AvgTemperature=%{y}<extra></extra>",
         "legendgroup": "1",
         "marker": {
          "color": "#636efa"
         },
         "name": "1",
         "notched": false,
         "offsetgroup": "1",
         "orientation": "v",
         "showlegend": true,
         "type": "box",
         "x": [
          "1",
          "1",
          "1",
          "1",
          "1",
          "1",
          "1",
          "1",
          "1",
          "1",
          "1",
          "1",
          "1",
          "1",
          "1",
          "1",
          "1",
          "1",
          "1",
          "1",
          "1",
          "1",
          "1",
          "1",
          "1"
         ],
         "x0": " ",
         "xaxis": "x",
         "y": [
          38.78225806451613,
          36.10645161290322,
          38.167741935483875,
          37.972580645161294,
          39.14833333333333,
          30.020967741935483,
          40.3,
          30.638709677419353,
          42.58524590163934,
          34.94193548387097,
          39.49516129032258,
          32.30483870967742,
          39.251612903225805,
          29.343548387096774,
          39.03709677419355,
          38.975806451612904,
          38.55,
          33.28709677419355,
          39.42258064516129,
          41.28064516129032,
          37.82096774193548,
          36.5,
          32.29354838709678,
          40.998360655737706,
          38.88
         ],
         "y0": " ",
         "yaxis": "y"
        },
        {
         "alignmentgroup": "True",
         "hovertemplate": "Month=%{x}<br>AvgTemperature=%{y}<extra></extra>",
         "legendgroup": "2",
         "marker": {
          "color": "#EF553B"
         },
         "name": "2",
         "notched": false,
         "offsetgroup": "2",
         "orientation": "v",
         "showlegend": true,
         "type": "box",
         "x": [
          "2",
          "2",
          "2",
          "2",
          "2",
          "2",
          "2",
          "2",
          "2",
          "2",
          "2",
          "2",
          "2",
          "2",
          "2",
          "2",
          "2",
          "2",
          "2",
          "2",
          "2",
          "2",
          "2",
          "2",
          "2"
         ],
         "x0": " ",
         "xaxis": "x",
         "y": [
          41.114285714285714,
          38.891379310344824,
          35.06071428571428,
          38.771428571428565,
          39.36607142857143,
          35.15,
          41.04821428571428,
          42.37678571428571,
          32.95178571428571,
          37.922413793103445,
          37.848214285714285,
          34.975,
          39.36785714285714,
          34.94827586206897,
          40.776785714285715,
          43.669642857142854,
          38.81428571428571,
          30.467241379310344,
          43.42142857142857,
          43.86666666666667,
          40.25892857142857,
          46.31206896551724,
          39.09464285714286,
          44.00714285714286,
          41.496428571428574
         ],
         "y0": " ",
         "yaxis": "y"
        },
        {
         "alignmentgroup": "True",
         "hovertemplate": "Month=%{x}<br>AvgTemperature=%{y}<extra></extra>",
         "legendgroup": "3",
         "marker": {
          "color": "#00cc96"
         },
         "name": "3",
         "notched": false,
         "offsetgroup": "3",
         "orientation": "v",
         "showlegend": true,
         "type": "box",
         "x": [
          "3",
          "3",
          "3",
          "3",
          "3",
          "3",
          "3",
          "3",
          "3",
          "3",
          "3",
          "3",
          "3",
          "3",
          "3",
          "3",
          "3",
          "3",
          "3",
          "3",
          "3",
          "3",
          "3",
          "3",
          "3"
         ],
         "x0": " ",
         "xaxis": "x",
         "y": [
          44.432258064516134,
          38.67258064516129,
          38.66612903225807,
          39.21290322580645,
          44.35967741935484,
          41.40161290322581,
          51.60322580645161,
          46.653225806451616,
          38.20967741935484,
          44.524193548387096,
          42.46935483870968,
          44.79516129032258,
          45.20161290322581,
          49.50645161290323,
          42.96451612903226,
          45.650000000000006,
          42.440322580645166,
          39.900000000000006,
          46.9483870967742,
          47.75322580645161,
          45.4241935483871,
          47.885,
          46.86290322580645,
          49.43064516129032,
          46.13709677419355
         ],
         "y0": " ",
         "yaxis": "y"
        },
        {
         "alignmentgroup": "True",
         "hovertemplate": "Month=%{x}<br>AvgTemperature=%{y}<extra></extra>",
         "legendgroup": "4",
         "marker": {
          "color": "#ab63fa"
         },
         "name": "4",
         "notched": false,
         "offsetgroup": "4",
         "orientation": "v",
         "showlegend": true,
         "type": "box",
         "x": [
          "4",
          "4",
          "4",
          "4",
          "4",
          "4",
          "4",
          "4",
          "4",
          "4",
          "4",
          "4",
          "4",
          "4",
          "4",
          "4",
          "4",
          "4",
          "4",
          "4",
          "4",
          "4",
          "4",
          "4",
          "4"
         ],
         "x0": " ",
         "xaxis": "x",
         "y": [
          49.89333333333333,
          47.358333333333334,
          45.458333333333336,
          54.61333333333334,
          53.55,
          55.25,
          53.876666666666665,
          50.434999999999995,
          48.440000000000005,
          51.65833333333333,
          52.035,
          53.623333333333335,
          49.05333333333333,
          55.858333333333334,
          51.01379310344828,
          53.14333333333333,
          48.434999999999995,
          56.169999999999995,
          54.656666666666666,
          55.17666666666666,
          49.46666666666667,
          57.80333333333333,
          52.184999999999995,
          57.41833333333333,
          51.550000000000004
         ],
         "y0": " ",
         "yaxis": "y"
        },
        {
         "alignmentgroup": "True",
         "hovertemplate": "Month=%{x}<br>AvgTemperature=%{y}<extra></extra>",
         "legendgroup": "5",
         "marker": {
          "color": "#FFA15A"
         },
         "name": "5",
         "notched": false,
         "offsetgroup": "5",
         "orientation": "v",
         "showlegend": true,
         "type": "box",
         "x": [
          "5",
          "5",
          "5",
          "5",
          "5",
          "5",
          "5",
          "5",
          "5",
          "5",
          "5",
          "5",
          "5",
          "5",
          "5",
          "5",
          "5",
          "5",
          "5",
          "5",
          "5",
          "5",
          "5",
          "5",
          "5"
         ],
         "x0": " ",
         "xaxis": "x",
         "y": [
          60.84838709677419,
          62.93709677419355,
          60.69838709677419,
          60.12580645161291,
          60.653225806451616,
          59.45645161290323,
          58.86451612903225,
          60.89677419354839,
          63.37096774193548,
          59.18387096774194,
          60.248387096774195,
          60.66290322580645,
          65.74677419354839,
          60.346774193548384,
          60.733870967741936,
          62.998387096774195,
          58.61612903225806,
          61.803225806451614,
          65.43225806451612,
          61.849999999999994,
          62.900000000000006,
          60.80333333333333,
          60.57741935483871,
          64.30322580645162,
          63.38148148148148
         ],
         "y0": " ",
         "yaxis": "y"
        },
        {
         "alignmentgroup": "True",
         "hovertemplate": "Month=%{x}<br>AvgTemperature=%{y}<extra></extra>",
         "legendgroup": "6",
         "marker": {
          "color": "#19d3f3"
         },
         "name": "6",
         "notched": false,
         "offsetgroup": "6",
         "orientation": "v",
         "showlegend": true,
         "type": "box",
         "x": [
          "6",
          "6",
          "6",
          "6",
          "6",
          "6",
          "6",
          "6",
          "6",
          "6",
          "6",
          "6",
          "6",
          "6",
          "6",
          "6",
          "6",
          "6",
          "6",
          "6",
          "6",
          "6",
          "6",
          "6",
          "6"
         ],
         "x0": " ",
         "xaxis": "x",
         "y": [
          70.265,
          67.105,
          67.725,
          68.91833333333334,
          68.40666666666667,
          67.19666666666667,
          68.88333333333334,
          70.01153846153846,
          71.015,
          66.96666666666667,
          66.41333333333334,
          69.90166666666667,
          72.90833333333333,
          70.68666666666667,
          70.61,
          69.66499999999999,
          67.44333333333333,
          73.01333333333334,
          70.91333333333334,
          68.36833333333334,
          67.20166666666667,
          71.64,
          69.56,
          71.31,
          72.70833333333333
         ],
         "y0": " ",
         "yaxis": "y"
        },
        {
         "alignmentgroup": "True",
         "hovertemplate": "Month=%{x}<br>AvgTemperature=%{y}<extra></extra>",
         "legendgroup": "7",
         "marker": {
          "color": "#FF6692"
         },
         "name": "7",
         "notched": false,
         "offsetgroup": "7",
         "orientation": "v",
         "showlegend": true,
         "type": "box",
         "x": [
          "7",
          "7",
          "7",
          "7",
          "7",
          "7",
          "7",
          "7",
          "7",
          "7",
          "7",
          "7",
          "7",
          "7",
          "7",
          "7",
          "7",
          "7",
          "7",
          "7",
          "7",
          "7",
          "7",
          "7",
          "7"
         ],
         "x0": " ",
         "xaxis": "x",
         "y": [
          71.4,
          74.5241935483871,
          72.05322580645162,
          74.7290322580645,
          75.4483870967742,
          76.68709677419355,
          77.61451612903227,
          76.94354838709677,
          74.08870967741936,
          72.95645161290322,
          75.04838709677419,
          73.23387096774194,
          77.8258064516129,
          75.09032258064516,
          74.76774193548388,
          76.15322580645162,
          76.5241935483871,
          78.48064516129033,
          74.41774193548386,
          76.29354838709678,
          75.5,
          76.3741935483871,
          76.34516129032258,
          76.5741935483871,
          73.59677419354838
         ],
         "y0": " ",
         "yaxis": "y"
        },
        {
         "alignmentgroup": "True",
         "hovertemplate": "Month=%{x}<br>AvgTemperature=%{y}<extra></extra>",
         "legendgroup": "8",
         "marker": {
          "color": "#B6E880"
         },
         "name": "8",
         "notched": false,
         "offsetgroup": "8",
         "orientation": "v",
         "showlegend": true,
         "type": "box",
         "x": [
          "8",
          "8",
          "8",
          "8",
          "8",
          "8",
          "8",
          "8",
          "8",
          "8",
          "8",
          "8",
          "8",
          "8",
          "8",
          "8",
          "8",
          "8",
          "8",
          "8",
          "8",
          "8",
          "8",
          "8",
          "8"
         ],
         "x0": " ",
         "xaxis": "x",
         "y": [
          73.29354838709678,
          73.19999999999999,
          69.48064516129033,
          75.82903225806452,
          74.74354838709678,
          73.38870967741936,
          76.15,
          72.65483870967742,
          75.85645161290323,
          72.61774193548388,
          76.47419354838709,
          79.18870967741935,
          78.17833333333333,
          77.6,
          73.44354838709677,
          80.3241935483871,
          73.58064516129032,
          75.10967741935484,
          76.09516129032258,
          77.62903225806451,
          76.8967741935484,
          77.20645161290322,
          76.20645161290322,
          77.80322580645162,
          75.33709677419354
         ],
         "y0": " ",
         "yaxis": "y"
        },
        {
         "alignmentgroup": "True",
         "hovertemplate": "Month=%{x}<br>AvgTemperature=%{y}<extra></extra>",
         "legendgroup": "9",
         "marker": {
          "color": "#FF97FF"
         },
         "name": "9",
         "notched": false,
         "offsetgroup": "9",
         "orientation": "v",
         "showlegend": true,
         "type": "box",
         "x": [
          "9",
          "9",
          "9",
          "9",
          "9",
          "9",
          "9",
          "9",
          "9",
          "9",
          "9",
          "9",
          "9",
          "9",
          "9",
          "9",
          "9",
          "9",
          "9",
          "9",
          "9",
          "9",
          "9",
          "9",
          "9"
         ],
         "x0": " ",
         "xaxis": "x",
         "y": [
          66.33166666666666,
          63.515,
          60.855000000000004,
          66.10333333333332,
          66.32333333333334,
          65.99833333333333,
          69.16333333333334,
          66.18333333333334,
          64.91666666666667,
          66.66666666666667,
          66.58666666666666,
          66.09666666666666,
          68.09166666666667,
          67.71551724137932,
          65.57333333333334,
          70.03,
          69.01833333333335,
          70.24833333333332,
          66.49833333333333,
          67.90666666666667,
          72.84166666666667,
          68.37241379310345,
          71.72666666666667,
          69.02666666666667,
          68.37666666666668
         ],
         "y0": " ",
         "yaxis": "y"
        },
        {
         "alignmentgroup": "True",
         "hovertemplate": "Month=%{x}<br>AvgTemperature=%{y}<extra></extra>",
         "legendgroup": "10",
         "marker": {
          "color": "#FECB52"
         },
         "name": "10",
         "notched": false,
         "offsetgroup": "10",
         "orientation": "v",
         "showlegend": true,
         "type": "box",
         "x": [
          "10",
          "10",
          "10",
          "10",
          "10",
          "10",
          "10",
          "10",
          "10",
          "10",
          "10",
          "10",
          "10",
          "10",
          "10",
          "10",
          "10",
          "10",
          "10",
          "10",
          "10",
          "10",
          "10",
          "10",
          "10"
         ],
         "x0": " ",
         "xaxis": "x",
         "y": [
          53.94516129032258,
          54.08870967741935,
          55.75,
          58.737096774193546,
          58.150000000000006,
          55.57096774193548,
          58.25806451612903,
          57.78387096774193,
          58.46935483870968,
          58.829032258064515,
          54.38870967741936,
          58.774193548387096,
          59.54032258064516,
          57.86774193548386,
          61.37903225806452,
          55.58387096774193,
          53.943548387096776,
          63.05483870967742,
          54.45645161290323,
          58.15161290322581,
          59.440322580645166,
          57.961290322580645,
          56.579032258064515,
          60.182258064516134,
          61.43387096774194
         ],
         "y0": " ",
         "yaxis": "y"
        },
        {
         "alignmentgroup": "True",
         "hovertemplate": "Month=%{x}<br>AvgTemperature=%{y}<extra></extra>",
         "legendgroup": "11",
         "marker": {
          "color": "#636efa"
         },
         "name": "11",
         "notched": false,
         "offsetgroup": "11",
         "orientation": "v",
         "showlegend": true,
         "type": "box",
         "x": [
          "11",
          "11",
          "11",
          "11",
          "11",
          "11",
          "11",
          "11",
          "11",
          "11",
          "11",
          "11",
          "11",
          "11",
          "11",
          "11",
          "11",
          "11",
          "11",
          "11",
          "11",
          "11",
          "11",
          "11",
          "11"
         ],
         "x0": " ",
         "xaxis": "x",
         "y": [
          41.443333333333335,
          47.50833333333333,
          47.11,
          48.54333333333333,
          46.74166666666667,
          49.88,
          46.57666666666667,
          49.291666666666664,
          47.269999999999996,
          47.358333333333334,
          45.335,
          44.89333333333333,
          46.63333333333333,
          50.07666666666667,
          48.18666666666666,
          53.86,
          41.39833333333333,
          51.88,
          50.10333333333333,
          48.598333333333336,
          51.17166666666667,
          47.001724137931035,
          48.47833333333333,
          51.56111111111112,
          53.44833333333334
         ],
         "y0": " ",
         "yaxis": "y"
        },
        {
         "alignmentgroup": "True",
         "hovertemplate": "Month=%{x}<br>AvgTemperature=%{y}<extra></extra>",
         "legendgroup": "12",
         "marker": {
          "color": "#EF553B"
         },
         "name": "12",
         "notched": false,
         "offsetgroup": "12",
         "orientation": "v",
         "showlegend": true,
         "type": "box",
         "x": [
          "12",
          "12",
          "12",
          "12",
          "12",
          "12",
          "12",
          "12",
          "12",
          "12",
          "12",
          "12",
          "12",
          "12",
          "12",
          "12",
          "12",
          "12",
          "12",
          "12",
          "12",
          "12",
          "12",
          "12",
          "12"
         ],
         "x0": " ",
         "xaxis": "x",
         "y": [
          40.024193548387096,
          45.13548387096775,
          41.29354838709677,
          41.16851851851852,
          43.55806451612903,
          40.63870967741936,
          37.34032258064516,
          35.69193548387097,
          39.21451612903226,
          40.119354838709675,
          40.314516129032256,
          37.940322580645166,
          38.62903225806452,
          40.34032258064516,
          44.46935483870968,
          44.54032258064516,
          41.14032258064516,
          41.42903225806452,
          35.99032258064516,
          44.972580645161294,
          39.205000000000005,
          35.248387096774195,
          44.4241935483871,
          40.61451612903225,
          43.093548387096774
         ],
         "y0": " ",
         "yaxis": "y"
        }
       ],
       "layout": {
        "boxmode": "overlay",
        "legend": {
         "title": {
          "text": "Month"
         },
         "tracegroupgap": 0
        },
        "margin": {
         "t": 60
        },
        "template": {
         "data": {
          "bar": [
           {
            "error_x": {
             "color": "#2a3f5f"
            },
            "error_y": {
             "color": "#2a3f5f"
            },
            "marker": {
             "line": {
              "color": "#E5ECF6",
              "width": 0.5
             },
             "pattern": {
              "fillmode": "overlay",
              "size": 10,
              "solidity": 0.2
             }
            },
            "type": "bar"
           }
          ],
          "barpolar": [
           {
            "marker": {
             "line": {
              "color": "#E5ECF6",
              "width": 0.5
             },
             "pattern": {
              "fillmode": "overlay",
              "size": 10,
              "solidity": 0.2
             }
            },
            "type": "barpolar"
           }
          ],
          "carpet": [
           {
            "aaxis": {
             "endlinecolor": "#2a3f5f",
             "gridcolor": "white",
             "linecolor": "white",
             "minorgridcolor": "white",
             "startlinecolor": "#2a3f5f"
            },
            "baxis": {
             "endlinecolor": "#2a3f5f",
             "gridcolor": "white",
             "linecolor": "white",
             "minorgridcolor": "white",
             "startlinecolor": "#2a3f5f"
            },
            "type": "carpet"
           }
          ],
          "choropleth": [
           {
            "colorbar": {
             "outlinewidth": 0,
             "ticks": ""
            },
            "type": "choropleth"
           }
          ],
          "contour": [
           {
            "colorbar": {
             "outlinewidth": 0,
             "ticks": ""
            },
            "colorscale": [
             [
              0,
              "#0d0887"
             ],
             [
              0.1111111111111111,
              "#46039f"
             ],
             [
              0.2222222222222222,
              "#7201a8"
             ],
             [
              0.3333333333333333,
              "#9c179e"
             ],
             [
              0.4444444444444444,
              "#bd3786"
             ],
             [
              0.5555555555555556,
              "#d8576b"
             ],
             [
              0.6666666666666666,
              "#ed7953"
             ],
             [
              0.7777777777777778,
              "#fb9f3a"
             ],
             [
              0.8888888888888888,
              "#fdca26"
             ],
             [
              1,
              "#f0f921"
             ]
            ],
            "type": "contour"
           }
          ],
          "contourcarpet": [
           {
            "colorbar": {
             "outlinewidth": 0,
             "ticks": ""
            },
            "type": "contourcarpet"
           }
          ],
          "heatmap": [
           {
            "colorbar": {
             "outlinewidth": 0,
             "ticks": ""
            },
            "colorscale": [
             [
              0,
              "#0d0887"
             ],
             [
              0.1111111111111111,
              "#46039f"
             ],
             [
              0.2222222222222222,
              "#7201a8"
             ],
             [
              0.3333333333333333,
              "#9c179e"
             ],
             [
              0.4444444444444444,
              "#bd3786"
             ],
             [
              0.5555555555555556,
              "#d8576b"
             ],
             [
              0.6666666666666666,
              "#ed7953"
             ],
             [
              0.7777777777777778,
              "#fb9f3a"
             ],
             [
              0.8888888888888888,
              "#fdca26"
             ],
             [
              1,
              "#f0f921"
             ]
            ],
            "type": "heatmap"
           }
          ],
          "heatmapgl": [
           {
            "colorbar": {
             "outlinewidth": 0,
             "ticks": ""
            },
            "colorscale": [
             [
              0,
              "#0d0887"
             ],
             [
              0.1111111111111111,
              "#46039f"
             ],
             [
              0.2222222222222222,
              "#7201a8"
             ],
             [
              0.3333333333333333,
              "#9c179e"
             ],
             [
              0.4444444444444444,
              "#bd3786"
             ],
             [
              0.5555555555555556,
              "#d8576b"
             ],
             [
              0.6666666666666666,
              "#ed7953"
             ],
             [
              0.7777777777777778,
              "#fb9f3a"
             ],
             [
              0.8888888888888888,
              "#fdca26"
             ],
             [
              1,
              "#f0f921"
             ]
            ],
            "type": "heatmapgl"
           }
          ],
          "histogram": [
           {
            "marker": {
             "pattern": {
              "fillmode": "overlay",
              "size": 10,
              "solidity": 0.2
             }
            },
            "type": "histogram"
           }
          ],
          "histogram2d": [
           {
            "colorbar": {
             "outlinewidth": 0,
             "ticks": ""
            },
            "colorscale": [
             [
              0,
              "#0d0887"
             ],
             [
              0.1111111111111111,
              "#46039f"
             ],
             [
              0.2222222222222222,
              "#7201a8"
             ],
             [
              0.3333333333333333,
              "#9c179e"
             ],
             [
              0.4444444444444444,
              "#bd3786"
             ],
             [
              0.5555555555555556,
              "#d8576b"
             ],
             [
              0.6666666666666666,
              "#ed7953"
             ],
             [
              0.7777777777777778,
              "#fb9f3a"
             ],
             [
              0.8888888888888888,
              "#fdca26"
             ],
             [
              1,
              "#f0f921"
             ]
            ],
            "type": "histogram2d"
           }
          ],
          "histogram2dcontour": [
           {
            "colorbar": {
             "outlinewidth": 0,
             "ticks": ""
            },
            "colorscale": [
             [
              0,
              "#0d0887"
             ],
             [
              0.1111111111111111,
              "#46039f"
             ],
             [
              0.2222222222222222,
              "#7201a8"
             ],
             [
              0.3333333333333333,
              "#9c179e"
             ],
             [
              0.4444444444444444,
              "#bd3786"
             ],
             [
              0.5555555555555556,
              "#d8576b"
             ],
             [
              0.6666666666666666,
              "#ed7953"
             ],
             [
              0.7777777777777778,
              "#fb9f3a"
             ],
             [
              0.8888888888888888,
              "#fdca26"
             ],
             [
              1,
              "#f0f921"
             ]
            ],
            "type": "histogram2dcontour"
           }
          ],
          "mesh3d": [
           {
            "colorbar": {
             "outlinewidth": 0,
             "ticks": ""
            },
            "type": "mesh3d"
           }
          ],
          "parcoords": [
           {
            "line": {
             "colorbar": {
              "outlinewidth": 0,
              "ticks": ""
             }
            },
            "type": "parcoords"
           }
          ],
          "pie": [
           {
            "automargin": true,
            "type": "pie"
           }
          ],
          "scatter": [
           {
            "marker": {
             "colorbar": {
              "outlinewidth": 0,
              "ticks": ""
             }
            },
            "type": "scatter"
           }
          ],
          "scatter3d": [
           {
            "line": {
             "colorbar": {
              "outlinewidth": 0,
              "ticks": ""
             }
            },
            "marker": {
             "colorbar": {
              "outlinewidth": 0,
              "ticks": ""
             }
            },
            "type": "scatter3d"
           }
          ],
          "scattercarpet": [
           {
            "marker": {
             "colorbar": {
              "outlinewidth": 0,
              "ticks": ""
             }
            },
            "type": "scattercarpet"
           }
          ],
          "scattergeo": [
           {
            "marker": {
             "colorbar": {
              "outlinewidth": 0,
              "ticks": ""
             }
            },
            "type": "scattergeo"
           }
          ],
          "scattergl": [
           {
            "marker": {
             "colorbar": {
              "outlinewidth": 0,
              "ticks": ""
             }
            },
            "type": "scattergl"
           }
          ],
          "scattermapbox": [
           {
            "marker": {
             "colorbar": {
              "outlinewidth": 0,
              "ticks": ""
             }
            },
            "type": "scattermapbox"
           }
          ],
          "scatterpolar": [
           {
            "marker": {
             "colorbar": {
              "outlinewidth": 0,
              "ticks": ""
             }
            },
            "type": "scatterpolar"
           }
          ],
          "scatterpolargl": [
           {
            "marker": {
             "colorbar": {
              "outlinewidth": 0,
              "ticks": ""
             }
            },
            "type": "scatterpolargl"
           }
          ],
          "scatterternary": [
           {
            "marker": {
             "colorbar": {
              "outlinewidth": 0,
              "ticks": ""
             }
            },
            "type": "scatterternary"
           }
          ],
          "surface": [
           {
            "colorbar": {
             "outlinewidth": 0,
             "ticks": ""
            },
            "colorscale": [
             [
              0,
              "#0d0887"
             ],
             [
              0.1111111111111111,
              "#46039f"
             ],
             [
              0.2222222222222222,
              "#7201a8"
             ],
             [
              0.3333333333333333,
              "#9c179e"
             ],
             [
              0.4444444444444444,
              "#bd3786"
             ],
             [
              0.5555555555555556,
              "#d8576b"
             ],
             [
              0.6666666666666666,
              "#ed7953"
             ],
             [
              0.7777777777777778,
              "#fb9f3a"
             ],
             [
              0.8888888888888888,
              "#fdca26"
             ],
             [
              1,
              "#f0f921"
             ]
            ],
            "type": "surface"
           }
          ],
          "table": [
           {
            "cells": {
             "fill": {
              "color": "#EBF0F8"
             },
             "line": {
              "color": "white"
             }
            },
            "header": {
             "fill": {
              "color": "#C8D4E3"
             },
             "line": {
              "color": "white"
             }
            },
            "type": "table"
           }
          ]
         },
         "layout": {
          "annotationdefaults": {
           "arrowcolor": "#2a3f5f",
           "arrowhead": 0,
           "arrowwidth": 1
          },
          "autotypenumbers": "strict",
          "coloraxis": {
           "colorbar": {
            "outlinewidth": 0,
            "ticks": ""
           }
          },
          "colorscale": {
           "diverging": [
            [
             0,
             "#8e0152"
            ],
            [
             0.1,
             "#c51b7d"
            ],
            [
             0.2,
             "#de77ae"
            ],
            [
             0.3,
             "#f1b6da"
            ],
            [
             0.4,
             "#fde0ef"
            ],
            [
             0.5,
             "#f7f7f7"
            ],
            [
             0.6,
             "#e6f5d0"
            ],
            [
             0.7,
             "#b8e186"
            ],
            [
             0.8,
             "#7fbc41"
            ],
            [
             0.9,
             "#4d9221"
            ],
            [
             1,
             "#276419"
            ]
           ],
           "sequential": [
            [
             0,
             "#0d0887"
            ],
            [
             0.1111111111111111,
             "#46039f"
            ],
            [
             0.2222222222222222,
             "#7201a8"
            ],
            [
             0.3333333333333333,
             "#9c179e"
            ],
            [
             0.4444444444444444,
             "#bd3786"
            ],
            [
             0.5555555555555556,
             "#d8576b"
            ],
            [
             0.6666666666666666,
             "#ed7953"
            ],
            [
             0.7777777777777778,
             "#fb9f3a"
            ],
            [
             0.8888888888888888,
             "#fdca26"
            ],
            [
             1,
             "#f0f921"
            ]
           ],
           "sequentialminus": [
            [
             0,
             "#0d0887"
            ],
            [
             0.1111111111111111,
             "#46039f"
            ],
            [
             0.2222222222222222,
             "#7201a8"
            ],
            [
             0.3333333333333333,
             "#9c179e"
            ],
            [
             0.4444444444444444,
             "#bd3786"
            ],
            [
             0.5555555555555556,
             "#d8576b"
            ],
            [
             0.6666666666666666,
             "#ed7953"
            ],
            [
             0.7777777777777778,
             "#fb9f3a"
            ],
            [
             0.8888888888888888,
             "#fdca26"
            ],
            [
             1,
             "#f0f921"
            ]
           ]
          },
          "colorway": [
           "#636efa",
           "#EF553B",
           "#00cc96",
           "#ab63fa",
           "#FFA15A",
           "#19d3f3",
           "#FF6692",
           "#B6E880",
           "#FF97FF",
           "#FECB52"
          ],
          "font": {
           "color": "#2a3f5f"
          },
          "geo": {
           "bgcolor": "white",
           "lakecolor": "white",
           "landcolor": "#E5ECF6",
           "showlakes": true,
           "showland": true,
           "subunitcolor": "white"
          },
          "hoverlabel": {
           "align": "left"
          },
          "hovermode": "closest",
          "mapbox": {
           "style": "light"
          },
          "paper_bgcolor": "white",
          "plot_bgcolor": "#E5ECF6",
          "polar": {
           "angularaxis": {
            "gridcolor": "white",
            "linecolor": "white",
            "ticks": ""
           },
           "bgcolor": "#E5ECF6",
           "radialaxis": {
            "gridcolor": "white",
            "linecolor": "white",
            "ticks": ""
           }
          },
          "scene": {
           "xaxis": {
            "backgroundcolor": "#E5ECF6",
            "gridcolor": "white",
            "gridwidth": 2,
            "linecolor": "white",
            "showbackground": true,
            "ticks": "",
            "zerolinecolor": "white"
           },
           "yaxis": {
            "backgroundcolor": "#E5ECF6",
            "gridcolor": "white",
            "gridwidth": 2,
            "linecolor": "white",
            "showbackground": true,
            "ticks": "",
            "zerolinecolor": "white"
           },
           "zaxis": {
            "backgroundcolor": "#E5ECF6",
            "gridcolor": "white",
            "gridwidth": 2,
            "linecolor": "white",
            "showbackground": true,
            "ticks": "",
            "zerolinecolor": "white"
           }
          },
          "shapedefaults": {
           "line": {
            "color": "#2a3f5f"
           }
          },
          "ternary": {
           "aaxis": {
            "gridcolor": "white",
            "linecolor": "white",
            "ticks": ""
           },
           "baxis": {
            "gridcolor": "white",
            "linecolor": "white",
            "ticks": ""
           },
           "bgcolor": "#E5ECF6",
           "caxis": {
            "gridcolor": "white",
            "linecolor": "white",
            "ticks": ""
           }
          },
          "title": {
           "x": 0.05
          },
          "xaxis": {
           "automargin": true,
           "gridcolor": "white",
           "linecolor": "white",
           "ticks": "",
           "title": {
            "standoff": 15
           },
           "zerolinecolor": "white",
           "zerolinewidth": 2
          },
          "yaxis": {
           "automargin": true,
           "gridcolor": "white",
           "linecolor": "white",
           "ticks": "",
           "title": {
            "standoff": 15
           },
           "zerolinecolor": "white",
           "zerolinewidth": 2
          }
         }
        },
        "xaxis": {
         "anchor": "y",
         "categoryarray": [
          "1",
          "2",
          "3",
          "4",
          "5",
          "6",
          "7",
          "8",
          "9",
          "10",
          "11",
          "12"
         ],
         "categoryorder": "array",
         "domain": [
          0,
          1
         ],
         "title": {
          "text": "Month"
         }
        },
        "yaxis": {
         "anchor": "x",
         "domain": [
          0,
          1
         ],
         "title": {
          "text": "AvgTemperature"
         }
        }
       }
      },
      "text/html": [
       "<div>                            <div id=\"90453c59-fcef-4812-bf09-8c2a50c32fb7\" class=\"plotly-graph-div\" style=\"height:525px; width:100%;\"></div>            <script type=\"text/javascript\">                require([\"plotly\"], function(Plotly) {                    window.PLOTLYENV=window.PLOTLYENV || {};                                    if (document.getElementById(\"90453c59-fcef-4812-bf09-8c2a50c32fb7\")) {                    Plotly.newPlot(                        \"90453c59-fcef-4812-bf09-8c2a50c32fb7\",                        [{\"alignmentgroup\":\"True\",\"hovertemplate\":\"Month=%{x}<br>AvgTemperature=%{y}<extra></extra>\",\"legendgroup\":\"1\",\"marker\":{\"color\":\"#636efa\"},\"name\":\"1\",\"notched\":false,\"offsetgroup\":\"1\",\"orientation\":\"v\",\"showlegend\":true,\"type\":\"box\",\"x\":[\"1\",\"1\",\"1\",\"1\",\"1\",\"1\",\"1\",\"1\",\"1\",\"1\",\"1\",\"1\",\"1\",\"1\",\"1\",\"1\",\"1\",\"1\",\"1\",\"1\",\"1\",\"1\",\"1\",\"1\",\"1\"],\"x0\":\" \",\"xaxis\":\"x\",\"y\":[38.78225806451613,36.10645161290322,38.167741935483875,37.972580645161294,39.14833333333333,30.020967741935483,40.3,30.638709677419353,42.58524590163934,34.94193548387097,39.49516129032258,32.30483870967742,39.251612903225805,29.343548387096774,39.03709677419355,38.975806451612904,38.55,33.28709677419355,39.42258064516129,41.28064516129032,37.82096774193548,36.5,32.29354838709678,40.998360655737706,38.88],\"y0\":\" \",\"yaxis\":\"y\"},{\"alignmentgroup\":\"True\",\"hovertemplate\":\"Month=%{x}<br>AvgTemperature=%{y}<extra></extra>\",\"legendgroup\":\"2\",\"marker\":{\"color\":\"#EF553B\"},\"name\":\"2\",\"notched\":false,\"offsetgroup\":\"2\",\"orientation\":\"v\",\"showlegend\":true,\"type\":\"box\",\"x\":[\"2\",\"2\",\"2\",\"2\",\"2\",\"2\",\"2\",\"2\",\"2\",\"2\",\"2\",\"2\",\"2\",\"2\",\"2\",\"2\",\"2\",\"2\",\"2\",\"2\",\"2\",\"2\",\"2\",\"2\",\"2\"],\"x0\":\" \",\"xaxis\":\"x\",\"y\":[41.114285714285714,38.891379310344824,35.06071428571428,38.771428571428565,39.36607142857143,35.15,41.04821428571428,42.37678571428571,32.95178571428571,37.922413793103445,37.848214285714285,34.975,39.36785714285714,34.94827586206897,40.776785714285715,43.669642857142854,38.81428571428571,30.467241379310344,43.42142857142857,43.86666666666667,40.25892857142857,46.31206896551724,39.09464285714286,44.00714285714286,41.496428571428574],\"y0\":\" \",\"yaxis\":\"y\"},{\"alignmentgroup\":\"True\",\"hovertemplate\":\"Month=%{x}<br>AvgTemperature=%{y}<extra></extra>\",\"legendgroup\":\"3\",\"marker\":{\"color\":\"#00cc96\"},\"name\":\"3\",\"notched\":false,\"offsetgroup\":\"3\",\"orientation\":\"v\",\"showlegend\":true,\"type\":\"box\",\"x\":[\"3\",\"3\",\"3\",\"3\",\"3\",\"3\",\"3\",\"3\",\"3\",\"3\",\"3\",\"3\",\"3\",\"3\",\"3\",\"3\",\"3\",\"3\",\"3\",\"3\",\"3\",\"3\",\"3\",\"3\",\"3\"],\"x0\":\" \",\"xaxis\":\"x\",\"y\":[44.432258064516134,38.67258064516129,38.66612903225807,39.21290322580645,44.35967741935484,41.40161290322581,51.60322580645161,46.653225806451616,38.20967741935484,44.524193548387096,42.46935483870968,44.79516129032258,45.20161290322581,49.50645161290323,42.96451612903226,45.650000000000006,42.440322580645166,39.900000000000006,46.9483870967742,47.75322580645161,45.4241935483871,47.885,46.86290322580645,49.43064516129032,46.13709677419355],\"y0\":\" \",\"yaxis\":\"y\"},{\"alignmentgroup\":\"True\",\"hovertemplate\":\"Month=%{x}<br>AvgTemperature=%{y}<extra></extra>\",\"legendgroup\":\"4\",\"marker\":{\"color\":\"#ab63fa\"},\"name\":\"4\",\"notched\":false,\"offsetgroup\":\"4\",\"orientation\":\"v\",\"showlegend\":true,\"type\":\"box\",\"x\":[\"4\",\"4\",\"4\",\"4\",\"4\",\"4\",\"4\",\"4\",\"4\",\"4\",\"4\",\"4\",\"4\",\"4\",\"4\",\"4\",\"4\",\"4\",\"4\",\"4\",\"4\",\"4\",\"4\",\"4\",\"4\"],\"x0\":\" \",\"xaxis\":\"x\",\"y\":[49.89333333333333,47.358333333333334,45.458333333333336,54.61333333333334,53.55,55.25,53.876666666666665,50.434999999999995,48.440000000000005,51.65833333333333,52.035,53.623333333333335,49.05333333333333,55.858333333333334,51.01379310344828,53.14333333333333,48.434999999999995,56.169999999999995,54.656666666666666,55.17666666666666,49.46666666666667,57.80333333333333,52.184999999999995,57.41833333333333,51.550000000000004],\"y0\":\" \",\"yaxis\":\"y\"},{\"alignmentgroup\":\"True\",\"hovertemplate\":\"Month=%{x}<br>AvgTemperature=%{y}<extra></extra>\",\"legendgroup\":\"5\",\"marker\":{\"color\":\"#FFA15A\"},\"name\":\"5\",\"notched\":false,\"offsetgroup\":\"5\",\"orientation\":\"v\",\"showlegend\":true,\"type\":\"box\",\"x\":[\"5\",\"5\",\"5\",\"5\",\"5\",\"5\",\"5\",\"5\",\"5\",\"5\",\"5\",\"5\",\"5\",\"5\",\"5\",\"5\",\"5\",\"5\",\"5\",\"5\",\"5\",\"5\",\"5\",\"5\",\"5\"],\"x0\":\" \",\"xaxis\":\"x\",\"y\":[60.84838709677419,62.93709677419355,60.69838709677419,60.12580645161291,60.653225806451616,59.45645161290323,58.86451612903225,60.89677419354839,63.37096774193548,59.18387096774194,60.248387096774195,60.66290322580645,65.74677419354839,60.346774193548384,60.733870967741936,62.998387096774195,58.61612903225806,61.803225806451614,65.43225806451612,61.849999999999994,62.900000000000006,60.80333333333333,60.57741935483871,64.30322580645162,63.38148148148148],\"y0\":\" \",\"yaxis\":\"y\"},{\"alignmentgroup\":\"True\",\"hovertemplate\":\"Month=%{x}<br>AvgTemperature=%{y}<extra></extra>\",\"legendgroup\":\"6\",\"marker\":{\"color\":\"#19d3f3\"},\"name\":\"6\",\"notched\":false,\"offsetgroup\":\"6\",\"orientation\":\"v\",\"showlegend\":true,\"type\":\"box\",\"x\":[\"6\",\"6\",\"6\",\"6\",\"6\",\"6\",\"6\",\"6\",\"6\",\"6\",\"6\",\"6\",\"6\",\"6\",\"6\",\"6\",\"6\",\"6\",\"6\",\"6\",\"6\",\"6\",\"6\",\"6\",\"6\"],\"x0\":\" \",\"xaxis\":\"x\",\"y\":[70.265,67.105,67.725,68.91833333333334,68.40666666666667,67.19666666666667,68.88333333333334,70.01153846153846,71.015,66.96666666666667,66.41333333333334,69.90166666666667,72.90833333333333,70.68666666666667,70.61,69.66499999999999,67.44333333333333,73.01333333333334,70.91333333333334,68.36833333333334,67.20166666666667,71.64,69.56,71.31,72.70833333333333],\"y0\":\" \",\"yaxis\":\"y\"},{\"alignmentgroup\":\"True\",\"hovertemplate\":\"Month=%{x}<br>AvgTemperature=%{y}<extra></extra>\",\"legendgroup\":\"7\",\"marker\":{\"color\":\"#FF6692\"},\"name\":\"7\",\"notched\":false,\"offsetgroup\":\"7\",\"orientation\":\"v\",\"showlegend\":true,\"type\":\"box\",\"x\":[\"7\",\"7\",\"7\",\"7\",\"7\",\"7\",\"7\",\"7\",\"7\",\"7\",\"7\",\"7\",\"7\",\"7\",\"7\",\"7\",\"7\",\"7\",\"7\",\"7\",\"7\",\"7\",\"7\",\"7\",\"7\"],\"x0\":\" \",\"xaxis\":\"x\",\"y\":[71.4,74.5241935483871,72.05322580645162,74.7290322580645,75.4483870967742,76.68709677419355,77.61451612903227,76.94354838709677,74.08870967741936,72.95645161290322,75.04838709677419,73.23387096774194,77.8258064516129,75.09032258064516,74.76774193548388,76.15322580645162,76.5241935483871,78.48064516129033,74.41774193548386,76.29354838709678,75.5,76.3741935483871,76.34516129032258,76.5741935483871,73.59677419354838],\"y0\":\" \",\"yaxis\":\"y\"},{\"alignmentgroup\":\"True\",\"hovertemplate\":\"Month=%{x}<br>AvgTemperature=%{y}<extra></extra>\",\"legendgroup\":\"8\",\"marker\":{\"color\":\"#B6E880\"},\"name\":\"8\",\"notched\":false,\"offsetgroup\":\"8\",\"orientation\":\"v\",\"showlegend\":true,\"type\":\"box\",\"x\":[\"8\",\"8\",\"8\",\"8\",\"8\",\"8\",\"8\",\"8\",\"8\",\"8\",\"8\",\"8\",\"8\",\"8\",\"8\",\"8\",\"8\",\"8\",\"8\",\"8\",\"8\",\"8\",\"8\",\"8\",\"8\"],\"x0\":\" \",\"xaxis\":\"x\",\"y\":[73.29354838709678,73.19999999999999,69.48064516129033,75.82903225806452,74.74354838709678,73.38870967741936,76.15,72.65483870967742,75.85645161290323,72.61774193548388,76.47419354838709,79.18870967741935,78.17833333333333,77.6,73.44354838709677,80.3241935483871,73.58064516129032,75.10967741935484,76.09516129032258,77.62903225806451,76.8967741935484,77.20645161290322,76.20645161290322,77.80322580645162,75.33709677419354],\"y0\":\" \",\"yaxis\":\"y\"},{\"alignmentgroup\":\"True\",\"hovertemplate\":\"Month=%{x}<br>AvgTemperature=%{y}<extra></extra>\",\"legendgroup\":\"9\",\"marker\":{\"color\":\"#FF97FF\"},\"name\":\"9\",\"notched\":false,\"offsetgroup\":\"9\",\"orientation\":\"v\",\"showlegend\":true,\"type\":\"box\",\"x\":[\"9\",\"9\",\"9\",\"9\",\"9\",\"9\",\"9\",\"9\",\"9\",\"9\",\"9\",\"9\",\"9\",\"9\",\"9\",\"9\",\"9\",\"9\",\"9\",\"9\",\"9\",\"9\",\"9\",\"9\",\"9\"],\"x0\":\" \",\"xaxis\":\"x\",\"y\":[66.33166666666666,63.515,60.855000000000004,66.10333333333332,66.32333333333334,65.99833333333333,69.16333333333334,66.18333333333334,64.91666666666667,66.66666666666667,66.58666666666666,66.09666666666666,68.09166666666667,67.71551724137932,65.57333333333334,70.03,69.01833333333335,70.24833333333332,66.49833333333333,67.90666666666667,72.84166666666667,68.37241379310345,71.72666666666667,69.02666666666667,68.37666666666668],\"y0\":\" \",\"yaxis\":\"y\"},{\"alignmentgroup\":\"True\",\"hovertemplate\":\"Month=%{x}<br>AvgTemperature=%{y}<extra></extra>\",\"legendgroup\":\"10\",\"marker\":{\"color\":\"#FECB52\"},\"name\":\"10\",\"notched\":false,\"offsetgroup\":\"10\",\"orientation\":\"v\",\"showlegend\":true,\"type\":\"box\",\"x\":[\"10\",\"10\",\"10\",\"10\",\"10\",\"10\",\"10\",\"10\",\"10\",\"10\",\"10\",\"10\",\"10\",\"10\",\"10\",\"10\",\"10\",\"10\",\"10\",\"10\",\"10\",\"10\",\"10\",\"10\",\"10\"],\"x0\":\" \",\"xaxis\":\"x\",\"y\":[53.94516129032258,54.08870967741935,55.75,58.737096774193546,58.150000000000006,55.57096774193548,58.25806451612903,57.78387096774193,58.46935483870968,58.829032258064515,54.38870967741936,58.774193548387096,59.54032258064516,57.86774193548386,61.37903225806452,55.58387096774193,53.943548387096776,63.05483870967742,54.45645161290323,58.15161290322581,59.440322580645166,57.961290322580645,56.579032258064515,60.182258064516134,61.43387096774194],\"y0\":\" \",\"yaxis\":\"y\"},{\"alignmentgroup\":\"True\",\"hovertemplate\":\"Month=%{x}<br>AvgTemperature=%{y}<extra></extra>\",\"legendgroup\":\"11\",\"marker\":{\"color\":\"#636efa\"},\"name\":\"11\",\"notched\":false,\"offsetgroup\":\"11\",\"orientation\":\"v\",\"showlegend\":true,\"type\":\"box\",\"x\":[\"11\",\"11\",\"11\",\"11\",\"11\",\"11\",\"11\",\"11\",\"11\",\"11\",\"11\",\"11\",\"11\",\"11\",\"11\",\"11\",\"11\",\"11\",\"11\",\"11\",\"11\",\"11\",\"11\",\"11\",\"11\"],\"x0\":\" \",\"xaxis\":\"x\",\"y\":[41.443333333333335,47.50833333333333,47.11,48.54333333333333,46.74166666666667,49.88,46.57666666666667,49.291666666666664,47.269999999999996,47.358333333333334,45.335,44.89333333333333,46.63333333333333,50.07666666666667,48.18666666666666,53.86,41.39833333333333,51.88,50.10333333333333,48.598333333333336,51.17166666666667,47.001724137931035,48.47833333333333,51.56111111111112,53.44833333333334],\"y0\":\" \",\"yaxis\":\"y\"},{\"alignmentgroup\":\"True\",\"hovertemplate\":\"Month=%{x}<br>AvgTemperature=%{y}<extra></extra>\",\"legendgroup\":\"12\",\"marker\":{\"color\":\"#EF553B\"},\"name\":\"12\",\"notched\":false,\"offsetgroup\":\"12\",\"orientation\":\"v\",\"showlegend\":true,\"type\":\"box\",\"x\":[\"12\",\"12\",\"12\",\"12\",\"12\",\"12\",\"12\",\"12\",\"12\",\"12\",\"12\",\"12\",\"12\",\"12\",\"12\",\"12\",\"12\",\"12\",\"12\",\"12\",\"12\",\"12\",\"12\",\"12\",\"12\"],\"x0\":\" \",\"xaxis\":\"x\",\"y\":[40.024193548387096,45.13548387096775,41.29354838709677,41.16851851851852,43.55806451612903,40.63870967741936,37.34032258064516,35.69193548387097,39.21451612903226,40.119354838709675,40.314516129032256,37.940322580645166,38.62903225806452,40.34032258064516,44.46935483870968,44.54032258064516,41.14032258064516,41.42903225806452,35.99032258064516,44.972580645161294,39.205000000000005,35.248387096774195,44.4241935483871,40.61451612903225,43.093548387096774],\"y0\":\" \",\"yaxis\":\"y\"}],                        {\"boxmode\":\"overlay\",\"legend\":{\"title\":{\"text\":\"Month\"},\"tracegroupgap\":0},\"margin\":{\"t\":60},\"template\":{\"data\":{\"bar\":[{\"error_x\":{\"color\":\"#2a3f5f\"},\"error_y\":{\"color\":\"#2a3f5f\"},\"marker\":{\"line\":{\"color\":\"#E5ECF6\",\"width\":0.5},\"pattern\":{\"fillmode\":\"overlay\",\"size\":10,\"solidity\":0.2}},\"type\":\"bar\"}],\"barpolar\":[{\"marker\":{\"line\":{\"color\":\"#E5ECF6\",\"width\":0.5},\"pattern\":{\"fillmode\":\"overlay\",\"size\":10,\"solidity\":0.2}},\"type\":\"barpolar\"}],\"carpet\":[{\"aaxis\":{\"endlinecolor\":\"#2a3f5f\",\"gridcolor\":\"white\",\"linecolor\":\"white\",\"minorgridcolor\":\"white\",\"startlinecolor\":\"#2a3f5f\"},\"baxis\":{\"endlinecolor\":\"#2a3f5f\",\"gridcolor\":\"white\",\"linecolor\":\"white\",\"minorgridcolor\":\"white\",\"startlinecolor\":\"#2a3f5f\"},\"type\":\"carpet\"}],\"choropleth\":[{\"colorbar\":{\"outlinewidth\":0,\"ticks\":\"\"},\"type\":\"choropleth\"}],\"contour\":[{\"colorbar\":{\"outlinewidth\":0,\"ticks\":\"\"},\"colorscale\":[[0.0,\"#0d0887\"],[0.1111111111111111,\"#46039f\"],[0.2222222222222222,\"#7201a8\"],[0.3333333333333333,\"#9c179e\"],[0.4444444444444444,\"#bd3786\"],[0.5555555555555556,\"#d8576b\"],[0.6666666666666666,\"#ed7953\"],[0.7777777777777778,\"#fb9f3a\"],[0.8888888888888888,\"#fdca26\"],[1.0,\"#f0f921\"]],\"type\":\"contour\"}],\"contourcarpet\":[{\"colorbar\":{\"outlinewidth\":0,\"ticks\":\"\"},\"type\":\"contourcarpet\"}],\"heatmap\":[{\"colorbar\":{\"outlinewidth\":0,\"ticks\":\"\"},\"colorscale\":[[0.0,\"#0d0887\"],[0.1111111111111111,\"#46039f\"],[0.2222222222222222,\"#7201a8\"],[0.3333333333333333,\"#9c179e\"],[0.4444444444444444,\"#bd3786\"],[0.5555555555555556,\"#d8576b\"],[0.6666666666666666,\"#ed7953\"],[0.7777777777777778,\"#fb9f3a\"],[0.8888888888888888,\"#fdca26\"],[1.0,\"#f0f921\"]],\"type\":\"heatmap\"}],\"heatmapgl\":[{\"colorbar\":{\"outlinewidth\":0,\"ticks\":\"\"},\"colorscale\":[[0.0,\"#0d0887\"],[0.1111111111111111,\"#46039f\"],[0.2222222222222222,\"#7201a8\"],[0.3333333333333333,\"#9c179e\"],[0.4444444444444444,\"#bd3786\"],[0.5555555555555556,\"#d8576b\"],[0.6666666666666666,\"#ed7953\"],[0.7777777777777778,\"#fb9f3a\"],[0.8888888888888888,\"#fdca26\"],[1.0,\"#f0f921\"]],\"type\":\"heatmapgl\"}],\"histogram\":[{\"marker\":{\"pattern\":{\"fillmode\":\"overlay\",\"size\":10,\"solidity\":0.2}},\"type\":\"histogram\"}],\"histogram2d\":[{\"colorbar\":{\"outlinewidth\":0,\"ticks\":\"\"},\"colorscale\":[[0.0,\"#0d0887\"],[0.1111111111111111,\"#46039f\"],[0.2222222222222222,\"#7201a8\"],[0.3333333333333333,\"#9c179e\"],[0.4444444444444444,\"#bd3786\"],[0.5555555555555556,\"#d8576b\"],[0.6666666666666666,\"#ed7953\"],[0.7777777777777778,\"#fb9f3a\"],[0.8888888888888888,\"#fdca26\"],[1.0,\"#f0f921\"]],\"type\":\"histogram2d\"}],\"histogram2dcontour\":[{\"colorbar\":{\"outlinewidth\":0,\"ticks\":\"\"},\"colorscale\":[[0.0,\"#0d0887\"],[0.1111111111111111,\"#46039f\"],[0.2222222222222222,\"#7201a8\"],[0.3333333333333333,\"#9c179e\"],[0.4444444444444444,\"#bd3786\"],[0.5555555555555556,\"#d8576b\"],[0.6666666666666666,\"#ed7953\"],[0.7777777777777778,\"#fb9f3a\"],[0.8888888888888888,\"#fdca26\"],[1.0,\"#f0f921\"]],\"type\":\"histogram2dcontour\"}],\"mesh3d\":[{\"colorbar\":{\"outlinewidth\":0,\"ticks\":\"\"},\"type\":\"mesh3d\"}],\"parcoords\":[{\"line\":{\"colorbar\":{\"outlinewidth\":0,\"ticks\":\"\"}},\"type\":\"parcoords\"}],\"pie\":[{\"automargin\":true,\"type\":\"pie\"}],\"scatter\":[{\"marker\":{\"colorbar\":{\"outlinewidth\":0,\"ticks\":\"\"}},\"type\":\"scatter\"}],\"scatter3d\":[{\"line\":{\"colorbar\":{\"outlinewidth\":0,\"ticks\":\"\"}},\"marker\":{\"colorbar\":{\"outlinewidth\":0,\"ticks\":\"\"}},\"type\":\"scatter3d\"}],\"scattercarpet\":[{\"marker\":{\"colorbar\":{\"outlinewidth\":0,\"ticks\":\"\"}},\"type\":\"scattercarpet\"}],\"scattergeo\":[{\"marker\":{\"colorbar\":{\"outlinewidth\":0,\"ticks\":\"\"}},\"type\":\"scattergeo\"}],\"scattergl\":[{\"marker\":{\"colorbar\":{\"outlinewidth\":0,\"ticks\":\"\"}},\"type\":\"scattergl\"}],\"scattermapbox\":[{\"marker\":{\"colorbar\":{\"outlinewidth\":0,\"ticks\":\"\"}},\"type\":\"scattermapbox\"}],\"scatterpolar\":[{\"marker\":{\"colorbar\":{\"outlinewidth\":0,\"ticks\":\"\"}},\"type\":\"scatterpolar\"}],\"scatterpolargl\":[{\"marker\":{\"colorbar\":{\"outlinewidth\":0,\"ticks\":\"\"}},\"type\":\"scatterpolargl\"}],\"scatterternary\":[{\"marker\":{\"colorbar\":{\"outlinewidth\":0,\"ticks\":\"\"}},\"type\":\"scatterternary\"}],\"surface\":[{\"colorbar\":{\"outlinewidth\":0,\"ticks\":\"\"},\"colorscale\":[[0.0,\"#0d0887\"],[0.1111111111111111,\"#46039f\"],[0.2222222222222222,\"#7201a8\"],[0.3333333333333333,\"#9c179e\"],[0.4444444444444444,\"#bd3786\"],[0.5555555555555556,\"#d8576b\"],[0.6666666666666666,\"#ed7953\"],[0.7777777777777778,\"#fb9f3a\"],[0.8888888888888888,\"#fdca26\"],[1.0,\"#f0f921\"]],\"type\":\"surface\"}],\"table\":[{\"cells\":{\"fill\":{\"color\":\"#EBF0F8\"},\"line\":{\"color\":\"white\"}},\"header\":{\"fill\":{\"color\":\"#C8D4E3\"},\"line\":{\"color\":\"white\"}},\"type\":\"table\"}]},\"layout\":{\"annotationdefaults\":{\"arrowcolor\":\"#2a3f5f\",\"arrowhead\":0,\"arrowwidth\":1},\"autotypenumbers\":\"strict\",\"coloraxis\":{\"colorbar\":{\"outlinewidth\":0,\"ticks\":\"\"}},\"colorscale\":{\"diverging\":[[0,\"#8e0152\"],[0.1,\"#c51b7d\"],[0.2,\"#de77ae\"],[0.3,\"#f1b6da\"],[0.4,\"#fde0ef\"],[0.5,\"#f7f7f7\"],[0.6,\"#e6f5d0\"],[0.7,\"#b8e186\"],[0.8,\"#7fbc41\"],[0.9,\"#4d9221\"],[1,\"#276419\"]],\"sequential\":[[0.0,\"#0d0887\"],[0.1111111111111111,\"#46039f\"],[0.2222222222222222,\"#7201a8\"],[0.3333333333333333,\"#9c179e\"],[0.4444444444444444,\"#bd3786\"],[0.5555555555555556,\"#d8576b\"],[0.6666666666666666,\"#ed7953\"],[0.7777777777777778,\"#fb9f3a\"],[0.8888888888888888,\"#fdca26\"],[1.0,\"#f0f921\"]],\"sequentialminus\":[[0.0,\"#0d0887\"],[0.1111111111111111,\"#46039f\"],[0.2222222222222222,\"#7201a8\"],[0.3333333333333333,\"#9c179e\"],[0.4444444444444444,\"#bd3786\"],[0.5555555555555556,\"#d8576b\"],[0.6666666666666666,\"#ed7953\"],[0.7777777777777778,\"#fb9f3a\"],[0.8888888888888888,\"#fdca26\"],[1.0,\"#f0f921\"]]},\"colorway\":[\"#636efa\",\"#EF553B\",\"#00cc96\",\"#ab63fa\",\"#FFA15A\",\"#19d3f3\",\"#FF6692\",\"#B6E880\",\"#FF97FF\",\"#FECB52\"],\"font\":{\"color\":\"#2a3f5f\"},\"geo\":{\"bgcolor\":\"white\",\"lakecolor\":\"white\",\"landcolor\":\"#E5ECF6\",\"showlakes\":true,\"showland\":true,\"subunitcolor\":\"white\"},\"hoverlabel\":{\"align\":\"left\"},\"hovermode\":\"closest\",\"mapbox\":{\"style\":\"light\"},\"paper_bgcolor\":\"white\",\"plot_bgcolor\":\"#E5ECF6\",\"polar\":{\"angularaxis\":{\"gridcolor\":\"white\",\"linecolor\":\"white\",\"ticks\":\"\"},\"bgcolor\":\"#E5ECF6\",\"radialaxis\":{\"gridcolor\":\"white\",\"linecolor\":\"white\",\"ticks\":\"\"}},\"scene\":{\"xaxis\":{\"backgroundcolor\":\"#E5ECF6\",\"gridcolor\":\"white\",\"gridwidth\":2,\"linecolor\":\"white\",\"showbackground\":true,\"ticks\":\"\",\"zerolinecolor\":\"white\"},\"yaxis\":{\"backgroundcolor\":\"#E5ECF6\",\"gridcolor\":\"white\",\"gridwidth\":2,\"linecolor\":\"white\",\"showbackground\":true,\"ticks\":\"\",\"zerolinecolor\":\"white\"},\"zaxis\":{\"backgroundcolor\":\"#E5ECF6\",\"gridcolor\":\"white\",\"gridwidth\":2,\"linecolor\":\"white\",\"showbackground\":true,\"ticks\":\"\",\"zerolinecolor\":\"white\"}},\"shapedefaults\":{\"line\":{\"color\":\"#2a3f5f\"}},\"ternary\":{\"aaxis\":{\"gridcolor\":\"white\",\"linecolor\":\"white\",\"ticks\":\"\"},\"baxis\":{\"gridcolor\":\"white\",\"linecolor\":\"white\",\"ticks\":\"\"},\"bgcolor\":\"#E5ECF6\",\"caxis\":{\"gridcolor\":\"white\",\"linecolor\":\"white\",\"ticks\":\"\"}},\"title\":{\"x\":0.05},\"xaxis\":{\"automargin\":true,\"gridcolor\":\"white\",\"linecolor\":\"white\",\"ticks\":\"\",\"title\":{\"standoff\":15},\"zerolinecolor\":\"white\",\"zerolinewidth\":2},\"yaxis\":{\"automargin\":true,\"gridcolor\":\"white\",\"linecolor\":\"white\",\"ticks\":\"\",\"title\":{\"standoff\":15},\"zerolinecolor\":\"white\",\"zerolinewidth\":2}}},\"xaxis\":{\"anchor\":\"y\",\"categoryarray\":[\"1\",\"2\",\"3\",\"4\",\"5\",\"6\",\"7\",\"8\",\"9\",\"10\",\"11\",\"12\"],\"categoryorder\":\"array\",\"domain\":[0.0,1.0],\"title\":{\"text\":\"Month\"}},\"yaxis\":{\"anchor\":\"x\",\"domain\":[0.0,1.0],\"title\":{\"text\":\"AvgTemperature\"}}},                        {\"responsive\": true}                    ).then(function(){\n",
       "                            \n",
       "var gd = document.getElementById('90453c59-fcef-4812-bf09-8c2a50c32fb7');\n",
       "var x = new MutationObserver(function (mutations, observer) {{\n",
       "        var display = window.getComputedStyle(gd).display;\n",
       "        if (!display || display === 'none') {{\n",
       "            console.log([gd, 'removed!']);\n",
       "            Plotly.purge(gd);\n",
       "            observer.disconnect();\n",
       "        }}\n",
       "}});\n",
       "\n",
       "// Listen for the removal of the full notebook cells\n",
       "var notebookContainer = gd.closest('#notebook-container');\n",
       "if (notebookContainer) {{\n",
       "    x.observe(notebookContainer, {childList: true});\n",
       "}}\n",
       "\n",
       "// Listen for the clearing of the current output cell\n",
       "var outputEl = gd.closest('.output');\n",
       "if (outputEl) {{\n",
       "    x.observe(outputEl, {childList: true});\n",
       "}}\n",
       "\n",
       "                        })                };                });            </script>        </div>"
      ]
     },
     "metadata": {},
     "output_type": "display_data"
    }
   ],
   "source": [
    "fig = px.box(Turkey, x = 'Month', y = 'AvgTemperature', color='Month')\n",
    "fig.show()"
   ]
  },
  {
   "cell_type": "markdown",
   "id": "92e78e27",
   "metadata": {},
   "source": []
  }
 ],
 "metadata": {
  "kernelspec": {
   "display_name": "Python 3",
   "language": "python",
   "name": "python3"
  },
  "language_info": {
   "codemirror_mode": {
    "name": "ipython",
    "version": 3
   },
   "file_extension": ".py",
   "mimetype": "text/x-python",
   "name": "python",
   "nbconvert_exporter": "python",
   "pygments_lexer": "ipython3",
   "version": "3.8.8"
  }
 },
 "nbformat": 4,
 "nbformat_minor": 5
}
